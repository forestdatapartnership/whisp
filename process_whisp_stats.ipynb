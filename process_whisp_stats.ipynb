{
 "cells": [
  {
   "cell_type": "markdown",
   "id": "e97722e4-093c-49de-ad9e-b3db397b6602",
   "metadata": {
    "editable": true,
    "slideshow": {
     "slide_type": ""
    },
    "tags": []
   },
   "source": [
    "### Process stats for multiband image\n",
    "Temporary supporting notebook i.e., not intended for use on it's own. Instead it is called from the other notebooks. Only whilst some of the processing chain undergoes changes after which it will be replaced by a python script eventually."
   ]
  },
  {
   "cell_type": "code",
   "execution_count": null,
   "id": "db98a657-94b9-4599-afcf-0b9a83bed887",
   "metadata": {},
   "outputs": [],
   "source": [
    "from parameters.config_imports import *"
   ]
  },
  {
   "cell_type": "markdown",
   "id": "9c05c213-19c2-4fcf-b767-d1f3df74ac4d",
   "metadata": {},
   "source": [
    "following makes use of the parameters/lookup_gee_datasets_df.csv"
   ]
  },
  {
   "cell_type": "code",
   "execution_count": null,
   "id": "76c7fc9f-1bff-421c-974c-f9fef6a69c9f",
   "metadata": {},
   "outputs": [],
   "source": [
    "# get lists for checks\n",
    "exclude_list = get_exclude_list(lookup_gee_datasets_df)\n",
    "all_datasets_list = get_all_datasets_list(lookup_gee_datasets_df)\n",
    "presence_only_flag_list = get_presence_only_flag_list(lookup_gee_datasets_df)\n",
    "decimal_place_column_list = get_decimal_place_column_list(lookup_gee_datasets_df)\n",
    "order_list = get_order_list(lookup_gee_datasets_df)\n",
    "\n",
    "#to make into a checks function \n",
    "from modules.datasets import combine_datasets\n",
    "\n",
    "multiband_image_list = combine_datasets().bandNames()\n",
    "\n",
    "in_both_lists = multiband_image_list.filter(ee.Filter.inList('item', all_datasets_list));\n",
    "not_in_multiband = multiband_image_list.filter(ee.Filter.inList('item', all_datasets_list).Not());\n",
    "not_in_lookup  = ee.List(all_datasets_list).filter(ee.Filter.inList('item', multiband_image_list).Not());\n",
    "\n",
    "# print (\"number_in_multiband_datasets_list\", multiband_image_list.length().getInfo())\n",
    "# print (\"number_in_both_lists\",in_both_lists.length().getInfo())\n",
    "# print (\"exclude_list\",exclude_list)\n",
    "# print (\"not_in_multiband\",not_in_multiband.getInfo())\n",
    "\n",
    "in_lookup = multiband_image_list.containsAll(ee.List(all_datasets_list)).getInfo()\n",
    "\n",
    "print (\"Datasets present in lookup: \", in_lookup)\n",
    "if in_lookup ==False:\n",
    "    print(\"missing from lookup\",not_in_lookup.getInfo())\n",
    "\n",
    "# multiband_datasets_list\n",
    "# decimal_place_column_list"
   ]
  },
  {
   "cell_type": "code",
   "execution_count": null,
   "id": "af59140c-1967-4f16-b300-89a159f62b42",
   "metadata": {},
   "outputs": [],
   "source": [
    "# if not present in prefix_columns_list already, remove geo_id_column from it \n",
    "# (prefix_columns_list is imported from parameters.config_runtime)\n",
    "if geo_id_column in prefix_columns_list:\n",
    "    if geo_id_column in roi.first().propertyNames().getInfo():\n",
    "        print(\"geo id present\")\n",
    "    else:\n",
    "        print(\"geo id not present, filling with 'na'\")\n",
    "        # Instead of removing, add a column with 'na' as default values\n",
    "        roi = roi.map(lambda feature: feature.set(geo_id_column, \"na\"))\n",
    "\n",
    "\n",
    "column_order_list = prefix_columns_list + order_list\n",
    "\n",
    "# len (column_order_list)\n"
   ]
  },
  {
   "cell_type": "code",
   "execution_count": null,
   "id": "3de77e67-0ef5-46be-8221-b44672641b49",
   "metadata": {
    "editable": true,
    "slideshow": {
     "slide_type": ""
    },
    "tags": []
   },
   "outputs": [],
   "source": [
    "st = time.time()\n",
    "\n",
    "%store -r roi\n",
    "\n",
    "## if over a certain number of polygons, then batch export to drive and use the formatting for that else, do on the fly\n",
    "\n",
    "## if batch export to drive then misses out column order # i.e. doesnt do order currently as not possible in a fc, and wont remove underscores as getinfo is client side\n",
    "\n",
    "## \n",
    "if ee.FeatureCollection(roi).size().getInfo()>threshold_to_drive:#update this code to depend on a variable? or if memory error?\n",
    "    print (\"Over size limit for on the fly processing. \\n Attempting export to Google Drive 'Whisp_results/Whisp_output_table_export.csv' as a batch task... \")\n",
    "    \n",
    "    # stats_fc_formatted = get_stats(roi)\n",
    "    \n",
    "    stats_fc_formatted = get_stats_formatted(\n",
    "    roi,\n",
    "    # order = column_order_list, # not working as reverts to alphabetical\n",
    "    id_name = plot_id_column,\n",
    "    flag_positive = presence_only_flag_list, #,\n",
    "    # round_properties = decimal_place_column_list#,\n",
    "    exclude_properties = exclude_list#,\n",
    "    # select_and_rename = True # underscore removal (DONT RUN - needs debugging relies on get info currently, so only for small runs)\n",
    "    )\n",
    "\n",
    "    task = ee.batch.Export.table.toDrive(collection=stats_fc_formatted, \n",
    "                     description=\"whisp_output_table_export\", \n",
    "                     folder=\"Whisp_results\",\n",
    "                     fileFormat=\"CSV\")\n",
    "\n",
    "\n",
    "    task.start()\n",
    "    \n",
    "    df_out =  (\"Task running. Check https://code.earthengine.google.com/tasks. You can manually upload to Sepal when complete\")\n",
    "    \n",
    "    print (df_out)\n",
    "else:\n",
    "    print ('...stats processing started')\n",
    "    \n",
    "    def add_system_index_as_property_to_feature(feature):\n",
    "        # Get the system:index of the feature\n",
    "        system_index = feature.get('system:index')\n",
    "           \n",
    "        # Set the 'id' property of the feature\n",
    "        return feature.set('system_index',system_index)\n",
    "    \n",
    "    def add_system_index_as_property_to_fc(feature_col):    \n",
    "       return feature_col.map(add_system_index_as_property_to_feature)\n",
    "\n",
    "################\n",
    "\n",
    "    stats_fc_formatted = get_stats_formatted(\n",
    "    roi,\n",
    "    # order = column_order_list, # not working as reverts to alphabetical\n",
    "    id_name = plot_id_column,\n",
    "    flag_positive = presence_only_flag_list, #,\n",
    "    # round_properties = decimal_place_column_list#,\n",
    "    exclude_properties = exclude_list#,\n",
    "    # select_and_rename = True # underscore removal (DONT RUN - needs debugging relies on get info currently, so only for small runs)\n",
    "    )\n",
    "    \n",
    "    # stats_fc_formatted = get_stats(roi) # if not running formatting\n",
    "\n",
    "    def add_new_elements(existing_list, new_elements):\n",
    "        existing_list.extend([element for element in new_elements if element not in existing_list])\n",
    "\n",
    "    \n",
    "    if keep_system_index:\n",
    "        stats_fc_formatted = add_system_index_as_property_to_fc(stats_fc_formatted)\n",
    "        add_new_elements(column_order_list,['system:index'])\n",
    "\n",
    "    if keep_original_properties:\n",
    "        original_columns = roi.first().propertyNames().getInfo()\n",
    "        add_new_elements(column_order_list,original_columns)\n",
    "\n",
    "    #convert to dataframe\n",
    "    df = geemap.ee_to_df(stats_fc_formatted).rename(columns={'system_index':'system:index'})\n",
    "\n",
    "    # reorder columns \n",
    "    df = df.reindex(columns=column_order_list) \n",
    "    \n",
    "    df_out = df  \n",
    "\n",
    "    print ('...processing time:', time.time() - st, 'seconds')# get the execution time\n",
    "    "
   ]
  }
 ],
 "metadata": {
  "kernelspec": {
   "display_name": "Python 3",
   "language": "python",
   "name": "python3"
  },
  "language_info": {
   "codemirror_mode": {
    "name": "ipython",
    "version": 3
   },
   "file_extension": ".py",
   "mimetype": "text/x-python",
   "name": "python",
   "nbconvert_exporter": "python",
   "pygments_lexer": "ipython3",
   "version": "3.10.12"
  }
 },
 "nbformat": 4,
 "nbformat_minor": 5
}
