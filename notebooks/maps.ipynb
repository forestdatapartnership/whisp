{
 "cells": [
  {
   "cell_type": "markdown",
   "metadata": {},
   "source": [
    "making maps - scoping"
   ]
  },
  {
   "cell_type": "code",
   "execution_count": 1,
   "metadata": {},
   "outputs": [
    {
     "data": {
      "application/vnd.jupyter.widget-view+json": {
       "model_id": "9d61b0358e604953ae24d3b893106c55",
       "version_major": 2,
       "version_minor": 0
      },
      "text/plain": [
       "Map(center=[0, 0], controls=(WidgetControl(options=['position', 'transparent_bg'], widget=SearchDataGUI(childr…"
      ]
     },
     "execution_count": 1,
     "metadata": {},
     "output_type": "execute_result"
    }
   ],
   "source": [
    "# Import necessary libraries\n",
    "import ee\n",
    "import geemap\n",
    "\n",
    "# Authenticate and initialize the Earth Engine\n",
    "ee.Authenticate()\n",
    "ee.Initialize()\n",
    "\n",
    "# Define all functions from the provided code\n",
    "\n",
    "# Define functions for each dataset\n",
    "def creaf_descals_palm_prep():\n",
    "    oil_palm_descals_raw = ee.ImageCollection('BIOPAMA/GlobalOilPalm/v1')\n",
    "    oil_palm_descals_mosaic = oil_palm_descals_raw.select('classification').mosaic()\n",
    "    return oil_palm_descals_mosaic.lte(2).rename(\"Oil_palm_Descals\")\n",
    "\n",
    "def jaxa_forest_prep():\n",
    "    jaxa_forest_non_forest_raw = ee.ImageCollection('JAXA/ALOS/PALSAR/YEARLY/FNF4')\n",
    "    jaxa_forest_non_forest_2020 = jaxa_forest_non_forest_raw.filterDate('2020-01-01', '2020-12-31').select('fnf').mosaic()\n",
    "    return jaxa_forest_non_forest_2020.lte(2).rename(\"JAXA_FNF_2020\")\n",
    "\n",
    "def glad_gfc_10pc_prep():\n",
    "    gfc = ee.Image(\"UMD/hansen/global_forest_change_2023_v1_11\")\n",
    "    gfc_treecover2000 = gfc.select(['treecover2000'])\n",
    "    gfc_loss2001_2020 = gfc.select(['lossyear']).lte(20)\n",
    "    gfc_treecover2020 = gfc_treecover2000.where(gfc_loss2001_2020.eq(1), 0)\n",
    "    return gfc_treecover2020.gt(10).rename(\"GFC_TC_2020\")\n",
    "\n",
    "def glad_pht_prep():\n",
    "    primary_ht_forests2001_raw = ee.ImageCollection('UMD/GLAD/PRIMARY_HUMID_TROPICAL_FORESTS/v1')\n",
    "    primary_ht_forests2001 = primary_ht_forests2001_raw.select(\"Primary_HT_forests\").mosaic().selfMask()\n",
    "    gfc = ee.Image('UMD/hansen/global_forest_change_2023_v1_11')\n",
    "    gfc_loss2001_2020 = gfc.select(['lossyear']).lte(20)\n",
    "    return primary_ht_forests2001.where(gfc_loss2001_2020.eq(1), 0).rename(\"GLAD_Primary\")\n",
    "\n",
    "# Initialize a map with geemap\n",
    "Map = geemap.Map(center=(0, 0), zoom=2)\n",
    "\n",
    "# Define styling for each dataset layer\n",
    "style_descals = {'min': 0, 'max': 1, 'palette': ['green']}\n",
    "style_jaxa = {'min': 0, 'max': 1, 'palette': ['#d73027']}\n",
    "style_gfc = {'min': 0, 'max': 1, 'palette': ['#4575b4']}\n",
    "style_glad = {'min': 0, 'max': 1, 'palette': ['#fee08b']}\n",
    "\n",
    "# Add each dataset as a layer to the map\n",
    "Map.addLayer(creaf_descals_palm_prep(), style_descals, \"Oil Palm Descals\")\n",
    "Map.addLayer(jaxa_forest_prep(), style_jaxa, \"JAXA Forest\")\n",
    "Map.addLayer(glad_gfc_10pc_prep(), style_gfc, \"GFC Tree Cover\")\n",
    "Map.addLayer(glad_pht_prep(), style_glad, \"GLAD Primary Forests\")\n",
    "\n",
    "# Display the map\n",
    "Map.addLayerControl()  # Add a layer control to toggle visibility\n",
    "Map\n"
   ]
  },
  {
   "cell_type": "code",
   "execution_count": 3,
   "metadata": {},
   "outputs": [
    {
     "data": {
      "text/html": [
       "\n",
       "            <style>\n",
       "                .geemap-dark {\n",
       "                    --jp-widgets-color: white;\n",
       "                    --jp-widgets-label-color: white;\n",
       "                    --jp-ui-font-color1: white;\n",
       "                    --jp-layout-color2: #454545;\n",
       "                    background-color: #383838;\n",
       "                }\n",
       "\n",
       "                .geemap-dark .jupyter-button {\n",
       "                    --jp-layout-color3: #383838;\n",
       "                }\n",
       "\n",
       "                .geemap-colab {\n",
       "                    background-color: var(--colab-primary-surface-color, white);\n",
       "                }\n",
       "\n",
       "                .geemap-colab .jupyter-button {\n",
       "                    --jp-layout-color3: var(--colab-primary-surface-color, white);\n",
       "                }\n",
       "            </style>\n",
       "            "
      ],
      "text/plain": [
       "<IPython.core.display.HTML object>"
      ]
     },
     "metadata": {},
     "output_type": "display_data"
    },
    {
     "name": "stdout",
     "output_type": "stream",
     "text": [
      "Current Working Directory: c:\\Users\\Arnell\\Documents\\GitHub\\whisp_sustaain\\notebooks\n"
     ]
    }
   ],
   "source": [
    "# Map.to_html(\"forest_monitoring_map.html\")\n",
    "import os\n",
    "\n",
    "# Get current working directory\n",
    "current_directory = os.getcwd()\n",
    "print(\"Current Working Directory:\", current_directory)\n"
   ]
  },
  {
   "cell_type": "code",
   "execution_count": 5,
   "metadata": {},
   "outputs": [
    {
     "data": {
      "text/html": [
       "\n",
       "            <style>\n",
       "                .geemap-dark {\n",
       "                    --jp-widgets-color: white;\n",
       "                    --jp-widgets-label-color: white;\n",
       "                    --jp-ui-font-color1: white;\n",
       "                    --jp-layout-color2: #454545;\n",
       "                    background-color: #383838;\n",
       "                }\n",
       "\n",
       "                .geemap-dark .jupyter-button {\n",
       "                    --jp-layout-color3: #383838;\n",
       "                }\n",
       "\n",
       "                .geemap-colab {\n",
       "                    background-color: var(--colab-primary-surface-color, white);\n",
       "                }\n",
       "\n",
       "                .geemap-colab .jupyter-button {\n",
       "                    --jp-layout-color3: var(--colab-primary-surface-color, white);\n",
       "                }\n",
       "            </style>\n",
       "            "
      ],
      "text/plain": [
       "<IPython.core.display.HTML object>"
      ]
     },
     "metadata": {},
     "output_type": "display_data"
    },
    {
     "name": "stdout",
     "output_type": "stream",
     "text": [
      "Map saved as HTML: c:\\Users\\Arnell\\Documents\\GitHub\\whisp_sustaain\\notebooks\\my_map.html\n"
     ]
    }
   ],
   "source": [
    "import folium\n",
    "import os\n",
    "\n",
    "# Define the location and zoom level\n",
    "map_center = [0, 0]  # Center on the equator as an example\n",
    "zoom_start = 2\n",
    "\n",
    "# Initialize the map\n",
    "my_map = folium.Map(location=map_center, zoom_start=zoom_start)\n",
    "\n",
    "# Example: Add a marker\n",
    "folium.Marker(\n",
    "    [51.5074, -0.1278],  # Coordinates for London, UK\n",
    "    popup=\"London\",\n",
    "    tooltip=\"Click for more info\"\n",
    ").add_to(my_map)\n",
    "\n",
    "# Display the map in the notebook\n",
    "my_map\n",
    "\n",
    "# Save the map to HTML\n",
    "output_path = os.path.join(os.getcwd(), \"my_map.html\")\n",
    "my_map.save(output_path)\n",
    "print(f\"Map saved as HTML: {output_path}\")\n"
   ]
  },
  {
   "cell_type": "code",
   "execution_count": 6,
   "metadata": {},
   "outputs": [
    {
     "data": {
      "text/html": [
       "\n",
       "            <style>\n",
       "                .geemap-dark {\n",
       "                    --jp-widgets-color: white;\n",
       "                    --jp-widgets-label-color: white;\n",
       "                    --jp-ui-font-color1: white;\n",
       "                    --jp-layout-color2: #454545;\n",
       "                    background-color: #383838;\n",
       "                }\n",
       "\n",
       "                .geemap-dark .jupyter-button {\n",
       "                    --jp-layout-color3: #383838;\n",
       "                }\n",
       "\n",
       "                .geemap-colab {\n",
       "                    background-color: var(--colab-primary-surface-color, white);\n",
       "                }\n",
       "\n",
       "                .geemap-colab .jupyter-button {\n",
       "                    --jp-layout-color3: var(--colab-primary-surface-color, white);\n",
       "                }\n",
       "            </style>\n",
       "            "
      ],
      "text/plain": [
       "<IPython.core.display.HTML object>"
      ]
     },
     "metadata": {},
     "output_type": "display_data"
    },
    {
     "data": {
      "application/vnd.jupyter.widget-view+json": {
       "model_id": "d46ed65325524ed1a4d42b3be0735b0f",
       "version_major": 2,
       "version_minor": 0
      },
      "text/plain": [
       "IntSlider(value=50, description='Value:')"
      ]
     },
     "metadata": {},
     "output_type": "display_data"
    }
   ],
   "source": [
    "import ipywidgets as widgets\n",
    "from IPython.display import display\n",
    "\n",
    "slider = widgets.IntSlider(value=50, min=0, max=100, step=1, description='Value:')\n",
    "display(slider)\n"
   ]
  },
  {
   "cell_type": "code",
   "execution_count": null,
   "metadata": {},
   "outputs": [],
   "source": []
  }
 ],
 "metadata": {
  "kernelspec": {
   "display_name": ".venv",
   "language": "python",
   "name": "python3"
  },
  "language_info": {
   "codemirror_mode": {
    "name": "ipython",
    "version": 3
   },
   "file_extension": ".py",
   "mimetype": "text/x-python",
   "name": "python",
   "nbconvert_exporter": "python",
   "pygments_lexer": "ipython3",
   "version": "3.12.0"
  }
 },
 "nbformat": 4,
 "nbformat_minor": 2
}
