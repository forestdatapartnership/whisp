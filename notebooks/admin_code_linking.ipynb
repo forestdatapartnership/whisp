{
 "cells": [
  {
   "cell_type": "markdown",
   "id": "250b53cc",
   "metadata": {},
   "source": [
    "### Whisp a geojson"
   ]
  },
  {
   "cell_type": "markdown",
   "id": "0ed47318",
   "metadata": {},
   "source": [
    "Setup\n",
    "- Use a [virtual environment](https://docs.python.org/3/tutorial/venv.html) to avoid altering your python environment \n",
    "\n",
    "Usage:\n",
    "- Use this notebook with smaller datasets (e.g., up to 10,000 features). \n",
    "- For larger datasets consider the 'whisp_geojson_to_drive.ipynb' notebook, which is more suited to heavy processing\n",
    "- Please report issues with this notebook [here](https://github.com/forestdatapartnership/whisp/issues)"
   ]
  },
  {
   "cell_type": "code",
   "execution_count": 100,
   "id": "38ac967d",
   "metadata": {},
   "outputs": [],
   "source": [
    "# Earth Engine and Common Libraries|\n",
    "import ee\n",
    "from pathlib import Path\n",
    "\n",
    "# Authenticate and initialize Earth Engine. \n",
    "try:\n",
    "    ee.Initialize()  # Try to use existing credentials first\n",
    "except Exception:\n",
    "    ee.Authenticate() # Authenticate may open a browser window\n",
    "    ee.Initialize()\n",
    "\n",
    "# NB if not working add your cloud project: ee.Initialize(project=\"your_gee_cloud_project_name\")"
   ]
  },
  {
   "cell_type": "code",
   "execution_count": 101,
   "id": "4f86603f",
   "metadata": {},
   "outputs": [],
   "source": [
    "# Install openforis-whisp (uncomment line if not already installed)\n",
    "# !pip install --pre openforis-whisp\n",
    "\n",
    "# NB for editable mode install via your terminal with: pip install -e .[dev]"
   ]
  },
  {
   "cell_type": "code",
   "execution_count": 102,
   "id": "00e60218",
   "metadata": {},
   "outputs": [],
   "source": [
    "import openforis_whisp as whisp"
   ]
  },
  {
   "cell_type": "code",
   "execution_count": 103,
   "id": "c6af2f1f",
   "metadata": {},
   "outputs": [],
   "source": [
    "import pandas as pd\n",
    "import geopandas as gpd\n",
    "from openforis_whisp.parameters.config_runtime import (\n",
    "    admin_1_column, \n",
    "    iso3_country_column, \n",
    "    iso2_country_column, \n",
    "    geometry_type_column, \n",
    "    centroid_x_coord_column, \n",
    "    centroid_y_coord_column\n",
    ")\n"
   ]
  },
  {
   "cell_type": "code",
   "execution_count": null,
   "id": "4e8fb399",
   "metadata": {},
   "outputs": [],
   "source": [
    "def join_admin_codes(df, lookup_dict, id_col='id_col'):\n",
    "    \"\"\"\n",
    "    Join admin names and ISO3 codes to a DataFrame using a lookup dictionary.\n",
    "    Output columns are named using config_runtime.py variables.\n",
    "    \"\"\"\n",
    "    from openforis_whisp.parameters.config_runtime import admin_1_column, iso3_country_column, iso2_country_column\n",
    "    lookup_df = pd.DataFrame.from_dict(lookup_dict, orient='index')\n",
    "    lookup_df.index.name = 'gaul1_code'\n",
    "    lookup_df = lookup_df.reset_index()\n",
    "    lookup[\"id_col_int\"]=lookup[id_col].fillna(-9999).astype(int)\n",
    "    merged_df = df.merge(lookup_df, left_on=\"id_col_int\", right_on='gaul1_code', how='left')\n",
    "    merged_df = merged_df.rename(columns={\n",
    "        'gaul1_name': admin_1_column,\n",
    "        'iso3_code': iso3_country_column,\n",
    "        'iso2_code': iso2_country_column\n",
    "    })\n",
    "    merged_df = merged_df.drop(columns=['gaul1_code',\"gaul0_name\"])\n",
    "    return merged_df\n",
    "# Usage:\n",
    "# result_df = join_admin_codes(example_df, lookup_dict, id_col='id_col')"
   ]
  },
  {
   "cell_type": "code",
   "execution_count": 196,
   "id": "594f69f8",
   "metadata": {},
   "outputs": [],
   "source": [
    "# Function to extract centroid, geometry type, and coordinates from a GeoDataFrame using GeoPandas (faster for local data)\n",
    "\n",
    "def extract_centroid_and_geomtype_gpd(\n",
    "    gdf,\n",
    "    x_col='centroid_x',\n",
    "    y_col='centroid_y',\n",
    "    type_col='geometry_type',\n",
    "    external_id_col=None,\n",
    "    return_attributes_only=False\n",
    "):\n",
    "    \"\"\"\n",
    "    Adds centroid coordinate values and geometry type columns to a GeoDataFrame.\n",
    "    Optionally returns only attributes (no geometry columns) and preserves an external ID column.\n",
    "    Does NOT add a centroid geometry column, only the values for lon/lat/type.\n",
    "    Args:\n",
    "        gdf (GeoDataFrame): Input GeoDataFrame.\n",
    "        x_col (str): Name for centroid x column.\n",
    "        y_col (str): Name for centroid y column.\n",
    "        type_col (str): Name for geometry type column.\n",
    "        external_id_col (str, optional): Name of external ID column to preserve in output.\n",
    "        return_attributes_only (bool, optional): If True, returns a pandas DataFrame with only attributes (no geometry columns).\n",
    "    Returns:\n",
    "        GeoDataFrame or DataFrame: Copy with new columns for centroid_x, centroid_y, and geometry_type, optionally only attributes.\n",
    "    \"\"\"\n",
    "    gdf = gdf.copy()\n",
    "    # Calculate centroid coordinates as values only, not as a geometry column\n",
    "    centroid_points = gdf.geometry.centroid\n",
    "    gdf[x_col] = centroid_points.x\n",
    "    gdf[y_col] = centroid_points.y\n",
    "    gdf[type_col] = gdf.geometry.geom_type\n",
    "    cols = [x_col, y_col, type_col]\n",
    "    if external_id_col and external_id_col in gdf.columns:\n",
    "        cols = [external_id_col] + cols\n",
    "    if return_attributes_only:\n",
    "        df = gdf[cols].reset_index(drop=True)\n",
    "        return df\n",
    "    return gdf\n",
    "\n",
    "# Example usage:\n",
    "# gdf = gpd.read_file(GEOJSON_EXAMPLE_FILEPATH)\n",
    "# gdf_with_centroids = extract_centroid_and_geomtype_gpd(gdf, return_attributes_only=True)\n",
    "# print(gdf_with_centroids[[\"centroid_x\", \"centroid_y\", \"geometry_type\"]].head())\n"
   ]
  },
  {
   "cell_type": "code",
   "execution_count": 197,
   "id": "aa45d852",
   "metadata": {},
   "outputs": [],
   "source": [
    "# --- Helper functions for extracting properties from FeatureCollection ---\n",
    "\n",
    "# Function to extract centroid, geometry type, and coordinates from an ee.Feature\n",
    "\n",
    "# (Assumes you have a FeatureCollection 'fc')\n",
    "\n",
    "def extract_centroid_and_geomtype(fc, x_col='centroid_x', y_col='centroid_y', type_col='geometry_type'):\n",
    "    def add_centroid_and_geomtype(feature):\n",
    "        centroid = feature.geometry().centroid(1)\n",
    "        coords = centroid.coordinates()\n",
    "        # Round coordinates to 6 decimal places (Earth Engine's round only takes 1 argument)\n",
    "        x = ee.Number(coords.get(0)).multiply(1e6).round().divide(1e6)\n",
    "        y = ee.Number(coords.get(1)).multiply(1e6).round().divide(1e6)\n",
    "        return feature.set({\n",
    "            x_col: x,\n",
    "            y_col: y,\n",
    "            type_col: feature.geometry().type()\n",
    "        })\n",
    "    return fc.map(add_centroid_and_geomtype)\n",
    "\n",
    "# # Example usage:\n",
    "# fc_with_centroids = extract_centroid_and_geomtype(fc)\n",
    "# df = whisp.convert_ee_to_df(fc_with_centroids, remove_geom=True)\n",
    "\n",
    "\n",
    "# # Now join admin codes using lookup_dict and the centroid-based admin code column\n",
    "# from openforis_whisp.parameters.lookup_gaul1_admin import lookup_dict\n",
    "# result_df = join_admin_codes(df, lookup_dict, id_col='first')  # 'first' is the admin code column from reduceRegions\n",
    "\n",
    "# result_df.head()"
   ]
  },
  {
   "cell_type": "code",
   "execution_count": 198,
   "id": "3e332c2c",
   "metadata": {},
   "outputs": [
    {
     "name": "stdout",
     "output_type": "stream",
     "text": [
      "[(1000, {'gaul0_name': 'Abyei', 'gaul1_name': 'Administrative Unit Not Available', 'iso2_code': 'not found', 'iso3_code': 'xAB'}), (1001, {'gaul0_name': 'Algeria', 'gaul1_name': 'Adrar', 'iso2_code': 'DZ', 'iso3_code': 'DZA'}), (1002, {'gaul0_name': 'Algeria', 'gaul1_name': 'Ain-Defla', 'iso2_code': 'DZ', 'iso3_code': 'DZA'}), (1003, {'gaul0_name': 'Algeria', 'gaul1_name': 'Ain-Temouchent', 'iso2_code': 'DZ', 'iso3_code': 'DZA'}), (1004, {'gaul0_name': 'Algeria', 'gaul1_name': 'Alger', 'iso2_code': 'DZ', 'iso3_code': 'DZA'})]\n"
     ]
    }
   ],
   "source": [
    "import sys\n",
    "from pathlib import Path\n",
    "\n",
    "# Add project root to sys.path\n",
    "sys.path.append(str(Path.cwd().parent))\n",
    "\n",
    "# Import the lookup dictionary\n",
    "from src.openforis_whisp.parameters.lookup_gaul1_admin import lookup_dict\n",
    "\n",
    "# Print the first 5 items\n",
    "print(list(lookup_dict.items())[:5])"
   ]
  },
  {
   "cell_type": "code",
   "execution_count": 199,
   "id": "d0520a1b",
   "metadata": {},
   "outputs": [
    {
     "name": "stdout",
     "output_type": "stream",
     "text": [
      "[utils.py | generate_test_polygons() | l.378] INFO: Extracting bounds from Earth Engine Geometry...\n"
     ]
    },
    {
     "name": "stderr",
     "output_type": "stream",
     "text": [
      "2025-10-24 11:44:41,676 - INFO - Refreshing credentials due to a 401 response. Attempt 1/2.\n"
     ]
    },
    {
     "name": "stdout",
     "output_type": "stream",
     "text": [
      "[utils.py | generate_test_polygons() | l.391] INFO: Bounds: [-73.98, -33.75, -28.85, 5.27]\n",
      "[utils.py | generate_test_polygons() | l.419] INFO: Generating 100 test polygons with 100-200 vertices...\n",
      "[utils.py | generate_test_polygons() | l.419] INFO: Generating 100 test polygons with 100-200 vertices...\n",
      "[utils.py | generate_test_polygons() | l.467] INFO: Generated 100 polygons!\n",
      "[utils.py | generate_test_polygons() | l.473] INFO: Vertex count - Requested: 100-199, Actual: 100-199\n",
      "[utils.py | generate_test_polygons() | l.481] INFO: Area (ha) - Requested: 10.2-20.0, Actual: 9.3-21.0\n",
      "[utils.py | generate_test_polygons() | l.467] INFO: Generated 100 polygons!\n",
      "[utils.py | generate_test_polygons() | l.473] INFO: Vertex count - Requested: 100-199, Actual: 100-199\n",
      "[utils.py | generate_test_polygons() | l.481] INFO: Area (ha) - Requested: 10.2-20.0, Actual: 9.3-21.0\n"
     ]
    }
   ],
   "source": [
    "folder_path = r\"C:\\Users\\Arnell\\Downloads\\a_processing_tests\"\n",
    "\n",
    "GEOJSON_EXAMPLE_FILEPATH = folder_path+\"/random_polygons.geojson\"\n",
    "\n",
    "geom = (ee.FeatureCollection(\"projects/sat-io/open-datasets/FAO/GAUL/GAUL_2024_L1\")\n",
    "    .filter(ee.Filter.eq('gaul0_name', 'Brazil')).geometry().bounds()\n",
    ")\n",
    "\n",
    "geojson = whisp.generate_test_polygons(\n",
    "    bounds = geom,\n",
    "    num_polygons=100,\n",
    "    min_area_ha=10,\n",
    "    max_area_ha=20,\n",
    "    min_number_vert=100,\n",
    "    max_number_vert=200\n",
    "    )\n",
    "\n"
   ]
  },
  {
   "cell_type": "markdown",
   "id": "4fce13c5",
   "metadata": {},
   "source": [
    "Prepare inputs"
   ]
  },
  {
   "cell_type": "code",
   "execution_count": 200,
   "id": "f79905c3",
   "metadata": {},
   "outputs": [],
   "source": [
    "import json\n",
    "with open (GEOJSON_EXAMPLE_FILEPATH, \"w\") as f:\n",
    "    json.dump(geojson,f)\n",
    "    \n"
   ]
  },
  {
   "cell_type": "code",
   "execution_count": 201,
   "id": "0fd7eee5",
   "metadata": {},
   "outputs": [
    {
     "name": "stdout",
     "output_type": "stream",
     "text": [
      "    Centroid_lon  Centroid_lat Geometry_type\n",
      "0     -31.908015     -9.797776       Polygon\n",
      "1     -30.143440     -0.586545       Polygon\n",
      "2     -39.121779    -25.112656       Polygon\n",
      "3     -46.688431      3.741962       Polygon\n",
      "4     -39.326899     -6.198758       Polygon\n",
      "..           ...           ...           ...\n",
      "95    -55.386472    -23.799740       Polygon\n",
      "96    -36.587440    -29.623171       Polygon\n",
      "97    -36.288693    -12.388983       Polygon\n",
      "98    -40.331960    -27.912064       Polygon\n",
      "99    -37.153729    -12.062214       Polygon\n",
      "\n",
      "[100 rows x 3 columns]"
     ]
    },
    {
     "name": "stdout",
     "output_type": "stream",
     "text": [
      "\n"
     ]
    },
    {
     "name": "stderr",
     "output_type": "stream",
     "text": [
      "C:\\Users\\Arnell\\AppData\\Local\\Temp\\ipykernel_12384\\594743811.py:27: UserWarning: Geometry is in a geographic CRS. Results from 'centroid' are likely incorrect. Use 'GeoSeries.to_crs()' to re-project geometries to a projected CRS before this operation.\n",
      "\n",
      "  centroid_points = gdf.geometry.centroid\n"
     ]
    },
    {
     "data": {
      "text/html": [
       "<div>\n",
       "<style scoped>\n",
       "    .dataframe tbody tr th:only-of-type {\n",
       "        vertical-align: middle;\n",
       "    }\n",
       "\n",
       "    .dataframe tbody tr th {\n",
       "        vertical-align: top;\n",
       "    }\n",
       "\n",
       "    .dataframe thead th {\n",
       "        text-align: right;\n",
       "    }\n",
       "</style>\n",
       "<table border=\"1\" class=\"dataframe\">\n",
       "  <thead>\n",
       "    <tr style=\"text-align: right;\">\n",
       "      <th></th>\n",
       "      <th>internal_id</th>\n",
       "      <th>requested_vertices</th>\n",
       "      <th>actual_vertices</th>\n",
       "      <th>requested_area_ha</th>\n",
       "      <th>actual_area_ha</th>\n",
       "      <th>geometry</th>\n",
       "      <th>Centroid_lon</th>\n",
       "      <th>Centroid_lat</th>\n",
       "      <th>Geometry_type</th>\n",
       "    </tr>\n",
       "  </thead>\n",
       "  <tbody>\n",
       "    <tr>\n",
       "      <th>0</th>\n",
       "      <td>1</td>\n",
       "      <td>130</td>\n",
       "      <td>130</td>\n",
       "      <td>19.39</td>\n",
       "      <td>20.99</td>\n",
       "      <td>POLYGON ((-31.90546 -9.79775, -31.90551 -9.797...</td>\n",
       "      <td>-31.908015</td>\n",
       "      <td>-9.797776</td>\n",
       "      <td>Polygon</td>\n",
       "    </tr>\n",
       "    <tr>\n",
       "      <th>1</th>\n",
       "      <td>2</td>\n",
       "      <td>184</td>\n",
       "      <td>184</td>\n",
       "      <td>14.07</td>\n",
       "      <td>13.45</td>\n",
       "      <td>POLYGON ((-30.14149 -0.58653, -30.1415 -0.5864...</td>\n",
       "      <td>-30.143440</td>\n",
       "      <td>-0.586545</td>\n",
       "      <td>Polygon</td>\n",
       "    </tr>\n",
       "    <tr>\n",
       "      <th>2</th>\n",
       "      <td>3</td>\n",
       "      <td>160</td>\n",
       "      <td>160</td>\n",
       "      <td>13.69</td>\n",
       "      <td>14.98</td>\n",
       "      <td>POLYGON ((-39.1193 -25.11266, -39.11926 -25.11...</td>\n",
       "      <td>-39.121779</td>\n",
       "      <td>-25.112656</td>\n",
       "      <td>Polygon</td>\n",
       "    </tr>\n",
       "    <tr>\n",
       "      <th>3</th>\n",
       "      <td>4</td>\n",
       "      <td>186</td>\n",
       "      <td>186</td>\n",
       "      <td>14.73</td>\n",
       "      <td>16.35</td>\n",
       "      <td>POLYGON ((-46.68619 3.74197, -46.68624 3.74204...</td>\n",
       "      <td>-46.688431</td>\n",
       "      <td>3.741962</td>\n",
       "      <td>Polygon</td>\n",
       "    </tr>\n",
       "    <tr>\n",
       "      <th>4</th>\n",
       "      <td>5</td>\n",
       "      <td>125</td>\n",
       "      <td>125</td>\n",
       "      <td>17.14</td>\n",
       "      <td>16.71</td>\n",
       "      <td>POLYGON ((-39.32469 -6.19875, -39.32468 -6.198...</td>\n",
       "      <td>-39.326899</td>\n",
       "      <td>-6.198758</td>\n",
       "      <td>Polygon</td>\n",
       "    </tr>\n",
       "    <tr>\n",
       "      <th>...</th>\n",
       "      <td>...</td>\n",
       "      <td>...</td>\n",
       "      <td>...</td>\n",
       "      <td>...</td>\n",
       "      <td>...</td>\n",
       "      <td>...</td>\n",
       "      <td>...</td>\n",
       "      <td>...</td>\n",
       "      <td>...</td>\n",
       "    </tr>\n",
       "    <tr>\n",
       "      <th>95</th>\n",
       "      <td>96</td>\n",
       "      <td>160</td>\n",
       "      <td>160</td>\n",
       "      <td>16.54</td>\n",
       "      <td>16.75</td>\n",
       "      <td>POLYGON ((-55.38453 -23.79975, -55.38453 -23.7...</td>\n",
       "      <td>-55.386472</td>\n",
       "      <td>-23.799740</td>\n",
       "      <td>Polygon</td>\n",
       "    </tr>\n",
       "    <tr>\n",
       "      <th>96</th>\n",
       "      <td>97</td>\n",
       "      <td>106</td>\n",
       "      <td>106</td>\n",
       "      <td>12.99</td>\n",
       "      <td>13.19</td>\n",
       "      <td>POLYGON ((-36.58499 -29.62317, -36.58493 -29.6...</td>\n",
       "      <td>-36.587440</td>\n",
       "      <td>-29.623171</td>\n",
       "      <td>Polygon</td>\n",
       "    </tr>\n",
       "    <tr>\n",
       "      <th>97</th>\n",
       "      <td>98</td>\n",
       "      <td>170</td>\n",
       "      <td>170</td>\n",
       "      <td>12.92</td>\n",
       "      <td>12.33</td>\n",
       "      <td>POLYGON ((-36.28691 -12.38899, -36.28696 -12.3...</td>\n",
       "      <td>-36.288693</td>\n",
       "      <td>-12.388983</td>\n",
       "      <td>Polygon</td>\n",
       "    </tr>\n",
       "    <tr>\n",
       "      <th>98</th>\n",
       "      <td>99</td>\n",
       "      <td>103</td>\n",
       "      <td>103</td>\n",
       "      <td>17.65</td>\n",
       "      <td>17.88</td>\n",
       "      <td>POLYGON ((-40.32923 -27.91205, -40.32915 -27.9...</td>\n",
       "      <td>-40.331960</td>\n",
       "      <td>-27.912064</td>\n",
       "      <td>Polygon</td>\n",
       "    </tr>\n",
       "    <tr>\n",
       "      <th>99</th>\n",
       "      <td>100</td>\n",
       "      <td>177</td>\n",
       "      <td>177</td>\n",
       "      <td>12.33</td>\n",
       "      <td>11.48</td>\n",
       "      <td>POLYGON ((-37.15185 -12.06221, -37.15181 -12.0...</td>\n",
       "      <td>-37.153729</td>\n",
       "      <td>-12.062214</td>\n",
       "      <td>Polygon</td>\n",
       "    </tr>\n",
       "  </tbody>\n",
       "</table>\n",
       "<p>100 rows × 9 columns</p>\n",
       "</div>"
      ],
      "text/plain": [
       "    internal_id  requested_vertices  actual_vertices  requested_area_ha  \\\n",
       "0             1                 130              130              19.39   \n",
       "1             2                 184              184              14.07   \n",
       "2             3                 160              160              13.69   \n",
       "3             4                 186              186              14.73   \n",
       "4             5                 125              125              17.14   \n",
       "..          ...                 ...              ...                ...   \n",
       "95           96                 160              160              16.54   \n",
       "96           97                 106              106              12.99   \n",
       "97           98                 170              170              12.92   \n",
       "98           99                 103              103              17.65   \n",
       "99          100                 177              177              12.33   \n",
       "\n",
       "    actual_area_ha                                           geometry  \\\n",
       "0            20.99  POLYGON ((-31.90546 -9.79775, -31.90551 -9.797...   \n",
       "1            13.45  POLYGON ((-30.14149 -0.58653, -30.1415 -0.5864...   \n",
       "2            14.98  POLYGON ((-39.1193 -25.11266, -39.11926 -25.11...   \n",
       "3            16.35  POLYGON ((-46.68619 3.74197, -46.68624 3.74204...   \n",
       "4            16.71  POLYGON ((-39.32469 -6.19875, -39.32468 -6.198...   \n",
       "..             ...                                                ...   \n",
       "95           16.75  POLYGON ((-55.38453 -23.79975, -55.38453 -23.7...   \n",
       "96           13.19  POLYGON ((-36.58499 -29.62317, -36.58493 -29.6...   \n",
       "97           12.33  POLYGON ((-36.28691 -12.38899, -36.28696 -12.3...   \n",
       "98           17.88  POLYGON ((-40.32923 -27.91205, -40.32915 -27.9...   \n",
       "99           11.48  POLYGON ((-37.15185 -12.06221, -37.15181 -12.0...   \n",
       "\n",
       "    Centroid_lon  Centroid_lat Geometry_type  \n",
       "0     -31.908015     -9.797776       Polygon  \n",
       "1     -30.143440     -0.586545       Polygon  \n",
       "2     -39.121779    -25.112656       Polygon  \n",
       "3     -46.688431      3.741962       Polygon  \n",
       "4     -39.326899     -6.198758       Polygon  \n",
       "..           ...           ...           ...  \n",
       "95    -55.386472    -23.799740       Polygon  \n",
       "96    -36.587440    -29.623171       Polygon  \n",
       "97    -36.288693    -12.388983       Polygon  \n",
       "98    -40.331960    -27.912064       Polygon  \n",
       "99    -37.153729    -12.062214       Polygon  \n",
       "\n",
       "[100 rows x 9 columns]"
      ]
     },
     "execution_count": 201,
     "metadata": {},
     "output_type": "execute_result"
    }
   ],
   "source": [
    "gdf = gpd.read_file(GEOJSON_EXAMPLE_FILEPATH)\n",
    "gdf_reproj = gdf#.to_crs(epsg=6933)  # Reproject to equal area if necessary\n",
    "gdf_w_centroids = extract_centroid_and_geomtype_gpd(gdf_reproj, x_col=centroid_x_coord_column, y_col=centroid_y_coord_column, type_col=geometry_type_column)\n",
    "gdf_w_centroids_unproj = gdf_w_centroids.to_crs(epsg=4326) \n",
    "print(gdf_w_centroids_unproj[[centroid_x_coord_column, centroid_y_coord_column, geometry_type_column]])\n",
    "gdf_w_centroids_unproj"
   ]
  },
  {
   "cell_type": "markdown",
   "id": "1e797473",
   "metadata": {},
   "source": [
    "Process Geojson"
   ]
  },
  {
   "cell_type": "code",
   "execution_count": 202,
   "id": "dfbd8bb0",
   "metadata": {},
   "outputs": [],
   "source": [
    "# import json\n",
    "# # import ee\n",
    "\n",
    "# def convert_geojson_to_ee_quick(geojson_filepath):\n",
    "#     with open(geojson_filepath, \"r\") as f:\n",
    "#         geojson_data = json.load(f)\n",
    "#     return ee.FeatureCollection(geojson_data)"
   ]
  },
  {
   "cell_type": "code",
   "execution_count": 203,
   "id": "0d2151a2",
   "metadata": {},
   "outputs": [],
   "source": [
    "fc = whisp.convert_geojson_to_ee(GEOJSON_EXAMPLE_FILEPATH)\n",
    "# fc = convert_geojson_to_ee_quick(GEOJSON_EXAMPLE_FILEPATH)"
   ]
  },
  {
   "cell_type": "code",
   "execution_count": 204,
   "id": "c77a184f",
   "metadata": {},
   "outputs": [
    {
     "name": "stdout",
     "output_type": "stream",
     "text": [
      "{'type': 'Feature', 'geometry': {'type': 'Polygon', 'coordinates': [[[-31.905456, -9.797751], [-31.905514, -9.797631], [-31.905591, -9.797517], [-31.905678, -9.797411], [-31.905761, -9.797311], [-31.905832, -9.797215], [-31.905886, -9.797118], [-31.905924, -9.797018], [-31.905954, -9.796914], [-31.905984, -9.79681], [-31.906024, -9.796709], [-31.906082, -9.796617], [-31.90616, -9.796539], [-31.906256, -9.796477], [-31.906363, -9.796429], [-31.906472, -9.796389], [-31.906574, -9.79635], [-31.906663, -9.796304], [-31.906738, -9.796244], [-31.906801, -9.796169], [-31.906857, -9.796082], [-31.906915, -9.795989], [-31.90698, -9.795899], [-31.907056, -9.795823], [-31.907145, -9.795766], [-31.907244, -9.795731], [-31.907347, -9.795713], [-31.907452, -9.795703], [-31.907555, -9.795693], [-31.907655, -9.795671], [-31.907752, -9.795632], [-31.907852, -9.795575], [-31.907956, -9.795505], [-31.908066, -9.795432], [-31.908183, -9.795368], [-31.908305, -9.795324], [-31.908428, -9.795306], [-31.908548, -9.795316], [-31.908664, -9.795349], [-31.908775, -9.795396], [-31.908883, -9.795448], [-31.908993, -9.795494], [-31.909109, -9.795529], [-31.909232, -9.795553], [-31.909364, -9.795571], [-31.909501, -9.795592], [-31.909635, -9.795625], [-31.90976, -9.795677], [-31.909868, -9.795754], [-31.909954, -9.795853], [-31.91002, -9.795971], [-31.910068, -9.796098], [-31.910108, -9.796227], [-31.910147, -9.796351], [-31.910192, -9.796468], [-31.910249, -9.796576], [-31.910314, -9.796681], [-31.910382, -9.796786], [-31.910443, -9.796895], [-31.910486, -9.797013], [-31.910503, -9.797137], [-31.910492, -9.797265], [-31.910454, -9.797394], [-31.910398, -9.79752], [-31.910334, -9.797639], [-31.910274, -9.797751], [-31.910227, -9.797859], [-31.910197, -9.797963], [-31.910183, -9.798069], [-31.910177, -9.798176], [-31.910168, -9.798283], [-31.910147, -9.798389], [-31.910105, -9.798489], [-31.910041, -9.798578], [-31.909958, -9.798657], [-31.909863, -9.798724], [-31.909766, -9.798784], [-31.909678, -9.798844], [-31.909604, -9.79891], [-31.909548, -9.798987], [-31.909505, -9.799076], [-31.909469, -9.799176], [-31.909432, -9.79928], [-31.909385, -9.799381], [-31.909323, -9.799469], [-31.909245, -9.799541], [-31.909154, -9.799593], [-31.909055, -9.799631], [-31.908954, -9.799662], [-31.908857, -9.799695], [-31.908764, -9.799741], [-31.908677, -9.799803], [-31.90859, -9.799883], [-31.908501, -9.799975], [-31.908406, -9.800069], [-31.908301, -9.800152], [-31.908189, -9.800216], [-31.90807, -9.800252], [-31.907949, -9.800261], [-31.907829, -9.800248], [-31.90771, -9.800221], [-31.907593, -9.800192], [-31.907475, -9.80017], [-31.907354, -9.80016], [-31.907227, -9.800162], [-31.907093, -9.80017], [-31.906955, -9.800174], [-31.906817, -9.800163], [-31.906687, -9.80013], [-31.90657, -9.80007], [-31.906469, -9.799984], [-31.906385, -9.799877], [-31.906316, -9.799759], [-31.906253, -9.79964], [-31.906191, -9.799527], [-31.906122, -9.799424], [-31.906045, -9.79933], [-31.90596, -9.799241], [-31.905874, -9.799151], [-31.905796, -9.799053], [-31.905736, -9.798945], [-31.9057, -9.798825], [-31.905691, -9.798695], [-31.905708, -9.798561], [-31.905741, -9.798428], [-31.90578, -9.798301], [-31.905814, -9.798181], [-31.905835, -9.798069], [-31.90584, -9.797962], [-31.90583, -9.797857], [-31.905456, -9.797751]]]}, 'id': '0', 'properties': {'Centroid_lat': -9.797776, 'Centroid_lon': -31.908015, 'Geometry_type': 'Polygon', 'actual_area_ha': 20.99, 'actual_vertices': 130, 'internal_id': 1, 'requested_area_ha': 19.39, 'requested_vertices': 130}}\n"
     ]
    }
   ],
   "source": [
    "fc_w_centroid = extract_centroid_and_geomtype(fc, x_col=centroid_x_coord_column, y_col=centroid_y_coord_column, type_col=geometry_type_column)\n",
    "print(fc_w_centroid.first().getInfo())"
   ]
  },
  {
   "cell_type": "code",
   "execution_count": 205,
   "id": "b2994977",
   "metadata": {},
   "outputs": [],
   "source": [
    "# import json\n",
    "# import time\n",
    "\n",
    "# geojson_filepath = GEOJSON_EXAMPLE_FILEPATH#\"your_file.geojson\"\n",
    "\n",
    "# # --- Method 1: Using json.load ---\n",
    "# def method_json_load(path):\n",
    "#     with open(path) as f:\n",
    "#         return ee.FeatureCollection(json.load(f))\n",
    "\n",
    "# # --- Method 2: Using raw string (no JSON parsing) ---\n",
    "# def method_read_string(path):\n",
    "#     with open(path) as f:\n",
    "#         return ee.FeatureCollection(f.read())\n",
    "\n",
    "# # --- Method 3: Using preloaded dict (in-memory) ---\n",
    "# def method_preloaded_dict(data):\n",
    "#     return ee.FeatureCollection(data)\n",
    "\n",
    "# # --- Benchmark ---\n",
    "# start = time.time()\n",
    "# fc1 = method_json_load(geojson_filepath)\n",
    "# print(\"Feature count (example):\", fc1.size().getInfo())\n",
    "# t1 = time.time() - start\n",
    "\n",
    "# start = time.time()\n",
    "# fc2 = method_read_string(geojson_filepath)\n",
    "# t2 = time.time() - start\n",
    "\n",
    "# with open(geojson_filepath) as f:\n",
    "#     data = json.load(f)\n",
    "# start = time.time()\n",
    "# fc3 = method_preloaded_dict(data)\n",
    "# print(\"Feature count (example):\", fc3.size().getInfo())\n",
    "# t3 = time.time() - start\n",
    "\n",
    "# print(f\"json.load()       : {t1:.5f} sec\")\n",
    "# print(f\"read() string     : {t2:.5f} sec\")\n",
    "# print(f\"preloaded dict    : {t3:.5f} sec\")\n",
    "\n",
    "# # Optional: confirm identical feature counts\n",
    "# # print(\"Feature count (example):\", fc1.size().getInfo())\n",
    "# # print(\"Feature count (example):\", fc2.size().getInfo())\n",
    "# # print(\"Feature count (example):\", fc3.size().getInfo())\n"
   ]
  },
  {
   "cell_type": "code",
   "execution_count": null,
   "id": "d4047fd8",
   "metadata": {},
   "outputs": [],
   "source": [
    "admin_image = ee.Image(\"projects/ee-andyarnellgee/assets/admin_gaul\").rename(\"admin_gaul\")"
   ]
  },
  {
   "cell_type": "code",
   "execution_count": 207,
   "id": "d5d679ea",
   "metadata": {},
   "outputs": [
    {
     "name": "stdout",
     "output_type": "stream",
     "text": [
      "{'type': 'Feature', 'geometry': {'type': 'Point', 'coordinates': [-31.90801548024177, -9.79777628148788]}, 'id': '0', 'properties': {}}\n"
     ]
    }
   ],
   "source": [
    "fc_centroids = fc.map(lambda feature: ee.Feature(feature.geometry().centroid()) )\n",
    "print(fc_centroids.first().getInfo())"
   ]
  },
  {
   "cell_type": "code",
   "execution_count": 208,
   "id": "377ab14e",
   "metadata": {},
   "outputs": [
    {
     "name": "stdout",
     "output_type": "stream",
     "text": [
      "[1848, 1906, 1838, 2373, 1838, 1864, 1846, 1855, 1846, 1858, 1852, 1843, 2373, 1855, 1858, 1860, 1854, 1846, 1764, 2182, 1838, 1853, 1860, 1855, 1854, 1831, 2203, 1854, 1769, 1869, 1854, 1858, 1761, 1864, 1760, 2216, 1853, 1753, 1768, 1853, 2373, 1837, 1846, 2220, 1858, 1858, 1945, 1858, 1843, 1854, 1846, 1858, 1854]\n"
     ]
    }
   ],
   "source": [
    "admin_codes = admin_image.reduceRegions(fc_centroids,reducer='first',scale=500)\n",
    "print(admin_codes.aggregate_array('first').getInfo())"
   ]
  },
  {
   "cell_type": "code",
   "execution_count": 209,
   "id": "d8ca25c6",
   "metadata": {},
   "outputs": [],
   "source": [
    "df = whisp.convert_ee_to_df(admin_codes, remove_geom=True)"
   ]
  },
  {
   "cell_type": "code",
   "execution_count": 210,
   "id": "f7d82638",
   "metadata": {},
   "outputs": [],
   "source": [
    "df.drop(columns=['geo'], errors='ignore', inplace=True)"
   ]
  },
  {
   "cell_type": "code",
   "execution_count": 190,
   "id": "e4389b1a",
   "metadata": {},
   "outputs": [
    {
     "data": {
      "application/vnd.microsoft.datawrangler.viewer.v0+json": {
       "columns": [
        {
         "name": "index",
         "rawType": "int64",
         "type": "integer"
        },
        {
         "name": "first",
         "rawType": "float64",
         "type": "float"
        }
       ],
       "ref": "b715bcdc-ea12-4cf9-adfa-c0e8dc8146a0",
       "rows": [
        [
         "0",
         null
        ],
        [
         "1",
         "1845.0"
        ],
        [
         "2",
         null
        ],
        [
         "3",
         null
        ],
        [
         "4",
         "1861.0"
        ],
        [
         "5",
         "1847.0"
        ],
        [
         "6",
         null
        ],
        [
         "7",
         null
        ],
        [
         "8",
         "2198.0"
        ],
        [
         "9",
         null
        ],
        [
         "10",
         "1846.0"
        ],
        [
         "11",
         "1858.0"
        ],
        [
         "12",
         "1769.0"
        ],
        [
         "13",
         "1864.0"
        ],
        [
         "14",
         null
        ],
        [
         "15",
         "1769.0"
        ],
        [
         "16",
         "1865.0"
        ],
        [
         "17",
         "1852.0"
        ],
        [
         "18",
         "1851.0"
        ],
        [
         "19",
         null
        ],
        [
         "20",
         "1848.0"
        ],
        [
         "21",
         "1759.0"
        ],
        [
         "22",
         null
        ],
        [
         "23",
         null
        ],
        [
         "24",
         "1858.0"
        ],
        [
         "25",
         "1846.0"
        ],
        [
         "26",
         "1754.0"
        ],
        [
         "27",
         "1845.0"
        ],
        [
         "28",
         "1834.0"
        ],
        [
         "29",
         "2365.0"
        ],
        [
         "30",
         "1907.0"
        ],
        [
         "31",
         "1860.0"
        ],
        [
         "32",
         "1858.0"
        ],
        [
         "33",
         null
        ],
        [
         "34",
         "1846.0"
        ],
        [
         "35",
         "1853.0"
        ],
        [
         "36",
         "1846.0"
        ],
        [
         "37",
         null
        ],
        [
         "38",
         "1853.0"
        ],
        [
         "39",
         null
        ],
        [
         "40",
         null
        ],
        [
         "41",
         "1846.0"
        ],
        [
         "42",
         null
        ],
        [
         "43",
         "1845.0"
        ],
        [
         "44",
         null
        ],
        [
         "45",
         "1846.0"
        ],
        [
         "46",
         "1858.0"
        ],
        [
         "47",
         "1901.0"
        ],
        [
         "48",
         null
        ],
        [
         "49",
         "1858.0"
        ]
       ],
       "shape": {
        "columns": 1,
        "rows": 100
       }
      },
      "text/html": [
       "<div>\n",
       "<style scoped>\n",
       "    .dataframe tbody tr th:only-of-type {\n",
       "        vertical-align: middle;\n",
       "    }\n",
       "\n",
       "    .dataframe tbody tr th {\n",
       "        vertical-align: top;\n",
       "    }\n",
       "\n",
       "    .dataframe thead th {\n",
       "        text-align: right;\n",
       "    }\n",
       "</style>\n",
       "<table border=\"1\" class=\"dataframe\">\n",
       "  <thead>\n",
       "    <tr style=\"text-align: right;\">\n",
       "      <th></th>\n",
       "      <th>first</th>\n",
       "    </tr>\n",
       "  </thead>\n",
       "  <tbody>\n",
       "    <tr>\n",
       "      <th>0</th>\n",
       "      <td>NaN</td>\n",
       "    </tr>\n",
       "    <tr>\n",
       "      <th>1</th>\n",
       "      <td>1845.0</td>\n",
       "    </tr>\n",
       "    <tr>\n",
       "      <th>2</th>\n",
       "      <td>NaN</td>\n",
       "    </tr>\n",
       "    <tr>\n",
       "      <th>3</th>\n",
       "      <td>NaN</td>\n",
       "    </tr>\n",
       "    <tr>\n",
       "      <th>4</th>\n",
       "      <td>1861.0</td>\n",
       "    </tr>\n",
       "    <tr>\n",
       "      <th>...</th>\n",
       "      <td>...</td>\n",
       "    </tr>\n",
       "    <tr>\n",
       "      <th>95</th>\n",
       "      <td>1846.0</td>\n",
       "    </tr>\n",
       "    <tr>\n",
       "      <th>96</th>\n",
       "      <td>2276.0</td>\n",
       "    </tr>\n",
       "    <tr>\n",
       "      <th>97</th>\n",
       "      <td>2197.0</td>\n",
       "    </tr>\n",
       "    <tr>\n",
       "      <th>98</th>\n",
       "      <td>1853.0</td>\n",
       "    </tr>\n",
       "    <tr>\n",
       "      <th>99</th>\n",
       "      <td>1764.0</td>\n",
       "    </tr>\n",
       "  </tbody>\n",
       "</table>\n",
       "<p>100 rows × 1 columns</p>\n",
       "</div>"
      ],
      "text/plain": [
       "     first\n",
       "0      NaN\n",
       "1   1845.0\n",
       "2      NaN\n",
       "3      NaN\n",
       "4   1861.0\n",
       "..     ...\n",
       "95  1846.0\n",
       "96  2276.0\n",
       "97  2197.0\n",
       "98  1853.0\n",
       "99  1764.0\n",
       "\n",
       "[100 rows x 1 columns]"
      ]
     },
     "execution_count": 190,
     "metadata": {},
     "output_type": "execute_result"
    }
   ],
   "source": [
    "df"
   ]
  },
  {
   "cell_type": "code",
   "execution_count": 191,
   "id": "98530a15",
   "metadata": {},
   "outputs": [],
   "source": [
    "result_df = join_admin_codes(df, lookup_dict, id_col='first').drop(columns=['first'])"
   ]
  },
  {
   "cell_type": "code",
   "execution_count": 192,
   "id": "01b03944",
   "metadata": {},
   "outputs": [
    {
     "data": {
      "application/vnd.microsoft.datawrangler.viewer.v0+json": {
       "columns": [
        {
         "name": "index",
         "rawType": "int64",
         "type": "integer"
        },
        {
         "name": "Admin_Level_1",
         "rawType": "object",
         "type": "unknown"
        },
        {
         "name": "ProducerCountry",
         "rawType": "object",
         "type": "unknown"
        },
        {
         "name": "Country",
         "rawType": "object",
         "type": "unknown"
        }
       ],
       "ref": "1cd0d39c-8814-459c-ba61-d2e39dc53f6d",
       "rows": [
        [
         "0",
         null,
         null,
         null
        ],
        [
         "1",
         "Amapá",
         "BR",
         "BRA"
        ],
        [
         "2",
         null,
         null,
         null
        ],
        [
         "3",
         null,
         null,
         null
        ],
        [
         "4",
         "Rio De Janeiro",
         "BR",
         "BRA"
        ],
        [
         "5",
         "Bahia",
         "BR",
         "BRA"
        ],
        [
         "6",
         null,
         null,
         null
        ],
        [
         "7",
         null,
         null,
         null
        ],
        [
         "8",
         "San Pedro",
         "PY",
         "PRY"
        ],
        [
         "9",
         null,
         null,
         null
        ],
        [
         "10",
         "Amazonas",
         "BR",
         "BRA"
        ],
        [
         "11",
         "Pará",
         "BR",
         "BRA"
        ],
        [
         "12",
         "Santiago Del Estero",
         "AR",
         "ARG"
        ],
        [
         "13",
         "Rondônia",
         "BR",
         "BRA"
        ],
        [
         "14",
         null,
         null,
         null
        ],
        [
         "15",
         "Santiago Del Estero",
         "AR",
         "ARG"
        ],
        [
         "16",
         "Roraima",
         "BR",
         "BRA"
        ],
        [
         "17",
         "Maranhão",
         "BR",
         "BRA"
        ],
        [
         "18",
         "Goiás",
         "BR",
         "BRA"
        ],
        [
         "19",
         null,
         null,
         null
        ],
        [
         "20",
         "Ceará",
         "BR",
         "BRA"
        ],
        [
         "21",
         "La Rioja",
         "AR",
         "ARG"
        ],
        [
         "22",
         null,
         null,
         null
        ],
        [
         "23",
         null,
         null,
         null
        ],
        [
         "24",
         "Pará",
         "BR",
         "BRA"
        ],
        [
         "25",
         "Amazonas",
         "BR",
         "BRA"
        ],
        [
         "26",
         "Córdoba",
         "AR",
         "ARG"
        ],
        [
         "27",
         "Amapá",
         "BR",
         "BRA"
        ],
        [
         "28",
         "La Paz",
         "BO",
         "BOL"
        ],
        [
         "29",
         "Rivera",
         "UY",
         "URY"
        ],
        [
         "30",
         "Región De Valparaíso",
         "CL",
         "CHL"
        ],
        [
         "31",
         "Piauí",
         "BR",
         "BRA"
        ],
        [
         "32",
         "Pará",
         "BR",
         "BRA"
        ],
        [
         "33",
         null,
         null,
         null
        ],
        [
         "34",
         "Amazonas",
         "BR",
         "BRA"
        ],
        [
         "35",
         "Mato Grosso",
         "BR",
         "BRA"
        ],
        [
         "36",
         "Amazonas",
         "BR",
         "BRA"
        ],
        [
         "37",
         null,
         null,
         null
        ],
        [
         "38",
         "Mato Grosso",
         "BR",
         "BRA"
        ],
        [
         "39",
         null,
         null,
         null
        ],
        [
         "40",
         null,
         null,
         null
        ],
        [
         "41",
         "Amazonas",
         "BR",
         "BRA"
        ],
        [
         "42",
         null,
         null,
         null
        ],
        [
         "43",
         "Amapá",
         "BR",
         "BRA"
        ],
        [
         "44",
         null,
         null,
         null
        ],
        [
         "45",
         "Amazonas",
         "BR",
         "BRA"
        ],
        [
         "46",
         "Pará",
         "BR",
         "BRA"
        ],
        [
         "47",
         "Región De Coquimbo",
         "CL",
         "CHL"
        ],
        [
         "48",
         null,
         null,
         null
        ],
        [
         "49",
         "Pará",
         "BR",
         "BRA"
        ]
       ],
       "shape": {
        "columns": 3,
        "rows": 100
       }
      },
      "text/html": [
       "<div>\n",
       "<style scoped>\n",
       "    .dataframe tbody tr th:only-of-type {\n",
       "        vertical-align: middle;\n",
       "    }\n",
       "\n",
       "    .dataframe tbody tr th {\n",
       "        vertical-align: top;\n",
       "    }\n",
       "\n",
       "    .dataframe thead th {\n",
       "        text-align: right;\n",
       "    }\n",
       "</style>\n",
       "<table border=\"1\" class=\"dataframe\">\n",
       "  <thead>\n",
       "    <tr style=\"text-align: right;\">\n",
       "      <th></th>\n",
       "      <th>Admin_Level_1</th>\n",
       "      <th>ProducerCountry</th>\n",
       "      <th>Country</th>\n",
       "    </tr>\n",
       "  </thead>\n",
       "  <tbody>\n",
       "    <tr>\n",
       "      <th>0</th>\n",
       "      <td>NaN</td>\n",
       "      <td>NaN</td>\n",
       "      <td>NaN</td>\n",
       "    </tr>\n",
       "    <tr>\n",
       "      <th>1</th>\n",
       "      <td>Amapá</td>\n",
       "      <td>BR</td>\n",
       "      <td>BRA</td>\n",
       "    </tr>\n",
       "    <tr>\n",
       "      <th>2</th>\n",
       "      <td>NaN</td>\n",
       "      <td>NaN</td>\n",
       "      <td>NaN</td>\n",
       "    </tr>\n",
       "    <tr>\n",
       "      <th>3</th>\n",
       "      <td>NaN</td>\n",
       "      <td>NaN</td>\n",
       "      <td>NaN</td>\n",
       "    </tr>\n",
       "    <tr>\n",
       "      <th>4</th>\n",
       "      <td>Rio De Janeiro</td>\n",
       "      <td>BR</td>\n",
       "      <td>BRA</td>\n",
       "    </tr>\n",
       "    <tr>\n",
       "      <th>...</th>\n",
       "      <td>...</td>\n",
       "      <td>...</td>\n",
       "      <td>...</td>\n",
       "    </tr>\n",
       "    <tr>\n",
       "      <th>95</th>\n",
       "      <td>Amazonas</td>\n",
       "      <td>BR</td>\n",
       "      <td>BRA</td>\n",
       "    </tr>\n",
       "    <tr>\n",
       "      <th>96</th>\n",
       "      <td>Sipaliwini</td>\n",
       "      <td>SR</td>\n",
       "      <td>SUR</td>\n",
       "    </tr>\n",
       "    <tr>\n",
       "      <th>97</th>\n",
       "      <td>Presidente Hayes</td>\n",
       "      <td>PY</td>\n",
       "      <td>PRY</td>\n",
       "    </tr>\n",
       "    <tr>\n",
       "      <th>98</th>\n",
       "      <td>Mato Grosso</td>\n",
       "      <td>BR</td>\n",
       "      <td>BRA</td>\n",
       "    </tr>\n",
       "    <tr>\n",
       "      <th>99</th>\n",
       "      <td>Salta</td>\n",
       "      <td>AR</td>\n",
       "      <td>ARG</td>\n",
       "    </tr>\n",
       "  </tbody>\n",
       "</table>\n",
       "<p>100 rows × 3 columns</p>\n",
       "</div>"
      ],
      "text/plain": [
       "       Admin_Level_1 ProducerCountry Country\n",
       "0                NaN             NaN     NaN\n",
       "1              Amapá              BR     BRA\n",
       "2                NaN             NaN     NaN\n",
       "3                NaN             NaN     NaN\n",
       "4     Rio De Janeiro              BR     BRA\n",
       "..               ...             ...     ...\n",
       "95          Amazonas              BR     BRA\n",
       "96        Sipaliwini              SR     SUR\n",
       "97  Presidente Hayes              PY     PRY\n",
       "98       Mato Grosso              BR     BRA\n",
       "99             Salta              AR     ARG\n",
       "\n",
       "[100 rows x 3 columns]"
      ]
     },
     "execution_count": 192,
     "metadata": {},
     "output_type": "execute_result"
    }
   ],
   "source": [
    "result_df"
   ]
  },
  {
   "cell_type": "code",
   "execution_count": null,
   "id": "59257ad6",
   "metadata": {},
   "outputs": [],
   "source": []
  }
 ],
 "metadata": {
  "kernelspec": {
   "display_name": ".venv (3.12.0)",
   "language": "python",
   "name": "python3"
  },
  "language_info": {
   "codemirror_mode": {
    "name": "ipython",
    "version": 3
   },
   "file_extension": ".py",
   "mimetype": "text/x-python",
   "name": "python",
   "nbconvert_exporter": "python",
   "pygments_lexer": "ipython3",
   "version": "3.12.0"
  }
 },
 "nbformat": 4,
 "nbformat_minor": 5
}
