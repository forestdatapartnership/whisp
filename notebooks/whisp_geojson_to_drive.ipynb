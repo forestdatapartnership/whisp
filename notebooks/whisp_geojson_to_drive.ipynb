{
 "cells": [
  {
   "cell_type": "markdown",
   "id": "0",
   "metadata": {},
   "source": [
    "### Whisp a GeoJSON via Google drive\n",
    "- Use this notebook with larger datasets (e.g., over 10,000 features). \n",
    "- For smaller datasets consider 'whisp_geojson_to_csv.ipynb' or 'Colab_whisp_geojson_to_csv.ipynb' notebooks, as these are simpler to run\n",
    "- Note: This workflow requires retrieving output files manually from your Google Drive.\n",
    "- Please report issues with this notebook [here](https://github.com/forestdatapartnership/whisp/issues)"
   ]
  },
  {
   "cell_type": "markdown",
   "id": "1",
   "metadata": {},
   "source": [
    "Setup\n",
    "- NB use a virtual environment to avoid altering your python environment (https://docs.python.org/3/tutorial/venv.html)"
   ]
  },
  {
   "cell_type": "code",
   "execution_count": null,
   "id": "2",
   "metadata": {},
   "outputs": [],
   "source": [
    "# Earth Engine and Common Libraries\n",
    "import ee\n",
    "from pathlib import Path\n",
    "import pandas as pd\n",
    "\n",
    "# Authenticate and initialize Earth Engine\n",
    "try:\n",
    "    ee.Initialize()  # Try to use existing credentials first\n",
    "except Exception:\n",
    "    ee.Authenticate()\n",
    "    ee.Initialize()"
   ]
  },
  {
   "cell_type": "code",
   "execution_count": null,
   "id": "3",
   "metadata": {},
   "outputs": [],
   "source": [
    "# Install openforis-whisp (uncomment line if not already installed)\n",
    "# !pip install --pre openforis-whisp\n",
    "\n",
    "# NB for editable mode install via your terminal with: pip install -e .[dev]"
   ]
  },
  {
   "cell_type": "code",
   "execution_count": null,
   "id": "4",
   "metadata": {},
   "outputs": [],
   "source": [
    "import openforis_whisp as whisp"
   ]
  },
  {
   "cell_type": "markdown",
   "id": "5",
   "metadata": {},
   "source": [
    "Get a feature collection"
   ]
  },
  {
   "cell_type": "code",
   "execution_count": null,
   "id": "6",
   "metadata": {},
   "outputs": [],
   "source": [
    "GEOJSON_EXAMPLE_FILEPATH = (\n",
    "    Path.cwd().parents[0]/ \"tests\" / \"fixtures\" / \"geojson_example.geojson\"\n",
    ")\n",
    "print(GEOJSON_EXAMPLE_FILEPATH)\n"
   ]
  },
  {
   "cell_type": "markdown",
   "id": "7",
   "metadata": {},
   "source": [
    "Prepare inputs"
   ]
  },
  {
   "cell_type": "code",
   "execution_count": null,
   "id": "8",
   "metadata": {},
   "outputs": [],
   "source": [
    "# Choose if want to include additional custom layers\n",
    "USE_CUSTOM_BANDS = False # set to True if want to add extra ee data to whisp"
   ]
  },
  {
   "cell_type": "code",
   "execution_count": null,
   "id": "9",
   "metadata": {},
   "outputs": [],
   "source": [
    "# =============================================================================\n",
    "# CUSTOM BANDS SETUP (OPTIONAL) - runs only if USE_CUSTOM_BANDS = True above\n",
    "# =============================================================================\n",
    "if USE_CUSTOM_BANDS:\n",
    "\n",
    "    # Step 1: Define custom Earth Engine images (binary values 0 or 1)\n",
    "    custom_images = {\n",
    "        'example_treecover': ee.Image(1),  # ee.Image(\"UMD/hansen/global_forest_change_2024_v1_12\").select(\"treecover2000\").gt(10).selfMask()\n",
    "        'nXX_example_commodity': ee.Image.random(seed=1).gte(.5).reproject(crs='EPSG:4326', scale=10) # ee.ImageCollection(\"projects/forestdatapartnership/assets/cocoa/model_2025a\").filter(ee.Filter.date('2020-01-01', '2021-01-01')).mosaic().gt(.8).selfMask()\n",
    "        # add more images as needed (prefix 'nXX_' = iso2 code for national dataset)\n",
    "    }\n",
    "\n",
    "    # Step 2: Define metadata for each custom band (keys must match above)\n",
    "    # Themes: 'treecover', 'commodities', 'disturbance_before', 'disturbance_after'\n",
    "    # Timber themes: 'primary', 'naturally_reg_2020', 'planted_plantation_2020', etc.\n",
    "    custom_bands_info = {\n",
    "        'example_treecover': {\n",
    "            'ISO2_code': \"\",          # Country code (empty = all countries)\n",
    "            'theme': 'treecover',     # Risk theme\n",
    "            'theme_timber': \"\",       # Timber theme (if applicable)\n",
    "            'use_for_risk': 1,        # Include in risk calculations (1=yes, 0=no)\n",
    "            'use_for_risk_timber': 0  # Include in timber risk (1=yes, 0=no)\n",
    "        },\n",
    "        'nXX_example_commodity': {\n",
    "            'ISO2_code': \"XX\", \n",
    "            'theme': 'commodities', \n",
    "            'theme_timber': \"\",\n",
    "            'use_for_risk': 1, \n",
    "            'use_for_risk_timber': 0\n",
    "        }\n",
    "        # add more band metadata as needed\n",
    "    }\n",
    "\n",
    "    # Step 3: Combine custom bands and extract names\n",
    "    custom_ee_image = whisp.combine_custom_bands(custom_images, custom_bands_info)\n",
    "\n",
    "    custom_bands = list(custom_bands_info.keys())\n"
   ]
  },
  {
   "cell_type": "code",
   "execution_count": null,
   "id": "10",
   "metadata": {},
   "outputs": [],
   "source": [
    "# Choose additional national datasets to include (currently three countries: 'co', 'ci', 'br').\n",
    "base_iso2_codes = ['co', 'ci', 'br']\n",
    "\n",
    "# automatically add any custom ISO2 codes from custom_bands_info if USE_CUSTOM_BANDS is True\n",
    "iso2_codes_list = base_iso2_codes.copy()\n",
    "if USE_CUSTOM_BANDS:\n",
    "    iso2_codes_list += [code.lower() for code in {v.get('ISO2_code') for v in custom_bands_info.values()} if code and code.lower() not in iso2_codes_list]"
   ]
  },
  {
   "cell_type": "code",
   "execution_count": null,
   "id": "11",
   "metadata": {},
   "outputs": [],
   "source": [
    "# Create final Whisp image\n",
    "whisp_image = whisp.combine_datasets(national_codes=iso2_codes_list)\n",
    "if USE_CUSTOM_BANDS and 'custom_ee_image' in locals():\n",
    "    whisp_image = whisp_image.addBands(custom_ee_image)\n",
    "\n",
    "print(f\"Final image has {len(whisp_image.bandNames().getInfo())} bands\")"
   ]
  },
  {
   "cell_type": "code",
   "execution_count": null,
   "id": "12",
   "metadata": {},
   "outputs": [],
   "source": [
    "df_formatted_stats = whisp.whisp_stats_geojson_to_drive(\n",
    "    input_geojson_filepath=GEOJSON_EXAMPLE_FILEPATH,\n",
    "    # external_id_column=\"user_id\",# optional -  specify which input column/property to map to the external ID.\n",
    "    national_codes=iso2_codes_list,  # optional - By default national datasets are not included unless specified here.\n",
    "    # unit_type='percent', # optional - to change unit type. Default is 'ha'. \n",
    "    whisp_image=whisp_image, # optional - defaults to standard whisp image if not provided\n",
    ") "
   ]
  },
  {
   "cell_type": "markdown",
   "id": "13",
   "metadata": {},
   "source": [
    "Manual step \n",
    "- download from Google Drive when finished\n",
    "- place in output folder (or alternative location)\n",
    "\n"
   ]
  },
  {
   "cell_type": "markdown",
   "id": "14",
   "metadata": {},
   "source": [
    "Import CSV of raw stats\n"
   ]
  },
  {
   "cell_type": "code",
   "execution_count": null,
   "id": "15",
   "metadata": {},
   "outputs": [],
   "source": [
    "# Define output directory\n",
    "out_directory = Path.home() / 'Downloads' \n",
    "\n",
    "# Define output file path\n",
    "stats_file_from_drive = out_directory / \"whisp_output_table.csv\" # edit as required\n",
    "\n",
    "df_stats = pd.read_csv(stats_file_from_drive)\n",
    "\n",
    "df_stats = df_stats.rename(columns={\".geo\": \"geo\"})\n"
   ]
  },
  {
   "cell_type": "markdown",
   "id": "16",
   "metadata": {},
   "source": [
    "Display table "
   ]
  },
  {
   "cell_type": "code",
   "execution_count": null,
   "id": "17",
   "metadata": {},
   "outputs": [],
   "source": [
    "# raw stats\n",
    "df_stats"
   ]
  },
  {
   "cell_type": "markdown",
   "id": "18",
   "metadata": {},
   "source": [
    "Format stats based on Whisp schema"
   ]
  },
  {
   "cell_type": "code",
   "execution_count": null,
   "id": "19",
   "metadata": {},
   "outputs": [],
   "source": [
    "\n",
    "df_stats = whisp.convert_iso3_to_iso2(df=df_stats, iso3_column=\"Country\", iso2_column=\"ProducerCountry\") # temp conversion to add iso2 column\n",
    "\n",
    "df_stats = whisp.set_point_geometry_area_to_zero(df_stats)\n",
    " \n",
    "df_formatted_stats = whisp.validate_dataframe_using_lookups_flexible(df_stats, national_codes=iso2_codes_list, custom_bands=custom_bands if USE_CUSTOM_BANDS else None)\n"
   ]
  },
  {
   "cell_type": "markdown",
   "id": "20",
   "metadata": {},
   "source": [
    "Display table\n",
    "- Note: If this doesn't look right, check previous steps (including if using the correct downloaded csv results)"
   ]
  },
  {
   "cell_type": "code",
   "execution_count": null,
   "id": "21",
   "metadata": {},
   "outputs": [],
   "source": [
    "df_formatted_stats #view output dataframe\n"
   ]
  },
  {
   "cell_type": "markdown",
   "id": "22",
   "metadata": {},
   "source": [
    "Calculate risk category"
   ]
  },
  {
   "cell_type": "code",
   "execution_count": null,
   "id": "23",
   "metadata": {},
   "outputs": [],
   "source": [
    "# add risk columns to end of dataframe\n",
    "df_w_risk = whisp.whisp_risk(df=df_formatted_stats,\n",
    "                             national_codes=iso2_codes_list, # optional - By default national datasets are not included. This should align with the national_codes used above.\n",
    "                             custom_bands_info=custom_bands_info if USE_CUSTOM_BANDS else None\n",
    "                             )\n"
   ]
  },
  {
   "cell_type": "markdown",
   "id": "24",
   "metadata": {},
   "source": [
    "Display table with risk columns"
   ]
  },
  {
   "cell_type": "code",
   "execution_count": null,
   "id": "25",
   "metadata": {},
   "outputs": [],
   "source": [
    "df_w_risk"
   ]
  },
  {
   "cell_type": "markdown",
   "id": "26",
   "metadata": {},
   "source": [
    "Export table with risk columns to csv "
   ]
  },
  {
   "cell_type": "code",
   "execution_count": null,
   "id": "27",
   "metadata": {},
   "outputs": [],
   "source": [
    "# Define output file path\n",
    "output_risk_file = out_directory / \"whisp_output_table_w_risk.csv\" # edit as required\n",
    "\n",
    "# Save statistics with added risk columns to CSV\n",
    "df_w_risk.to_csv(path_or_buf=output_risk_file,index=False)\n",
    "\n",
    "print(f\"Table with risk columns saved to: {output_risk_file}\")"
   ]
  },
  {
   "cell_type": "markdown",
   "id": "28",
   "metadata": {},
   "source": [
    "Export to GeoJSON (optional)"
   ]
  },
  {
   "cell_type": "code",
   "execution_count": null,
   "id": "29",
   "metadata": {},
   "outputs": [],
   "source": [
    "# Define the output file path for GeoJSON\n",
    "geojson_output_file = out_directory / 'whisp_output_table.geojson'\n",
    "\n",
    "# Save the GeoJSON file\n",
    "whisp.convert_df_to_geojson(df_w_risk, geojson_output_file)  # builds a geojson file containing Whisp columns. Uses the geometry column \"geo\" to create the spatial features.\n",
    "print(f\"GeoJSON file saved to: {geojson_output_file}\")"
   ]
  },
  {
   "cell_type": "code",
   "execution_count": null,
   "id": "30",
   "metadata": {},
   "outputs": [],
   "source": []
  }
 ],
 "metadata": {
  "kernelspec": {
   "display_name": ".venv (3.12.0)",
   "language": "python",
   "name": "python3"
  },
  "language_info": {
   "codemirror_mode": {
    "name": "ipython",
    "version": 3
   },
   "file_extension": ".py",
   "mimetype": "text/x-python",
   "name": "python",
   "nbconvert_exporter": "python",
   "pygments_lexer": "ipython3",
   "version": "3.12.0"
  }
 },
 "nbformat": 4,
 "nbformat_minor": 5
}
