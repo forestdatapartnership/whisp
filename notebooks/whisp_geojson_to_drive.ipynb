{
 "cells": [
  {
   "cell_type": "markdown",
   "id": "250b53cc",
   "metadata": {},
   "source": [
    "### Whisp a GeoJSON via Google drive\n",
    "- Use this notebook with larger datasets (e.g., over 10,000 features). \n",
    "- For smaller datasets consider 'whisp_geojson_to_csv.ipynb' or 'Colab_whisp_geojson_to_csv.ipynb' notebooks, as these are simpler to run\n",
    "- Note: This workflow requires retrieving output files manually from your Google Drive.\n",
    "- Please report issues with this notebook [here](https://github.com/forestdatapartnership/whisp/issues)"
   ]
  },
  {
   "cell_type": "markdown",
   "id": "0ed47318",
   "metadata": {},
   "source": [
    "Setup\n",
    "- NB use a virtual environment to avoid altering your python environment (https://docs.python.org/3/tutorial/venv.html)"
   ]
  },
  {
   "cell_type": "code",
   "execution_count": null,
   "id": "38ac967d",
   "metadata": {},
   "outputs": [],
   "source": [
    "# Earth Engine and Common Libraries\n",
    "import ee\n",
    "from pathlib import Path\n",
    "import pandas as pd\n",
    "\n",
    "# Authenticate and initialize Earth Engine\n",
    "try:\n",
    "    ee.Initialize()  # Try to use existing credentials first\n",
    "except Exception:\n",
    "    ee.Authenticate()\n",
    "    ee.Initialize()"
   ]
  },
  {
   "cell_type": "code",
   "execution_count": null,
   "id": "3161a357",
   "metadata": {},
   "outputs": [],
   "source": [
    "# Install openforis-whisp (uncomment line if not already installed)\n",
    "# !pip install --pre openforis-whisp\n",
    "\n",
    "# NB for editable mode install via your terminal with: pip install -e .[dev]"
   ]
  },
  {
   "cell_type": "code",
   "execution_count": null,
   "id": "093ec4d9",
   "metadata": {},
   "outputs": [],
   "source": [
    "import openforis_whisp as whisp"
   ]
  },
  {
   "cell_type": "markdown",
   "id": "a66d9f78",
   "metadata": {},
   "source": [
    "Get a feature collection"
   ]
  },
  {
   "cell_type": "code",
   "execution_count": null,
   "id": "1b7d644b",
   "metadata": {},
   "outputs": [],
   "source": [
    "GEOJSON_EXAMPLE_FILEPATH = (\n",
    "    Path.cwd().parents[0]/ \"tests\" / \"fixtures\" / \"geojson_example.geojson\"\n",
    ")\n",
    "print(GEOJSON_EXAMPLE_FILEPATH)\n"
   ]
  },
  {
   "cell_type": "markdown",
   "id": "4fce13c5",
   "metadata": {},
   "source": [
    "Prepare inputs"
   ]
  },
  {
   "cell_type": "code",
   "execution_count": null,
   "id": "febbf2a3",
   "metadata": {},
   "outputs": [],
   "source": [
    "# Choose countries to process (currently three countries: 'co', 'ci', 'br')\n",
    "iso2_codes_list = ['co', 'ci', 'br']  # Example ISO2 codes for including country specific data\n",
    "\n",
    "# Choose if want to include additional custom layers\n",
    "USE_CUSTOM_BANDS = False # set to True if want to add extra ee data to whisp"
   ]
  },
  {
   "cell_type": "code",
   "execution_count": null,
   "id": "4bcef726",
   "metadata": {},
   "outputs": [],
   "source": [
    "# =============================================================================\n",
    "# CUSTOM BANDS SETUP (OPTIONAL) - runs only if USE_CUSTOM_BANDS = True above\n",
    "# =============================================================================\n",
    "if USE_CUSTOM_BANDS:\n",
    "    \n",
    "    # Step 1: Define custom Earth Engine images (binary values 0 or 1)\n",
    "    custom_images = {\n",
    "        'example_treecover': ee.Image(1),  \n",
    "        'nBR_example_commodity': ee.Image.random(seed=1).gte(.5).reproject(crs='EPSG:4326', scale=10)\n",
    "        # add more images as needed\n",
    "    }\n",
    "    \n",
    "    # Step 2: Define metadata for each custom band (keys must match above)\n",
    "    # Themes: 'treecover', 'commodities', 'disturbance_before', 'disturbance_after'\n",
    "    # Timber themes: 'primary', 'naturally_reg_2020', 'planted_plantation_2020', etc.\n",
    "    custom_bands_info = {\n",
    "        'example_treecover': {\n",
    "            'ISO2_code': \"\",          # Country code (empty = all countries)\n",
    "            'theme': 'treecover',     # Risk theme\n",
    "            'theme_timber': \"\",       # Timber theme (if applicable)\n",
    "            'use_for_risk': 1,        # Include in risk calculations (1=yes, 0=no)\n",
    "            'use_for_risk_timber': 0  # Include in timber risk (1=yes, 0=no)\n",
    "        },\n",
    "        'nBR_example_commodity': {\n",
    "            'ISO2_code': \"BR\", 'theme': 'commodities', 'theme_timber': \"\", \n",
    "            'use_for_risk': 1, 'use_for_risk_timber': 0\n",
    "        }\n",
    "        # add more band metadata as needed\n",
    "    }\n",
    "    \n",
    "    # Step 3: Combine custom bands and extract names\n",
    "    custom_ee_image = whisp.combine_custom_bands(custom_images, custom_bands_info)\n",
    "    \n",
    "    custom_bands = list(custom_bands_info.keys())\n"
   ]
  },
  {
   "cell_type": "code",
   "execution_count": null,
   "id": "e6e172d8",
   "metadata": {},
   "outputs": [],
   "source": [
    "# Create final Whisp image\n",
    "whisp_image = whisp.combine_datasets(national_codes=iso2_codes_list)\n",
    "if USE_CUSTOM_BANDS and 'custom_ee_image' in locals():\n",
    "    whisp_image = whisp_image.addBands(custom_ee_image)\n",
    "\n",
    "print(f\"📊 Final image has {len(whisp_image.bandNames().getInfo())} bands\")"
   ]
  },
  {
   "cell_type": "code",
   "execution_count": null,
   "id": "af82054d",
   "metadata": {},
   "outputs": [],
   "source": [
    "df_formatted_stats = whisp.whisp_stats_geojson_to_drive(\n",
    "    input_geojson_filepath=GEOJSON_EXAMPLE_FILEPATH,\n",
    "    # external_id_column=\"user_id\",# optional -  specify which input column/property to map to the external ID.\n",
    "    national_codes=iso2_codes_list,  # optional - By default national datasets are not included unless specified here.\n",
    "    # unit_type='percent', # optional - to change unit type. Default is 'ha'. \n",
    "    whisp_image=whisp_image, # optional - defaults to standard whisp image if not provided\n",
    ") "
   ]
  },
  {
   "cell_type": "markdown",
   "id": "d9ba08b5",
   "metadata": {},
   "source": [
    "Manual step \n",
    "- download from Google Drive when finished\n",
    "- place in output folder (or alternative location)\n",
    "\n"
   ]
  },
  {
   "cell_type": "markdown",
   "id": "2f52afee",
   "metadata": {},
   "source": [
    "Import CSV of raw stats\n"
   ]
  },
  {
   "cell_type": "code",
   "execution_count": null,
   "id": "b9666a38",
   "metadata": {},
   "outputs": [],
   "source": [
    "# Define output directory\n",
    "out_directory = Path.home() / 'Downloads' \n",
    "\n",
    "# Define output file path\n",
    "stats_file_from_drive = out_directory / \"whisp_output_table.csv\" # edit as required\n",
    "\n",
    "df_stats = pd.read_csv(stats_file_from_drive)\n",
    "\n",
    "df_stats = df_stats.rename(columns={\".geo\": \"geo\"})\n"
   ]
  },
  {
   "cell_type": "markdown",
   "id": "6fb7cf3d",
   "metadata": {},
   "source": [
    "Display table "
   ]
  },
  {
   "cell_type": "code",
   "execution_count": null,
   "id": "619dd1f4",
   "metadata": {},
   "outputs": [],
   "source": [
    "# raw stats\n",
    "df_stats"
   ]
  },
  {
   "cell_type": "markdown",
   "id": "06d39005",
   "metadata": {},
   "source": [
    "Format stats based on Whisp schema"
   ]
  },
  {
   "cell_type": "code",
   "execution_count": null,
   "id": "bd0a3004",
   "metadata": {},
   "outputs": [],
   "source": [
    "\n",
    "df_stats = whisp.convert_iso3_to_iso2(df=df_stats, iso3_column=\"Country\", iso2_column=\"ProducerCountry\") # temp conversion to add iso2 column\n",
    "\n",
    "df_formatted_stats = whisp.validate_dataframe_using_lookups_flexible(df_stats, national_codes=iso2_codes_list, custom_bands=custom_bands if USE_CUSTOM_BANDS else None)\n"
   ]
  },
  {
   "cell_type": "markdown",
   "id": "c24ce34d",
   "metadata": {},
   "source": [
    "Display table\n",
    "- Note: If this doesn't look right, check previous steps (including if using the correct downloaded csv results)"
   ]
  },
  {
   "cell_type": "code",
   "execution_count": null,
   "id": "65ad5bf4",
   "metadata": {},
   "outputs": [],
   "source": [
    "df_formatted_stats #view output dataframe\n"
   ]
  },
  {
   "cell_type": "markdown",
   "id": "5c2ecbf7-d86f-425c-9c93-80ce21f3dff2",
   "metadata": {},
   "source": [
    "Calculate risk category"
   ]
  },
  {
   "cell_type": "code",
   "execution_count": null,
   "id": "f4cd1b5c-41ac-4d3c-af26-a47db3d48af8",
   "metadata": {},
   "outputs": [],
   "source": [
    "# add risk columns to end of dataframe\n",
    "df_w_risk = whisp.whisp_risk(df=df_formatted_stats,\n",
    "                             national_codes=iso2_codes_list, # optional - By default national datasets are not included. This should align with the national_codes used above.\n",
    "                             custom_bands_info=custom_bands_info if USE_CUSTOM_BANDS else None\n",
    "                             )\n"
   ]
  },
  {
   "cell_type": "markdown",
   "id": "5a15577b-44bb-4792-98ef-95fd6bc1aabb",
   "metadata": {},
   "source": [
    "Display table with risk columns"
   ]
  },
  {
   "cell_type": "code",
   "execution_count": null,
   "id": "0c62b10e-7484-47cd-9f73-40f612be5407",
   "metadata": {},
   "outputs": [],
   "source": [
    "df_w_risk"
   ]
  },
  {
   "cell_type": "markdown",
   "id": "094c0019-585e-4598-8c54-c628625f5f80",
   "metadata": {},
   "source": [
    "Export table with risk columns to csv "
   ]
  },
  {
   "cell_type": "code",
   "execution_count": null,
   "id": "afa539dd-bb4c-44f7-922f-79e2644631a5",
   "metadata": {},
   "outputs": [],
   "source": [
    "# Define output file path\n",
    "output_risk_file = out_directory / \"whisp_output_table_w_risk.csv\" # edit as required\n",
    "\n",
    "# Save statistics with added risk columns to CSV\n",
    "df_w_risk.to_csv(path_or_buf=output_risk_file,index=False)\n",
    "\n",
    "print(f\"Table with risk columns saved to: {output_risk_file}\")"
   ]
  },
  {
   "cell_type": "markdown",
   "id": "c3d34989",
   "metadata": {},
   "source": [
    "Export to GeoJSON (optional)"
   ]
  },
  {
   "cell_type": "code",
   "execution_count": null,
   "id": "e0683bf4",
   "metadata": {},
   "outputs": [],
   "source": [
    "# Define the output file path for GeoJSON\n",
    "geojson_output_file = out_directory / 'whisp_output_table.geojson'\n",
    "\n",
    "# Save the GeoJSON file\n",
    "whisp.convert_df_to_geojson(df_w_risk, geojson_output_file)  # builds a geojson file containing Whisp columns. Uses the geometry column \"geo\" to create the spatial features.\n",
    "print(f\"GeoJSON file saved to: {geojson_output_file}\")"
   ]
  },
  {
   "cell_type": "code",
   "execution_count": null,
   "id": "af86a71e",
   "metadata": {},
   "outputs": [],
   "source": []
  }
 ],
 "metadata": {
  "kernelspec": {
   "display_name": ".venv (3.12.0)",
   "language": "python",
   "name": "python3"
  },
  "language_info": {
   "codemirror_mode": {
    "name": "ipython",
    "version": 3
   },
   "file_extension": ".py",
   "mimetype": "text/x-python",
   "name": "python",
   "nbconvert_exporter": "python",
   "pygments_lexer": "ipython3",
   "version": "3.12.0"
  }
 },
 "nbformat": 4,
 "nbformat_minor": 5
}
