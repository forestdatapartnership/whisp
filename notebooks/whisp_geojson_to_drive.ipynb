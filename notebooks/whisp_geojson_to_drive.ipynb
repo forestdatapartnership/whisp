{
 "cells": [
  {
   "cell_type": "markdown",
   "id": "250b53cc",
   "metadata": {},
   "source": [
    "### Whisp a GeoJSON via Google drive\n",
    "- Use this when \"whisp_geojson_to_csv' notebook fails due to time out errors\n",
    "- NB requires collecting outputs from Google Drive "
   ]
  },
  {
   "cell_type": "markdown",
   "id": "0ed47318",
   "metadata": {},
   "source": [
    "Import packages\n",
    "- NB to avoid complications from altering main python environment run using a virtual environment (https://docs.python.org/3/tutorial/venv.html)"
   ]
  },
  {
   "cell_type": "code",
   "execution_count": 1,
   "id": "38ac967d",
   "metadata": {},
   "outputs": [],
   "source": [
    "import ee\n",
    "\n",
    "import pandas as pd\n",
    "\n",
    "from pathlib import Path\n",
    "\n",
    "import whisp\n",
    "\n",
    "ee.Authenticate() # Authenticate to Earth Engine (will open a browser window)\n",
    "ee.Initialize() # Initialize the Earth Engine library\n"
   ]
  },
  {
   "cell_type": "markdown",
   "id": "a66d9f78",
   "metadata": {},
   "source": [
    "Get a feature collection"
   ]
  },
  {
   "cell_type": "code",
   "execution_count": 2,
   "id": "1b7d644b",
   "metadata": {},
   "outputs": [
    {
     "name": "stdout",
     "output_type": "stream",
     "text": [
      "c:\\Users\\Arnell\\Documents\\GitHub\\whisp_sustaain\\test\\fixtures\\mixed_geometries.geojson\n"
     ]
    }
   ],
   "source": [
    "GEOJSON_EXAMPLE_FILEPATH = (\n",
    "    # Path.cwd().parents[0]/ \"test\" / \"fixtures\" / \"geojson_example.geojson\"\n",
    "    Path.cwd().parents[0]/ \"test\" / \"fixtures\" / \"mixed_geometries.geojson\"\n",
    ")\n",
    "print(GEOJSON_EXAMPLE_FILEPATH)\n"
   ]
  },
  {
   "cell_type": "markdown",
   "id": "4fce13c5",
   "metadata": {},
   "source": [
    "Whisp it"
   ]
  },
  {
   "cell_type": "code",
   "execution_count": 6,
   "id": "af82054d",
   "metadata": {},
   "outputs": [
    {
     "name": "stdout",
     "output_type": "stream",
     "text": [
      "Received geojson_filepath: c:\\Users\\Arnell\\Documents\\GitHub\\whisp_sustaain\\test\\fixtures\\mixed_geometries.geojson\n",
      "Reading GeoJSON file from: c:\\Users\\Arnell\\Documents\\GitHub\\whisp_sustaain\\test\\fixtures\\mixed_geometries.geojson\n",
      "['Plot_area_ha', 'Cocoa_bnetd', 'Oil_palm_Descals', 'ESA_fire_before_2020', 'ESA_fire_2001', 'ESA_fire_2002', 'ESA_fire_2003', 'ESA_fire_2004', 'ESA_fire_2005', 'ESA_fire_2006', 'ESA_fire_2007', 'ESA_fire_2008', 'ESA_fire_2009', 'ESA_fire_2010', 'ESA_fire_2011', 'ESA_fire_2012', 'ESA_fire_2013', 'ESA_fire_2014', 'ESA_fire_2015', 'ESA_fire_2016', 'ESA_fire_2017', 'ESA_fire_2018', 'ESA_fire_2019', 'ESA_fire_2020', 'ESA_TC_2020', 'Cocoa_ETH', 'Cocoa_FDaP', 'Forest_FDaP', 'Oil_palm_FDaP', 'Rubber_FDaP', 'GFC_TC_2020', 'GFC_loss_after_2020', 'GFC_loss_before_2020', 'GFC_loss_year_2001', 'GFC_loss_year_2002', 'GFC_loss_year_2003', 'GFC_loss_year_2004', 'GFC_loss_year_2005', 'GFC_loss_year_2006', 'GFC_loss_year_2007', 'GFC_loss_year_2008', 'GFC_loss_year_2009', 'GFC_loss_year_2010', 'GFC_loss_year_2011', 'GFC_loss_year_2012', 'GFC_loss_year_2013', 'GFC_loss_year_2014', 'GFC_loss_year_2015', 'GFC_loss_year_2016', 'GFC_loss_year_2017', 'GFC_loss_year_2018', 'GFC_loss_year_2019', 'GFC_loss_year_2020', 'GFC_loss_year_2021', 'GFC_loss_year_2022', 'GFC_loss_year_2023', 'GLAD_Primary', 'JAXA_FNF_2020', 'EUFO_2020', 'TMF_plant', 'TMF_undist', 'MODIS_fire_after_2020', 'MODIS_fire_before_2020', 'MODIS_fire_2000', 'MODIS_fire_2001', 'MODIS_fire_2002', 'MODIS_fire_2003', 'MODIS_fire_2004', 'MODIS_fire_2005', 'MODIS_fire_2006', 'MODIS_fire_2007', 'MODIS_fire_2008', 'MODIS_fire_2009', 'MODIS_fire_2010', 'MODIS_fire_2011', 'MODIS_fire_2012', 'MODIS_fire_2013', 'MODIS_fire_2014', 'MODIS_fire_2015', 'MODIS_fire_2016', 'MODIS_fire_2017', 'MODIS_fire_2018', 'MODIS_fire_2019', 'MODIS_fire_2020', 'MODIS_fire_2021', 'MODIS_fire_2022', 'MODIS_fire_2023', 'MODIS_fire_2024', 'RADD_after_2020', 'RADD_before_2020', 'RADD_year_2019', 'RADD_year_2020', 'RADD_year_2021', 'RADD_year_2022', 'RADD_year_2023', 'RADD_year_2024', 'Rubber_RBGE', 'TMF_def_after_2020', 'TMF_def_before_2020', 'TMF_def_2000', 'TMF_def_2001', 'TMF_def_2002', 'TMF_def_2003', 'TMF_def_2004', 'TMF_def_2005', 'TMF_def_2006', 'TMF_def_2007', 'TMF_def_2008', 'TMF_def_2009', 'TMF_def_2010', 'TMF_def_2011', 'TMF_def_2012', 'TMF_def_2013', 'TMF_def_2014', 'TMF_def_2015', 'TMF_def_2016', 'TMF_def_2017', 'TMF_def_2018', 'TMF_def_2019', 'TMF_def_2020', 'TMF_def_2021', 'TMF_def_2022', 'TMF_def_2023', 'TMF_deg_after_2020', 'TMF_deg_before_2020', 'TMF_deg_2000', 'TMF_deg_2001', 'TMF_deg_2002', 'TMF_deg_2003', 'TMF_deg_2004', 'TMF_deg_2005', 'TMF_deg_2006', 'TMF_deg_2007', 'TMF_deg_2008', 'TMF_deg_2009', 'TMF_deg_2010', 'TMF_deg_2011', 'TMF_deg_2012', 'TMF_deg_2013', 'TMF_deg_2014', 'TMF_deg_2015', 'TMF_deg_2016', 'TMF_deg_2017', 'TMF_deg_2018', 'TMF_deg_2019', 'TMF_deg_2020', 'TMF_deg_2021', 'TMF_deg_2022', 'TMF_deg_2023']\n",
      "{'type': 'Feature', 'geometry': None, 'id': '0', 'properties': {'Admin_Level_1': 'Riau', 'Centroid_lat': 0.5, 'Centroid_lon': 102, 'Cocoa_ETH': 0, 'Cocoa_FDaP': 0, 'Cocoa_bnetd': 0, 'Country': 'IDN', 'ESA_TC_2020': 0.089, 'ESA_fire_2001': 0, 'ESA_fire_2002': 0, 'ESA_fire_2003': 0, 'ESA_fire_2004': 0, 'ESA_fire_2005': 0, 'ESA_fire_2006': 0, 'ESA_fire_2007': 0, 'ESA_fire_2008': 0, 'ESA_fire_2009': 0, 'ESA_fire_2010': 0, 'ESA_fire_2011': 0, 'ESA_fire_2012': 0, 'ESA_fire_2013': 0, 'ESA_fire_2014': 0, 'ESA_fire_2015': 0, 'ESA_fire_2016': 0, 'ESA_fire_2017': 0, 'ESA_fire_2018': 0, 'ESA_fire_2019': 0, 'ESA_fire_2020': 0, 'ESA_fire_before_2020': 0, 'EUFO_2020': 0, 'Forest_FDaP': 0, 'GFC_TC_2020': 0, 'GFC_loss_after_2020': 0, 'GFC_loss_before_2020': 0.089, 'GFC_loss_year_2001': 0.089, 'GFC_loss_year_2002': 0, 'GFC_loss_year_2003': 0, 'GFC_loss_year_2004': 0, 'GFC_loss_year_2005': 0, 'GFC_loss_year_2006': 0, 'GFC_loss_year_2007': 0, 'GFC_loss_year_2008': 0, 'GFC_loss_year_2009': 0, 'GFC_loss_year_2010': 0, 'GFC_loss_year_2011': 0, 'GFC_loss_year_2012': 0, 'GFC_loss_year_2013': 0, 'GFC_loss_year_2014': 0, 'GFC_loss_year_2015': 0, 'GFC_loss_year_2016': 0, 'GFC_loss_year_2017': 0, 'GFC_loss_year_2018': 0, 'GFC_loss_year_2019': 0, 'GFC_loss_year_2020': 0, 'GFC_loss_year_2021': 0, 'GFC_loss_year_2022': 0, 'GFC_loss_year_2023': 0, 'GLAD_Primary': 0, 'Geometry_type': 'Point', 'In_waterbody': 0, 'JAXA_FNF_2020': 0.089, 'MODIS_fire_2000': 0, 'MODIS_fire_2001': 0, 'MODIS_fire_2002': 0, 'MODIS_fire_2003': 0, 'MODIS_fire_2004': 0, 'MODIS_fire_2005': 0, 'MODIS_fire_2006': 0, 'MODIS_fire_2007': 0, 'MODIS_fire_2008': 0, 'MODIS_fire_2009': 0, 'MODIS_fire_2010': 0, 'MODIS_fire_2011': 0, 'MODIS_fire_2012': 0, 'MODIS_fire_2013': 0, 'MODIS_fire_2014': 0, 'MODIS_fire_2015': 0, 'MODIS_fire_2016': 0, 'MODIS_fire_2017': 0, 'MODIS_fire_2018': 0, 'MODIS_fire_2019': 0, 'MODIS_fire_2020': 0, 'MODIS_fire_2021': 0, 'MODIS_fire_2022': 0, 'MODIS_fire_2023': 0, 'MODIS_fire_2024': 0, 'MODIS_fire_after_2020': 0, 'MODIS_fire_before_2020': 0, 'Oil_palm_Descals': 0, 'Oil_palm_FDaP': 0, 'Plot_area_ha': '0.089', 'RADD_after_2020': 0, 'RADD_before_2020': 0, 'RADD_year_2019': 0, 'RADD_year_2020': 0, 'RADD_year_2021': 0, 'RADD_year_2022': 0, 'RADD_year_2023': 0, 'RADD_year_2024': 0, 'Rubber_FDaP': 0, 'Rubber_RBGE': 0, 'TMF_def_2000': 0, 'TMF_def_2001': 0.089, 'TMF_def_2002': 0, 'TMF_def_2003': 0, 'TMF_def_2004': 0, 'TMF_def_2005': 0, 'TMF_def_2006': 0, 'TMF_def_2007': 0, 'TMF_def_2008': 0, 'TMF_def_2009': 0, 'TMF_def_2010': 0, 'TMF_def_2011': 0, 'TMF_def_2012': 0, 'TMF_def_2013': 0, 'TMF_def_2014': 0, 'TMF_def_2015': 0, 'TMF_def_2016': 0, 'TMF_def_2017': 0, 'TMF_def_2018': 0, 'TMF_def_2019': 0, 'TMF_def_2020': 0, 'TMF_def_2021': 0, 'TMF_def_2022': 0, 'TMF_def_2023': 0, 'TMF_def_after_2020': 0, 'TMF_def_before_2020': 0.089, 'TMF_deg_2000': 0, 'TMF_deg_2001': 0, 'TMF_deg_2002': 0, 'TMF_deg_2003': 0, 'TMF_deg_2004': 0, 'TMF_deg_2005': 0, 'TMF_deg_2006': 0, 'TMF_deg_2007': 0, 'TMF_deg_2008': 0, 'TMF_deg_2009': 0, 'TMF_deg_2010': 0, 'TMF_deg_2011': 0, 'TMF_deg_2012': 0, 'TMF_deg_2013': 0, 'TMF_deg_2014': 0, 'TMF_deg_2015': 0, 'TMF_deg_2016': 0, 'TMF_deg_2017': 0, 'TMF_deg_2018': 0, 'TMF_deg_2019': 0, 'TMF_deg_2020': 0, 'TMF_deg_2021': 0, 'TMF_deg_2022': 0, 'TMF_deg_2023': 0, 'TMF_deg_after_2020': 0, 'TMF_deg_before_2020': 0, 'TMF_plant': 0.089, 'TMF_undist': 0, 'Unit': 'ha'}}\n",
      "Exporting to Google Drive: 'whisp_results/whisp_output_table.csv'. To track progress: https://code.earthengine.google.com/tasks\n"
     ]
    }
   ],
   "source": [
    "whisp.whisp_stats_geojson_to_drive(GEOJSON_EXAMPLE_FILEPATH)\n"
   ]
  },
  {
   "cell_type": "markdown",
   "id": "d9ba08b5",
   "metadata": {},
   "source": [
    "Manual step \n",
    "- download from Google Drive when finished\n",
    "- place in output folder (or alternative location)\n",
    "\n"
   ]
  },
  {
   "cell_type": "markdown",
   "id": "2f52afee",
   "metadata": {},
   "source": [
    "Import CSV of raw stats\n"
   ]
  },
  {
   "cell_type": "code",
   "execution_count": null,
   "id": "b9666a38",
   "metadata": {},
   "outputs": [],
   "source": [
    "# Define output directory\n",
    "out_directory = Path.cwd().parents[0] / \"test\" / \"output\" # directory untracked by git\n",
    "\n",
    "# Define output file path\n",
    "stats_file_from_drive = out_directory / \"whisp_output_table.csv\" # edit as required\n",
    "\n",
    "df_stats = pd.read_csv(stats_file_from_drive)\n"
   ]
  },
  {
   "cell_type": "markdown",
   "id": "06d39005",
   "metadata": {},
   "source": [
    "Format stats based on Whisp schema\n"
   ]
  },
  {
   "cell_type": "code",
   "execution_count": null,
   "id": "bd0a3004",
   "metadata": {},
   "outputs": [],
   "source": [
    "\n",
    "df_formatted_stats = whisp.validate_dataframe_using_lookups(df_stats)"
   ]
  },
  {
   "cell_type": "markdown",
   "id": "c24ce34d",
   "metadata": {},
   "source": [
    "Display table"
   ]
  },
  {
   "cell_type": "code",
   "execution_count": null,
   "id": "65ad5bf4",
   "metadata": {},
   "outputs": [
    {
     "data": {
      "text/html": [
       "<div>\n",
       "<style scoped>\n",
       "    .dataframe tbody tr th:only-of-type {\n",
       "        vertical-align: middle;\n",
       "    }\n",
       "\n",
       "    .dataframe tbody tr th {\n",
       "        vertical-align: top;\n",
       "    }\n",
       "\n",
       "    .dataframe thead th {\n",
       "        text-align: right;\n",
       "    }\n",
       "</style>\n",
       "<table border=\"1\" class=\"dataframe\">\n",
       "  <thead>\n",
       "    <tr style=\"text-align: right;\">\n",
       "      <th></th>\n",
       "      <th>plotId</th>\n",
       "      <th>geoid</th>\n",
       "      <th>Plot_area_ha</th>\n",
       "      <th>Geometry_type</th>\n",
       "      <th>Country</th>\n",
       "      <th>Admin_Level_1</th>\n",
       "      <th>Centroid_lon</th>\n",
       "      <th>Centroid_lat</th>\n",
       "      <th>Unit</th>\n",
       "      <th>In_waterbody</th>\n",
       "      <th>...</th>\n",
       "      <th>TMF_def_before_2020</th>\n",
       "      <th>GFC_loss_before_2020</th>\n",
       "      <th>ESA_fire_before_2020</th>\n",
       "      <th>MODIS_fire_before_2020</th>\n",
       "      <th>RADD_before_2020</th>\n",
       "      <th>TMF_deg_after_2020</th>\n",
       "      <th>TMF_def_after_2020</th>\n",
       "      <th>GFC_loss_after_2020</th>\n",
       "      <th>MODIS_fire_after_2020</th>\n",
       "      <th>RADD_after_2020</th>\n",
       "    </tr>\n",
       "  </thead>\n",
       "  <tbody>\n",
       "    <tr>\n",
       "      <th>0</th>\n",
       "      <td>1</td>\n",
       "      <td>NaN</td>\n",
       "      <td>0.089</td>\n",
       "      <td>Point</td>\n",
       "      <td>IDN</td>\n",
       "      <td>Riau</td>\n",
       "      <td>102.0</td>\n",
       "      <td>0.500000</td>\n",
       "      <td>ha</td>\n",
       "      <td>False</td>\n",
       "      <td>...</td>\n",
       "      <td>0.089000</td>\n",
       "      <td>0.08900</td>\n",
       "      <td>0.0000</td>\n",
       "      <td>0.000000</td>\n",
       "      <td>0.000000</td>\n",
       "      <td>0.000000</td>\n",
       "      <td>0.000000</td>\n",
       "      <td>0.000</td>\n",
       "      <td>0.000000</td>\n",
       "      <td>0.000000</td>\n",
       "    </tr>\n",
       "    <tr>\n",
       "      <th>1</th>\n",
       "      <td>2</td>\n",
       "      <td>NaN</td>\n",
       "      <td>1230836.875</td>\n",
       "      <td>Polygon</td>\n",
       "      <td>IDN</td>\n",
       "      <td>Riau</td>\n",
       "      <td>100.5</td>\n",
       "      <td>0.500006</td>\n",
       "      <td>ha</td>\n",
       "      <td>False</td>\n",
       "      <td>...</td>\n",
       "      <td>248494.640625</td>\n",
       "      <td>347697.84375</td>\n",
       "      <td>149848.8125</td>\n",
       "      <td>53576.351562</td>\n",
       "      <td>2913.889893</td>\n",
       "      <td>12263.407227</td>\n",
       "      <td>16933.828125</td>\n",
       "      <td>58801.875</td>\n",
       "      <td>1492.604004</td>\n",
       "      <td>32565.113281</td>\n",
       "    </tr>\n",
       "  </tbody>\n",
       "</table>\n",
       "<p>2 rows × 158 columns</p>\n",
       "</div>"
      ],
      "text/plain": [
       "  plotId  geoid  Plot_area_ha Geometry_type Country Admin_Level_1  \\\n",
       "0      1    NaN         0.089         Point     IDN          Riau   \n",
       "1      2    NaN   1230836.875       Polygon     IDN          Riau   \n",
       "\n",
       "   Centroid_lon  Centroid_lat Unit  In_waterbody  ...  TMF_def_before_2020  \\\n",
       "0         102.0      0.500000   ha         False  ...             0.089000   \n",
       "1         100.5      0.500006   ha         False  ...        248494.640625   \n",
       "\n",
       "   GFC_loss_before_2020  ESA_fire_before_2020  MODIS_fire_before_2020  \\\n",
       "0               0.08900                0.0000                0.000000   \n",
       "1          347697.84375           149848.8125            53576.351562   \n",
       "\n",
       "   RADD_before_2020  TMF_deg_after_2020  TMF_def_after_2020  \\\n",
       "0          0.000000            0.000000            0.000000   \n",
       "1       2913.889893        12263.407227        16933.828125   \n",
       "\n",
       "   GFC_loss_after_2020  MODIS_fire_after_2020  RADD_after_2020  \n",
       "0                0.000               0.000000         0.000000  \n",
       "1            58801.875            1492.604004     32565.113281  \n",
       "\n",
       "[2 rows x 158 columns]"
      ]
     },
     "execution_count": 4,
     "metadata": {},
     "output_type": "execute_result"
    }
   ],
   "source": [
    "df_formatted_stats #view output dataframe\n"
   ]
  },
  {
   "cell_type": "markdown",
   "id": "32ac3563",
   "metadata": {},
   "source": [
    "Export csv"
   ]
  },
  {
   "cell_type": "code",
   "execution_count": 6,
   "id": "cda5df37",
   "metadata": {},
   "outputs": [
    {
     "name": "stdout",
     "output_type": "stream",
     "text": [
      "Formatted stats saved to: c:\\Users\\Arnell\\Documents\\GitHub\\whisp_sustaain\\test\\output\\whisp_output_table.csv\n"
     ]
    }
   ],
   "source": [
    "# Define output directory\n",
    "out_directory = Path.cwd().parents[0] / \"test\" / \"output\" # directory untracked by git\n",
    "\n",
    "# Define output file path\n",
    "output_stats_file = out_directory / \"whisp_output_table.csv\" # edit as required\n",
    "\n",
    "# Save statistics to CSV\n",
    "df_formatted_stats.to_csv(path_or_buf=output_stats_file,index=False)\n",
    "\n",
    "print(f\"Formatted stats saved to: {output_stats_file}\")\n"
   ]
  },
  {
   "cell_type": "markdown",
   "id": "5c2ecbf7-d86f-425c-9c93-80ce21f3dff2",
   "metadata": {},
   "source": [
    "Calculate risk category"
   ]
  },
  {
   "cell_type": "code",
   "execution_count": 7,
   "id": "f4cd1b5c-41ac-4d3c-af26-a47db3d48af8",
   "metadata": {},
   "outputs": [
    {
     "name": "stderr",
     "output_type": "stream",
     "text": [
      "C:\\Users\\Arnell\\Documents\\GitHub\\whisp_sustaain\\whisp\\src\\risk.py:223: PerformanceWarning: DataFrame is highly fragmented.  This is usually the result of calling `frame.insert` many times, which has poor performance.  Consider joining all columns at once using pd.concat(axis=1) instead. To get a de-fragmented frame, use `newframe = frame.copy()`\n",
      "  df[new_column_name] = low_name\n",
      "C:\\Users\\Arnell\\Documents\\GitHub\\whisp_sustaain\\whisp\\src\\risk.py:223: PerformanceWarning: DataFrame is highly fragmented.  This is usually the result of calling `frame.insert` many times, which has poor performance.  Consider joining all columns at once using pd.concat(axis=1) instead. To get a de-fragmented frame, use `newframe = frame.copy()`\n",
      "  df[new_column_name] = low_name\n",
      "C:\\Users\\Arnell\\Documents\\GitHub\\whisp_sustaain\\whisp\\src\\risk.py:223: PerformanceWarning: DataFrame is highly fragmented.  This is usually the result of calling `frame.insert` many times, which has poor performance.  Consider joining all columns at once using pd.concat(axis=1) instead. To get a de-fragmented frame, use `newframe = frame.copy()`\n",
      "  df[new_column_name] = low_name\n",
      "C:\\Users\\Arnell\\Documents\\GitHub\\whisp_sustaain\\whisp\\src\\risk.py:223: PerformanceWarning: DataFrame is highly fragmented.  This is usually the result of calling `frame.insert` many times, which has poor performance.  Consider joining all columns at once using pd.concat(axis=1) instead. To get a de-fragmented frame, use `newframe = frame.copy()`\n",
      "  df[new_column_name] = low_name\n",
      "C:\\Users\\Arnell\\Documents\\GitHub\\whisp_sustaain\\whisp\\src\\risk.py:164: PerformanceWarning: DataFrame is highly fragmented.  This is usually the result of calling `frame.insert` many times, which has poor performance.  Consider joining all columns at once using pd.concat(axis=1) instead. To get a de-fragmented frame, use `newframe = frame.copy()`\n",
      "  df.at[index, \"EUDR_risk\"] = \"low\"\n"
     ]
    }
   ],
   "source": [
    "# add risk columns to end of dataframe\n",
    "df_w_risk = whisp.whisp_risk(df=df_formatted_stats)"
   ]
  },
  {
   "cell_type": "markdown",
   "id": "5a15577b-44bb-4792-98ef-95fd6bc1aabb",
   "metadata": {},
   "source": [
    "Display table with risk columns"
   ]
  },
  {
   "cell_type": "code",
   "execution_count": 8,
   "id": "0c62b10e-7484-47cd-9f73-40f612be5407",
   "metadata": {},
   "outputs": [
    {
     "data": {
      "text/html": [
       "<div>\n",
       "<style scoped>\n",
       "    .dataframe tbody tr th:only-of-type {\n",
       "        vertical-align: middle;\n",
       "    }\n",
       "\n",
       "    .dataframe tbody tr th {\n",
       "        vertical-align: top;\n",
       "    }\n",
       "\n",
       "    .dataframe thead th {\n",
       "        text-align: right;\n",
       "    }\n",
       "</style>\n",
       "<table border=\"1\" class=\"dataframe\">\n",
       "  <thead>\n",
       "    <tr style=\"text-align: right;\">\n",
       "      <th></th>\n",
       "      <th>plotId</th>\n",
       "      <th>geoid</th>\n",
       "      <th>Plot_area_ha</th>\n",
       "      <th>Geometry_type</th>\n",
       "      <th>Country</th>\n",
       "      <th>Admin_Level_1</th>\n",
       "      <th>Centroid_lon</th>\n",
       "      <th>Centroid_lat</th>\n",
       "      <th>Unit</th>\n",
       "      <th>In_waterbody</th>\n",
       "      <th>...</th>\n",
       "      <th>TMF_deg_after_2020</th>\n",
       "      <th>TMF_def_after_2020</th>\n",
       "      <th>GFC_loss_after_2020</th>\n",
       "      <th>MODIS_fire_after_2020</th>\n",
       "      <th>RADD_after_2020</th>\n",
       "      <th>Indicator_1_treecover</th>\n",
       "      <th>Indicator_2_commodities</th>\n",
       "      <th>Indicator_3_disturbance_before_2020</th>\n",
       "      <th>Indicator_4_disturbance_after_2020</th>\n",
       "      <th>EUDR_risk</th>\n",
       "    </tr>\n",
       "  </thead>\n",
       "  <tbody>\n",
       "    <tr>\n",
       "      <th>0</th>\n",
       "      <td>1</td>\n",
       "      <td>NaN</td>\n",
       "      <td>8.939</td>\n",
       "      <td>Point</td>\n",
       "      <td>IDN</td>\n",
       "      <td>Riau</td>\n",
       "      <td>102.0</td>\n",
       "      <td>0.500000</td>\n",
       "      <td>ha</td>\n",
       "      <td>False</td>\n",
       "      <td>...</td>\n",
       "      <td>0.0</td>\n",
       "      <td>0.000000</td>\n",
       "      <td>0.00000</td>\n",
       "      <td>0.000000</td>\n",
       "      <td>0.00000</td>\n",
       "      <td>yes</td>\n",
       "      <td>yes</td>\n",
       "      <td>yes</td>\n",
       "      <td>no</td>\n",
       "      <td>low</td>\n",
       "    </tr>\n",
       "    <tr>\n",
       "      <th>1</th>\n",
       "      <td>2</td>\n",
       "      <td>NaN</td>\n",
       "      <td>1231039.750</td>\n",
       "      <td>Polygon</td>\n",
       "      <td>IDN</td>\n",
       "      <td>Riau</td>\n",
       "      <td>100.5</td>\n",
       "      <td>0.500006</td>\n",
       "      <td>ha</td>\n",
       "      <td>False</td>\n",
       "      <td>...</td>\n",
       "      <td>0.0</td>\n",
       "      <td>187.727997</td>\n",
       "      <td>62425.46875</td>\n",
       "      <td>1474.989014</td>\n",
       "      <td>245100.34375</td>\n",
       "      <td>yes</td>\n",
       "      <td>yes</td>\n",
       "      <td>yes</td>\n",
       "      <td>yes</td>\n",
       "      <td>low</td>\n",
       "    </tr>\n",
       "  </tbody>\n",
       "</table>\n",
       "<p>2 rows × 163 columns</p>\n",
       "</div>"
      ],
      "text/plain": [
       "  plotId  geoid  Plot_area_ha Geometry_type Country Admin_Level_1  \\\n",
       "0      1    NaN         8.939         Point     IDN          Riau   \n",
       "1      2    NaN   1231039.750       Polygon     IDN          Riau   \n",
       "\n",
       "   Centroid_lon  Centroid_lat Unit  In_waterbody  ...  TMF_deg_after_2020  \\\n",
       "0         102.0      0.500000   ha         False  ...                 0.0   \n",
       "1         100.5      0.500006   ha         False  ...                 0.0   \n",
       "\n",
       "   TMF_def_after_2020  GFC_loss_after_2020  MODIS_fire_after_2020  \\\n",
       "0            0.000000              0.00000               0.000000   \n",
       "1          187.727997          62425.46875            1474.989014   \n",
       "\n",
       "   RADD_after_2020  Indicator_1_treecover  Indicator_2_commodities  \\\n",
       "0          0.00000                    yes                      yes   \n",
       "1     245100.34375                    yes                      yes   \n",
       "\n",
       "   Indicator_3_disturbance_before_2020  Indicator_4_disturbance_after_2020  \\\n",
       "0                                  yes                                  no   \n",
       "1                                  yes                                 yes   \n",
       "\n",
       "   EUDR_risk  \n",
       "0        low  \n",
       "1        low  \n",
       "\n",
       "[2 rows x 163 columns]"
      ]
     },
     "execution_count": 8,
     "metadata": {},
     "output_type": "execute_result"
    }
   ],
   "source": [
    "df_w_risk"
   ]
  },
  {
   "cell_type": "markdown",
   "id": "094c0019-585e-4598-8c54-c628625f5f80",
   "metadata": {},
   "source": [
    "Export table with risk columns to csv "
   ]
  },
  {
   "cell_type": "code",
   "execution_count": 9,
   "id": "afa539dd-bb4c-44f7-922f-79e2644631a5",
   "metadata": {},
   "outputs": [
    {
     "name": "stdout",
     "output_type": "stream",
     "text": [
      "Table with risk columns saved to: c:\\Users\\Arnell\\Documents\\GitHub\\whisp_sustaain\\test\\output\\whisp_output_table_w_risk.csv\n"
     ]
    }
   ],
   "source": [
    "# Define output file path\n",
    "output_risk_file = out_directory / \"whisp_output_table_w_risk.csv\" # edit as required\n",
    "\n",
    "# Save statistics with added risk columns to CSV\n",
    "df_w_risk.to_csv(path_or_buf=output_risk_file,index=False)\n",
    "\n",
    "print(f\"Table with risk columns saved to: {output_risk_file}\")"
   ]
  }
 ],
 "metadata": {
  "kernelspec": {
   "display_name": ".venv",
   "language": "python",
   "name": "python3"
  },
  "language_info": {
   "codemirror_mode": {
    "name": "ipython",
    "version": 3
   },
   "file_extension": ".py",
   "mimetype": "text/x-python",
   "name": "python",
   "nbconvert_exporter": "python",
   "pygments_lexer": "ipython3",
   "version": "3.12.0"
  }
 },
 "nbformat": 4,
 "nbformat_minor": 5
}
