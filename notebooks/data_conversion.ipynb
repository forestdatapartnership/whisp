{
 "cells": [
  {
   "cell_type": "markdown",
   "id": "0dff9687-012b-4722-8920-c42c9bcfa99a",
   "metadata": {},
   "source": [
    "### Data conversion"
   ]
  },
  {
   "cell_type": "markdown",
   "id": "3644d42b-a56c-4414-baf1-157f467289a8",
   "metadata": {},
   "source": [
    "Some common vector file format conversions.\n",
    "\n",
    "Includes:\n",
    "1) Geojson to GEE feature collection\n",
    "2) Shapefile to GEE feature collection\n",
    "3) Shapefile to goejson and vice versa\n",
    " - Caveats:\n",
    " - tested on simple datasets only,\n",
    " - cleaning and fixing geometry errors may be required first\n",
    " - for 1 and 2, large and/or complex polygons may require manual upload from code editor."
   ]
  },
  {
   "cell_type": "markdown",
   "id": "797256a0-858f-4c58-b848-1e72ada3cb90",
   "metadata": {},
   "source": [
    "#### Geojson"
   ]
  },
  {
   "cell_type": "code",
   "execution_count": null,
   "id": "763d0dc4-d6de-4fec-94d9-ccb598fc2038",
   "metadata": {},
   "outputs": [],
   "source": [
    "from parameters.config_imports import *"
   ]
  },
  {
   "cell_type": "markdown",
   "id": "beee7ab9-53f3-4260-af1c-818685e3d635",
   "metadata": {},
   "source": [
    "Read a geojson file"
   ]
  },
  {
   "cell_type": "code",
   "execution_count": null,
   "id": "e4e5e3de-d62b-4130-9a40-de3ceec7bccb",
   "metadata": {},
   "outputs": [],
   "source": [
    "file_path_geojson = \"input_examples/geojson_example.geojson\""
   ]
  },
  {
   "cell_type": "markdown",
   "id": "54a2d7b1-990d-4f16-8d59-f65db705b1f2",
   "metadata": {},
   "source": [
    "Convert geojson to a feature collection"
   ]
  },
  {
   "cell_type": "code",
   "execution_count": null,
   "id": "c7fdf53e-2a11-4375-85ee-6eea2cf9e09d",
   "metadata": {},
   "outputs": [],
   "source": [
    "roi = geojson_to_ee(file_path_geojson)"
   ]
  },
  {
   "cell_type": "markdown",
   "id": "a3b159b2-e8ec-49c2-b267-c9f3fe39aec6",
   "metadata": {},
   "source": [
    "Convert feature collection to a geojson"
   ]
  },
  {
   "cell_type": "code",
   "execution_count": null,
   "id": "4b95a0a4-bccf-4c8a-a024-b562dca1fc30",
   "metadata": {},
   "outputs": [],
   "source": [
    "geojson = geemap.ee_to_geojson(roi)"
   ]
  },
  {
   "cell_type": "markdown",
   "id": "eeced4d6-eaf1-4a4d-a388-b773e8fd6f1a",
   "metadata": {},
   "source": [
    "Write geojson to file"
   ]
  },
  {
   "cell_type": "code",
   "execution_count": null,
   "id": "d8ae4d98-e2ae-4456-985c-1f1b5920d3cf",
   "metadata": {},
   "outputs": [],
   "source": [
    "with open(file_path_geojson, 'w') as file:\n",
    "    json.dump(geojson, file)"
   ]
  },
  {
   "cell_type": "markdown",
   "id": "41a22f21-eaf9-45b1-9318-211c24178e6f",
   "metadata": {},
   "source": [
    "#### Shapefile"
   ]
  },
  {
   "cell_type": "markdown",
   "id": "c9341fa8-cfeb-40ff-b8a0-4b888f635257",
   "metadata": {},
   "source": [
    "Open a shapefile"
   ]
  },
  {
   "cell_type": "code",
   "execution_count": null,
   "id": "99c607c4-9ee5-49e0-867b-b35239496674",
   "metadata": {},
   "outputs": [],
   "source": [
    "file_path_shapefile = \"input_examples/shapefile_example.shp\""
   ]
  },
  {
   "cell_type": "markdown",
   "id": "66bf0891-5561-4b06-9117-6dc5e9d200e7",
   "metadata": {},
   "source": [
    "Convert to a feature collection"
   ]
  },
  {
   "cell_type": "code",
   "execution_count": null,
   "id": "e60957f4-52d6-4d46-ab06-2277f504de39",
   "metadata": {},
   "outputs": [],
   "source": [
    "roi = shapefile_to_ee(file_path_shapefile)\n",
    "roi"
   ]
  },
  {
   "cell_type": "markdown",
   "id": "cdad1067-225c-4d55-9fec-5bbc64c46889",
   "metadata": {},
   "source": [
    "Convert feature collection to shapefile"
   ]
  },
  {
   "cell_type": "code",
   "execution_count": null,
   "id": "a7dea39d-cbc8-427e-9f3b-36f8165c4e7d",
   "metadata": {},
   "outputs": [],
   "source": [
    "ee_to_shapefile(roi,file_path_shapefile)"
   ]
  },
  {
   "cell_type": "markdown",
   "id": "fabc4191-2df2-4c62-a8c0-c4eb559fc4da",
   "metadata": {},
   "source": [
    "#### Between input formats"
   ]
  },
  {
   "cell_type": "code",
   "execution_count": null,
   "id": "6c09f692-b3b0-4020-8b15-6fee29c7a598",
   "metadata": {},
   "outputs": [],
   "source": [
    "geojson_to_shapefile(file_path_geojson,file_path_shapefile)"
   ]
  },
  {
   "cell_type": "code",
   "execution_count": null,
   "id": "9a52ac60-4f00-4d06-a550-708fccd46798",
   "metadata": {},
   "outputs": [],
   "source": [
    "shapefile_to_geojson(file_path_shapefile,file_path_geojson)"
   ]
  }
 ],
 "metadata": {
  "kernelspec": {
   "display_name": "Python 3",
   "language": "python",
   "name": "python3"
  },
  "language_info": {
   "codemirror_mode": {
    "name": "ipython",
    "version": 3
   },
   "file_extension": ".py",
   "mimetype": "text/x-python",
   "name": "python",
   "nbconvert_exporter": "python",
   "pygments_lexer": "ipython3",
   "version": "3.10.12"
  }
 },
 "nbformat": 4,
 "nbformat_minor": 5
}
