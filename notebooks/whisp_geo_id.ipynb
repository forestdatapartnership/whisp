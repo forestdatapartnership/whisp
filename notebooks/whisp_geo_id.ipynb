{
 "cells": [
  {
   "cell_type": "markdown",
   "id": "bfe423cf-8bd5-4727-8899-283ab6004221",
   "metadata": {},
   "source": [
    "#### Imports/setup"
   ]
  },
  {
   "cell_type": "code",
   "execution_count": null,
   "id": "13628509-e778-4395-b7e6-c8522eedb1b0",
   "metadata": {},
   "outputs": [],
   "source": [
    "from parameters.config_imports import *"
   ]
  },
  {
   "cell_type": "code",
   "execution_count": null,
   "id": "941c6116-bbf9-4948-ba36-52b008f450bf",
   "metadata": {},
   "outputs": [],
   "source": [
    "def whisp_stats_as_df (roi): \n",
    "    %store roi\n",
    "    %run process_whisp_stats.ipynb   \n",
    "    return df_out"
   ]
  },
  {
   "cell_type": "markdown",
   "id": "df2b3487-c87e-4a10-9097-bda251d53ab1",
   "metadata": {},
   "source": [
    "#### Input: Geo IDs\n",
    "Accepts either:\n",
    "1) a list of geo ids, or\n",
    "2) a txt file containing a list of geo ids"
   ]
  },
  {
   "cell_type": "code",
   "execution_count": null,
   "id": "8bad134f-42bf-4bbe-9087-f45d69ceb05b",
   "metadata": {},
   "outputs": [],
   "source": [
    "# Example usage\n",
    "input_geo_ids = 'input_examples/geoids_example.txt'  # Change to file path containing a list of geo ids "
   ]
  },
  {
   "cell_type": "markdown",
   "id": "5fdebaf0-99ec-42d8-97d7-68016ce987f7",
   "metadata": {},
   "source": [
    "#### Fetch plots and make a feature collection"
   ]
  },
  {
   "cell_type": "code",
   "execution_count": null,
   "id": "1d374bd2-850a-44a9-881e-b095629a73d7",
   "metadata": {},
   "outputs": [],
   "source": [
    "roi = geo_id_or_ids_to_feature_collection(\n",
    "    input_geo_ids=input_geo_ids, \n",
    "    geo_id_column=geo_id_column)"
   ]
  },
  {
   "cell_type": "code",
   "execution_count": null,
   "id": "1e9863a7-73f1-4541-ae68-e7d8cc1d0a93",
   "metadata": {},
   "outputs": [],
   "source": [
    "roi"
   ]
  },
  {
   "cell_type": "markdown",
   "id": "6ba90193-9bc2-4756-a839-f16c07284e04",
   "metadata": {},
   "source": [
    "### Whisp it"
   ]
  },
  {
   "cell_type": "code",
   "execution_count": null,
   "id": "62b25f9f-6c78-424a-87ae-1025c5088884",
   "metadata": {
    "editable": true,
    "slideshow": {
     "slide_type": ""
    },
    "tags": []
   },
   "outputs": [],
   "source": [
    "df = whisp_stats_as_df(roi)"
   ]
  },
  {
   "cell_type": "markdown",
   "id": "1b7b3539-f9dd-4dc4-84ac-4e043434ae27",
   "metadata": {},
   "source": [
    "### Display it"
   ]
  },
  {
   "cell_type": "code",
   "execution_count": null,
   "id": "e45cecd9-3bf0-40da-ad58-ec5a87a2d7be",
   "metadata": {},
   "outputs": [],
   "source": [
    "df"
   ]
  },
  {
   "cell_type": "markdown",
   "id": "3b0cec1c-3482-4fe6-b5ac-b60df4b2c4f6",
   "metadata": {},
   "source": [
    "#### Export it to CSV file"
   ]
  },
  {
   "cell_type": "code",
   "execution_count": null,
   "id": "fd56afe0-5480-4eb8-9a7b-e34feb54ae82",
   "metadata": {},
   "outputs": [],
   "source": [
    "df.to_csv(path_or_buf=out_csv,header=True)\n",
    "\n",
    "print (\"output csv: \", out_csv)\n"
   ]
  },
  {
   "cell_type": "markdown",
   "id": "ee45cf78-d7ad-4606-9a89-b372bc401e23",
   "metadata": {},
   "source": [
    "##### Calculate EUDR risk category"
   ]
  },
  {
   "cell_type": "code",
   "execution_count": null,
   "id": "b915e71d-666b-4644-9afe-9c22d911b11c",
   "metadata": {},
   "outputs": [],
   "source": [
    "# Replace with the name of your CSV file\n",
    "csv_file =out_directory/'whisp_output_table.csv'\n",
    "\n",
    "# import as a dataframe\n",
    "df_w_stats = pd.read_csv(csv_file)\n",
    "\n",
    "\n",
    "df_w_risk = whisp_risk(\n",
    "    df = df_w_stats, \n",
    "    ind_1_pcent_threshold=10,\n",
    "    ind_2_pcent_threshold=10,\n",
    "    ind_3_pcent_threshold=0,\n",
    "    ind_4_pcent_threshold=0\n",
    "    )\n"
   ]
  },
  {
   "cell_type": "markdown",
   "id": "96222e0b-1141-4483-853d-43a4ccd6e7a9",
   "metadata": {},
   "source": [
    "##### Display table with risk columns"
   ]
  },
  {
   "cell_type": "code",
   "execution_count": null,
   "id": "99641f32-d764-485d-8b50-f03313c666c4",
   "metadata": {},
   "outputs": [],
   "source": [
    "df_w_risk"
   ]
  },
  {
   "cell_type": "markdown",
   "id": "975baf35-ee31-4db1-9e20-f1f5be0d9a2c",
   "metadata": {},
   "source": [
    "##### Export table with risk columns to csv "
   ]
  },
  {
   "cell_type": "code",
   "execution_count": null,
   "id": "381502ce-b125-435b-8c25-e915a7003d9c",
   "metadata": {},
   "outputs": [],
   "source": [
    "output_file=out_directory/'whisp_output_table_w_risk.csv'\n",
    "\n",
    "df_w_risk.to_csv(output_file)\n"
   ]
  }
 ],
 "metadata": {
  "kernelspec": {
   "display_name": "Python 3",
   "language": "python",
   "name": "python3"
  },
  "language_info": {
   "codemirror_mode": {
    "name": "ipython",
    "version": 3
   },
   "file_extension": ".py",
   "mimetype": "text/x-python",
   "name": "python",
   "nbconvert_exporter": "python",
   "pygments_lexer": "ipython3",
   "version": "3.10.12"
  }
 },
 "nbformat": 4,
 "nbformat_minor": 5
}
