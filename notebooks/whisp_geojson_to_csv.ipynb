{
 "cells": [
  {
   "cell_type": "markdown",
   "id": "0",
   "metadata": {},
   "source": [
    "### Whisp a geojson"
   ]
  },
  {
   "cell_type": "markdown",
   "id": "1",
   "metadata": {},
   "source": [
    "Setup\n",
    "- Use a [virtual environment](https://docs.python.org/3/tutorial/venv.html) to avoid altering your python environment \n",
    "\n",
    "Usage:\n",
    "- Use this notebook with smaller datasets (e.g., up to 10,000 features). \n",
    "- For larger datasets consider the 'whisp_geojson_to_drive.ipynb' notebook, which is more suited to heavy processing\n",
    "- Please report issues with this notebook [here](https://github.com/forestdatapartnership/whisp/issues)"
   ]
  },
  {
   "cell_type": "code",
   "execution_count": null,
   "id": "2",
   "metadata": {},
   "outputs": [],
   "source": [
    "# Earth Engine and Common Libraries|\n",
    "import ee\n",
    "from pathlib import Path\n",
    "\n",
    "# Authenticate and initialize Earth Engine. \n",
    "try:\n",
    "    ee.Initialize()  # Try to use existing credentials first\n",
    "except Exception:\n",
    "    ee.Authenticate() # Authenticate may open a browser window\n",
    "    ee.Initialize()\n",
    "\n",
    "# NB if not working add your cloud project: ee.Initialize(project=\"your_gee_cloud_project_name\")"
   ]
  },
  {
   "cell_type": "code",
   "execution_count": null,
   "id": "3",
   "metadata": {},
   "outputs": [],
   "source": [
    "# Install openforis-whisp (uncomment line if not already installed)\n",
    "# !pip install --pre openforis-whisp\n",
    "\n",
    "# NB for editable mode install via your terminal with: pip install -e .[dev]"
   ]
  },
  {
   "cell_type": "code",
   "execution_count": null,
   "id": "4",
   "metadata": {},
   "outputs": [],
   "source": [
    "import openforis_whisp as whisp"
   ]
  },
  {
   "cell_type": "markdown",
   "id": "5",
   "metadata": {},
   "source": [
    "Get a geojson"
   ]
  },
  {
   "cell_type": "code",
   "execution_count": null,
   "id": "6",
   "metadata": {},
   "outputs": [],
   "source": [
    "# GEOJSON_EXAMPLE_FILEPATH = whisp.get_example_data_path(\"geojson_example.geojson\")"
   ]
  },
  {
   "cell_type": "code",
   "execution_count": null,
   "id": "7",
   "metadata": {},
   "outputs": [],
   "source": [
    "folder_path = r\"C:\\Users\\Arnell\\Downloads\\a_processing_tests\""
   ]
  },
  {
   "cell_type": "code",
   "execution_count": null,
   "id": "8",
   "metadata": {},
   "outputs": [],
   "source": [
    "folder_path = r\"C:\\Users\\Arnell\\Downloads\\a_processing_tests\"\n",
    "\n",
    "geom = (ee.FeatureCollection(\"projects/sat-io/open-datasets/FAO/GAUL/GAUL_2024_L1\")\n",
    "    .filter(ee.Filter.eq('gaul0_name', 'Brazil')).geometry()\n",
    ")\n",
    "\n",
    "geojson = whisp.generate_test_polygons(\n",
    "    bounds = geom,\n",
    "    num_polygons=100,\n",
    "    min_area_ha=10,\n",
    "    max_area_ha=50,\n",
    "    min_number_vert=50,\n",
    "    max_number_vert=100\n",
    "    )\n",
    "\n"
   ]
  },
  {
   "cell_type": "code",
   "execution_count": null,
   "id": "9",
   "metadata": {},
   "outputs": [],
   "source": [
    "import json\n",
    "with open (GEOJSON_EXAMPLE_FILEPATH, \"w\") as f:\n",
    "    json.dump(geojson,f)\n",
    "\n"
   ]
  },
  {
   "cell_type": "code",
   "execution_count": null,
   "id": "10",
   "metadata": {},
   "outputs": [],
   "source": [
    "import json\n",
    "import ee\n",
    "\n",
    "def convert_geojson_to_ee_quick(geojson_filepath):\n",
    "    with open(geojson_filepath, \"r\") as f:\n",
    "        geojson_data = json.load(f)\n",
    "    return ee.FeatureCollection(geojson_data)"
   ]
  },
  {
   "cell_type": "code",
   "execution_count": null,
   "id": "11",
   "metadata": {},
   "outputs": [],
   "source": [
    "fc = convert_geojson_to_ee_quick(GEOJSON_EXAMPLE_FILEPATH)\n",
    "print(str(fc.size().getInfo()))\n"
   ]
  },
  {
   "cell_type": "code",
   "execution_count": null,
   "id": "12",
   "metadata": {},
   "outputs": [],
   "source": [
    "fc = whisp.convert_geojson_to_ee(GEOJSON_EXAMPLE_FILEPATH)\n",
    "# print (str(fc.size().getInfo()))\n",
    "# fc = fc.map(\n",
    "#     lambda feature: feature.set('Area_Geometry', feature.geometry().area().divide(10000))\n",
    "#              )\n",
    "# print (str(fc.first().get(\"Area_Geometry\").getInfo()))\n",
    "# print(str(fc.size().getInfo()))\n"
   ]
  },
  {
   "cell_type": "code",
   "execution_count": null,
   "id": "13",
   "metadata": {},
   "outputs": [],
   "source": [
    "# --- Helper functions for extracting properties from FeatureCollection ---\n",
    "import pandas as pd\n",
    "from openforis_whisp.parameters.config_runtime import admin_1_column, iso3_country_column, iso2_country_column, geometry_type_column, centroid_x_coord_column, centroid_y_coord_column\n",
    "\n",
    "# Function to join admin codes using lookup_dict (from admin_code_linking)\n",
    "def join_admin_codes(df, lookup_dict, id_col):\n",
    "    lookup_df = pd.DataFrame.from_dict(lookup_dict, orient='index')\n",
    "    lookup_df.index.name = 'gaul1_code'\n",
    "    lookup_df = lookup_df.reset_index()\n",
    "    merged_df = df.merge(lookup_df, left_on=id_col, right_on='gaul1_code', how='left')\n",
    "    merged_df = merged_df.rename(columns={\n",
    "        'gaul1_name': admin_1_column,\n",
    "        'iso3_code': iso3_country_column,\n",
    "        'iso2_code': iso2_country_column\n",
    "    })\n",
    "    merged_df = merged_df.drop(columns=['gaul1_code','gaul0_name'])\n",
    "    return merged_df\n",
    "\n",
    "# Function to extract centroid, geometry type, and coordinates from an ee.Feature\n",
    "# (Assumes you have a FeatureCollection 'fc')\n",
    "def extract_centroid_and_geomtype(fc):\n",
    "    def add_centroid_and_geomtype(feature):\n",
    "        centroid = feature.geometry().centroid(1)\n",
    "        coords = centroid.coordinates()\n",
    "        return feature.set({\n",
    "            centroid_x_coord_column: coords.get(0),\n",
    "            centroid_y_coord_column: coords.get(1),\n",
    "            geometry_type_column: feature.geometry().type()\n",
    "        })\n",
    "    return fc.map(add_centroid_and_geomtype)\n",
    "\n",
    "# Example usage:\n",
    "fc_with_centroids = extract_centroid_and_geomtype(fc)\n",
    "df = whisp.convert_ee_to_df(fc_with_centroids, remove_geom=True)\n",
    "\n",
    "\n",
    "# Now join admin codes using lookup_dict and the centroid-based admin code column\n",
    "from openforis_whisp.parameters.lookup_gaul1_admin import lookup_dict\n",
    "result_df = join_admin_codes(df, lookup_dict, id_col='first')  # 'first' is the admin code column from reduceRegions\n",
    "\n",
    "result_df.head()"
   ]
  },
  {
   "cell_type": "code",
   "execution_count": null,
   "id": "14",
   "metadata": {},
   "outputs": [],
   "source": [
    "import geopandas as gpd\n",
    "\n",
    "# Load your GeoJSON file\n",
    "gdf = gpd.read_file(GEOJSON_EXAMPLE_FILEPATH)\n",
    "\n",
    "# Calculate centroids (returns Point geometry)\n",
    "gdf['centroid'] = gdf.geometry.centroid\n",
    "\n",
    "# Extract centroid coordinates\n",
    "gdf['centroid_x'] = gdf['centroid'].x\n",
    "gdf['centroid_y'] = gdf['centroid'].y\n",
    "\n",
    "# Get geometry type\n",
    "gdf['geometry_type'] = gdf.geometry.geom_type\n",
    "\n",
    "# Display results\n",
    "print(gdf[['centroid_x', 'centroid_y', 'geometry_type']])"
   ]
  },
  {
   "cell_type": "code",
   "execution_count": null,
   "id": "15",
   "metadata": {},
   "outputs": [],
   "source": [
    "# --- Test the helper functions with fc ---\n",
    "# 1. Add centroid and geometry type properties to each feature\n",
    "fc_with_centroids = extract_centroid_and_geomtype(fc)\n",
    "# print(fc_with_centroids.first().get(geometry_type_column).getInfo())\n",
    "# 2. Convert to DataFrame (remove_geom=True to avoid geometry column)\n",
    "df_centroids = whisp.convert_ee_to_df(fc_with_centroids, remove_geom=True)\n",
    "df_centroids.head()"
   ]
  },
  {
   "cell_type": "code",
   "execution_count": null,
   "id": "16",
   "metadata": {},
   "outputs": [],
   "source": []
  },
  {
   "cell_type": "code",
   "execution_count": null,
   "id": "17",
   "metadata": {},
   "outputs": [],
   "source": [
    "GEOJSON_EXAMPLE_FILEPATH = folder_path + \"/random_polygons.geojson\"\n",
    "import json\n",
    "\n",
    "with open(GEOJSON_EXAMPLE_FILEPATH, \"w\") as f:\n",
    "    json.dump(geojson, f)"
   ]
  },
  {
   "cell_type": "markdown",
   "id": "18",
   "metadata": {},
   "source": [
    "Prepare inputs"
   ]
  },
  {
   "cell_type": "code",
   "execution_count": null,
   "id": "19",
   "metadata": {},
   "outputs": [],
   "source": [
    "# Choose if want to include additional custom layers\n",
    "USE_CUSTOM_BANDS = False # set to True if want to add extra ee data to whisp"
   ]
  },
  {
   "cell_type": "code",
   "execution_count": null,
   "id": "20",
   "metadata": {},
   "outputs": [],
   "source": [
    "# =============================================================================\n",
    "# CUSTOM BANDS SETUP (OPTIONAL) - runs only if USE_CUSTOM_BANDS = True above\n",
    "# =============================================================================\n",
    "if USE_CUSTOM_BANDS:\n",
    "\n",
    "    # Step 1: Define custom Earth Engine images (binary values 0 or 1)\n",
    "    custom_images = {\n",
    "        'example_treecover': ee.Image(1),  # ee.Image(\"UMD/hansen/global_forest_change_2024_v1_12\").select(\"treecover2000\").gt(10).selfMask()\n",
    "        'nXX_example_commodity': ee.Image.random(seed=1).gte(.5).reproject(crs='EPSG:4326', scale=10) # ee.ImageCollection(\"projects/forestdatapartnership/assets/cocoa/model_2025a\").filter(ee.Filter.date('2020-01-01', '2021-01-01')).mosaic().gt(.8).selfMask()\n",
    "        # add more images as needed (prefix 'nXX_' = iso2 code for national dataset)\n",
    "    }\n",
    "\n",
    "    # Step 2: Define metadata for each custom band (keys must match above)\n",
    "    # Themes: 'treecover', 'commodities', 'disturbance_before', 'disturbance_after'\n",
    "    # Timber themes: 'primary', 'naturally_reg_2020', 'planted_plantation_2020', etc.\n",
    "    custom_bands_info = {\n",
    "        'example_treecover': {\n",
    "            'ISO2_code': \"\",          # Country code (empty = all countries)\n",
    "            'theme': 'treecover',     # Risk theme\n",
    "            'theme_timber': \"\",       # Timber theme (if applicable)\n",
    "            'use_for_risk': 1,        # Include in risk calculations (1=yes, 0=no)\n",
    "            'use_for_risk_timber': 0  # Include in timber risk (1=yes, 0=no)\n",
    "        },\n",
    "        'nXX_example_commodity': {\n",
    "            'ISO2_code': \"XX\", \n",
    "            'theme': 'commodities', \n",
    "            'theme_timber': \"\",\n",
    "            'use_for_risk': 1, \n",
    "            'use_for_risk_timber': 0\n",
    "        }\n",
    "        # add more band metadata as needed\n",
    "    }\n",
    "\n",
    "    # Step 3: Combine custom bands and extract names\n",
    "    custom_ee_image = whisp.combine_custom_bands(custom_images, custom_bands_info)\n",
    "\n",
    "    custom_bands = list(custom_bands_info.keys())\n"
   ]
  },
  {
   "cell_type": "code",
   "execution_count": null,
   "id": "21",
   "metadata": {},
   "outputs": [],
   "source": [
    "# Choose additional national datasets to include (currently three countries: 'co', 'ci', 'br').\n",
    "base_iso2_codes = ['co', 'ci', 'br']\n",
    "\n",
    "# automatically add any custom ISO2 codes from custom_bands_info if USE_CUSTOM_BANDS is True\n",
    "iso2_codes_list = base_iso2_codes.copy()\n",
    "if USE_CUSTOM_BANDS:\n",
    "    iso2_codes_list += [code.lower() for code in {v.get('ISO2_code') for v in custom_bands_info.values()} if code and code.lower() not in iso2_codes_list]"
   ]
  },
  {
   "cell_type": "code",
   "execution_count": null,
   "id": "22",
   "metadata": {},
   "outputs": [],
   "source": [
    "# Create final Whisp image\n",
    "whisp_image = whisp.combine_datasets(national_codes=iso2_codes_list)\n",
    "standard_bands = len(whisp_image.bandNames().getInfo())\n",
    "\n",
    "if USE_CUSTOM_BANDS and 'custom_ee_image' in locals():\n",
    "    whisp_image = whisp_image.addBands(custom_ee_image)\n",
    "    print(f\"Final image has {standard_bands + len(custom_bands)} bands ({standard_bands} + {len(custom_bands)} custom)\")\n",
    "else:\n",
    "    print(f\"Final image has {standard_bands} bands\")"
   ]
  },
  {
   "cell_type": "markdown",
   "id": "23",
   "metadata": {},
   "source": [
    "Run Whisp "
   ]
  },
  {
   "cell_type": "code",
   "execution_count": null,
   "id": "24",
   "metadata": {},
   "outputs": [],
   "source": [
    "df_stats = whisp.whisp_formatted_stats_geojson_to_df(\n",
    "    input_geojson_filepath=GEOJSON_EXAMPLE_FILEPATH,\n",
    "    # external_id_column=\"user_id\", # optional -  specify which input column/property to map to the external ID.\n",
    "    national_codes=iso2_codes_list,  # optional - By default national datasets are not included unless specified here.\n",
    "    # unit_type='percent', # optional - to change unit type. Default is 'ha'. \n",
    "    whisp_image=whisp_image, # optional - defaults to standard whisp image if not provided\n",
    "    custom_bands=custom_bands if USE_CUSTOM_BANDS else None  # include custom bands in formatted output \n",
    ") "
   ]
  },
  {
   "cell_type": "markdown",
   "id": "25",
   "metadata": {},
   "source": [
    "Display results"
   ]
  },
  {
   "cell_type": "code",
   "execution_count": null,
   "id": "26",
   "metadata": {},
   "outputs": [],
   "source": [
    "df_stats"
   ]
  },
  {
   "cell_type": "code",
   "execution_count": null,
   "id": "27",
   "metadata": {},
   "outputs": [],
   "source": [
    "# Define the output folder (if running in Sepal change path to preferred folder) \n",
    "# e.g. out_directory = Path.home() / 'module_results/whisp/'\n",
    "out_directory = Path.home() / 'downloads'\n",
    "\n",
    "# Define the output file path for CSV\n",
    "csv_output_file = out_directory / 'whisp_output_table.csv'\n",
    "\n",
    "# Save the CSV file\n",
    "df_stats.to_csv(path_or_buf=csv_output_file, index=False)\n",
    "print(f\"Table with risk columns saved to: {csv_output_file}\")"
   ]
  },
  {
   "cell_type": "markdown",
   "id": "28",
   "metadata": {},
   "source": [
    "Calculate risk category"
   ]
  },
  {
   "cell_type": "code",
   "execution_count": null,
   "id": "29",
   "metadata": {},
   "outputs": [],
   "source": [
    "# adds risk columns to end of dataframe\n",
    "df_w_risk = whisp.whisp_risk(\n",
    "    df=df_stats,\n",
    "    national_codes=iso2_codes_list,\n",
    "    custom_bands_info=custom_bands_info if USE_CUSTOM_BANDS else None  # Add: missing custom bands\n",
    ")"
   ]
  },
  {
   "cell_type": "markdown",
   "id": "30",
   "metadata": {},
   "source": [
    "Display table with risk columns"
   ]
  },
  {
   "cell_type": "code",
   "execution_count": null,
   "id": "31",
   "metadata": {},
   "outputs": [],
   "source": [
    "df_w_risk"
   ]
  },
  {
   "cell_type": "markdown",
   "id": "32",
   "metadata": {},
   "source": [
    "Export table to CSV"
   ]
  },
  {
   "cell_type": "code",
   "execution_count": null,
   "id": "33",
   "metadata": {},
   "outputs": [],
   "source": [
    "# Define the output folder \n",
    "# e.g. in running in Sepal this might be: Path.home() / 'module_results/whisp/'\n",
    "out_directory = Path.home() / 'downloads'\n",
    "\n",
    "# Define the output file path for CSV\n",
    "csv_output_file = out_directory / 'whisp_output_table_w_risk.csv'\n",
    "\n",
    "# Save the CSV file\n",
    "df_w_risk.to_csv(path_or_buf=csv_output_file, index=False)\n",
    "print(f\"Table with risk columns saved to: {csv_output_file}\")"
   ]
  },
  {
   "cell_type": "markdown",
   "id": "34",
   "metadata": {},
   "source": [
    "Export to GeoJSON (optional)"
   ]
  },
  {
   "cell_type": "code",
   "execution_count": null,
   "id": "35",
   "metadata": {},
   "outputs": [],
   "source": [
    "# Define the output file path for GeoJSON\n",
    "geojson_output_file = out_directory / 'whisp_output_geo_w_risk.geojson'\n",
    "\n",
    "# Save the GeoJSON file\n",
    "whisp.convert_df_to_geojson(df_w_risk, geojson_output_file)  # builds a geojson file containing Whisp columns. Uses the geometry column \"geo\" to create the spatial features.\n",
    "print(f\"GeoJSON file saved to: {geojson_output_file}\")"
   ]
  }
 ],
 "metadata": {
  "kernelspec": {
   "display_name": ".venv (3.12.0)",
   "language": "python",
   "name": "python3"
  },
  "language_info": {
   "codemirror_mode": {
    "name": "ipython",
    "version": 3
   },
   "file_extension": ".py",
   "mimetype": "text/x-python",
   "name": "python",
   "nbconvert_exporter": "python",
   "pygments_lexer": "ipython3",
   "version": "3.12.0"
  }
 },
 "nbformat": 4,
 "nbformat_minor": 5
}
