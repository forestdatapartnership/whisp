{
 "cells": [
  {
   "cell_type": "markdown",
   "id": "250b53cc",
   "metadata": {},
   "source": [
    "### Whisp a feature collection"
   ]
  },
  {
   "cell_type": "markdown",
   "id": "0ed47318",
   "metadata": {},
   "source": [
    "Setup\n",
    "- NB use a virtual environment to avoid altering your python environment (https://docs.python.org/3/tutorial/venv.html)"
   ]
  },
  {
   "cell_type": "code",
   "execution_count": 3,
   "id": "38ac967d",
   "metadata": {},
   "outputs": [],
   "source": [
    "# Earth Engine and Common Libraries\n",
    "import ee\n",
    "from pathlib import Path\n",
    "\n",
    "# Authenticate and initialize Earth Engine\n",
    "try:\n",
    "    ee.Initialize()  # Try to use existing credentials first\n",
    "except Exception:\n",
    "    ee.Authenticate()\n",
    "    ee.Initialize()"
   ]
  },
  {
   "cell_type": "code",
   "execution_count": null,
   "id": "4f86603f",
   "metadata": {},
   "outputs": [],
   "source": [
    "# Install openforis-whisp (if not already installed)\n",
    "!pip install --pre openforis-whisp"
   ]
  },
  {
   "cell_type": "code",
   "execution_count": 4,
   "id": "00e60218",
   "metadata": {},
   "outputs": [],
   "source": [
    "import openforis_whisp as whisp"
   ]
  },
  {
   "cell_type": "markdown",
   "id": "a66d9f78",
   "metadata": {},
   "source": [
    "Get a feature collection"
   ]
  },
  {
   "cell_type": "code",
   "execution_count": 5,
   "id": "1b7d644b",
   "metadata": {},
   "outputs": [
    {
     "name": "stdout",
     "output_type": "stream",
     "text": [
      "../tests/fixtures/geojson_example.geojson\n"
     ]
    }
   ],
   "source": [
    "GEOJSON_EXAMPLE_FILEPATH = whisp.get_example_data_path(\"geojson_example.geojson\")\n",
    "print (GEOJSON_EXAMPLE_FILEPATH)"
   ]
  },
  {
   "cell_type": "markdown",
   "id": "4fce13c5",
   "metadata": {},
   "source": [
    "Whisp it"
   ]
  },
  {
   "cell_type": "code",
   "execution_count": 6,
   "id": "c56f5fc1",
   "metadata": {},
   "outputs": [
    {
     "name": "stdout",
     "output_type": "stream",
     "text": [
      "Reading GeoJSON file from: /home/sepal-user/whisp/tests/fixtures/geojson_example.geojson\n",
      "['Area', 'European_Primary_Forest', 'GLC_FCS30D_TC_2022', 'GLC_FCS30D_crop_2022', 'IFL_2020', 'IIASA_planted_plantation', 'Cocoa_bnetd', 'Oil_palm_Descals', 'ESA_fire_before_2020', 'ESA_fire_2001', 'ESA_fire_2002', 'ESA_fire_2003', 'ESA_fire_2004', 'ESA_fire_2005', 'ESA_fire_2006', 'ESA_fire_2007', 'ESA_fire_2008', 'ESA_fire_2009', 'ESA_fire_2010', 'ESA_fire_2011', 'ESA_fire_2012', 'ESA_fire_2013', 'ESA_fire_2014', 'ESA_fire_2015', 'ESA_fire_2016', 'ESA_fire_2017', 'ESA_fire_2018', 'ESA_fire_2019', 'ESA_fire_2020', 'ESA_TC_2020', 'ESRI_2023_TC', 'ESRI_2023_crop', 'Cocoa_ETH', 'Cocoa_2023_FDaP', 'Cocoa_FDaP', 'Forest_FDaP', 'Oil_palm_2023_FDaP', 'Oil_palm_FDaP', 'Rubber_2023_FDaP', 'Rubber_FDaP', 'GFT_naturally_regenerating', 'GFT_planted_plantation', 'GFT_primary', 'GFC_TC_2020', 'GFC_loss_after_2020', 'GFC_loss_before_2020', 'GFC_loss_year_2001', 'GFC_loss_year_2002', 'GFC_loss_year_2003', 'GFC_loss_year_2004', 'GFC_loss_year_2005', 'GFC_loss_year_2006', 'GFC_loss_year_2007', 'GFC_loss_year_2008', 'GFC_loss_year_2009', 'GFC_loss_year_2010', 'GFC_loss_year_2011', 'GFC_loss_year_2012', 'GFC_loss_year_2013', 'GFC_loss_year_2014', 'GFC_loss_year_2015', 'GFC_loss_year_2016', 'GFC_loss_year_2017', 'GFC_loss_year_2018', 'GFC_loss_year_2019', 'GFC_loss_year_2020', 'GFC_loss_year_2021', 'GFC_loss_year_2022', 'GFC_loss_year_2023', 'GLAD_Primary', 'JAXA_FNF_2020', 'EUFO_2020', 'TMF_plant', 'TMF_undist', 'GFW_logging', 'MODIS_fire_after_2020', 'MODIS_fire_before_2020', 'MODIS_fire_2000', 'MODIS_fire_2001', 'MODIS_fire_2002', 'MODIS_fire_2003', 'MODIS_fire_2004', 'MODIS_fire_2005', 'MODIS_fire_2006', 'MODIS_fire_2007', 'MODIS_fire_2008', 'MODIS_fire_2009', 'MODIS_fire_2010', 'MODIS_fire_2011', 'MODIS_fire_2012', 'MODIS_fire_2013', 'MODIS_fire_2014', 'MODIS_fire_2015', 'MODIS_fire_2016', 'MODIS_fire_2017', 'MODIS_fire_2018', 'MODIS_fire_2019', 'MODIS_fire_2020', 'MODIS_fire_2021', 'MODIS_fire_2022', 'MODIS_fire_2023', 'MODIS_fire_2024', 'MODIS_fire_2025', 'RADD_after_2020', 'RADD_before_2020', 'RADD_year_2019', 'RADD_year_2020', 'RADD_year_2021', 'RADD_year_2022', 'RADD_year_2023', 'RADD_year_2024', 'RADD_year_2025', 'Rubber_RBGE', 'Soy_Song_2020', 'TMF_def_after_2020', 'TMF_def_before_2020', 'TMF_def_2000', 'TMF_def_2001', 'TMF_def_2002', 'TMF_def_2003', 'TMF_def_2004', 'TMF_def_2005', 'TMF_def_2006', 'TMF_def_2007', 'TMF_def_2008', 'TMF_def_2009', 'TMF_def_2010', 'TMF_def_2011', 'TMF_def_2012', 'TMF_def_2013', 'TMF_def_2014', 'TMF_def_2015', 'TMF_def_2016', 'TMF_def_2017', 'TMF_def_2018', 'TMF_def_2019', 'TMF_def_2020', 'TMF_def_2021', 'TMF_def_2022', 'TMF_def_2023', 'TMF_deg_after_2020', 'TMF_deg_before_2020', 'TMF_deg_2000', 'TMF_deg_2001', 'TMF_deg_2002', 'TMF_deg_2003', 'TMF_deg_2004', 'TMF_deg_2005', 'TMF_deg_2006', 'TMF_deg_2007', 'TMF_deg_2008', 'TMF_deg_2009', 'TMF_deg_2010', 'TMF_deg_2011', 'TMF_deg_2012', 'TMF_deg_2013', 'TMF_deg_2014', 'TMF_deg_2015', 'TMF_deg_2016', 'TMF_deg_2017', 'TMF_deg_2018', 'TMF_deg_2019', 'TMF_deg_2020', 'TMF_deg_2021', 'TMF_deg_2022', 'TMF_deg_2023', 'TMF_regrowth_2023']\n",
      "File /home/sepal-user/whisp/src/openforis_whisp/parameters/lookup_gee_datasets.csv changed, updating schema...\n",
      "File /home/sepal-user/whisp/src/openforis_whisp/parameters/lookup_context_and_metadata.csv changed, updating schema...\n",
      "Creating or updating schema based on changed files...\n",
      "[reformat.py | log_missing_columns() | l.308] WARNING: The following columns from the results dataframe did not match any columns in the schema: \n",
      "Cocoa_2023_FDaP, Cocoa_ETH, Cocoa_FDaP, Cocoa_bnetd, ESA_TC_2020, ESA_fire_2001, ESA_fire_2002, ESA_fire_2003, ESA_fire_2004, ESA_fire_2005, ESA_fire_2006, ESA_fire_2007, ESA_fire_2008, ESA_fire_2009, ESA_fire_2010, ESA_fire_2011, ESA_fire_2012, ESA_fire_2013, ESA_fire_2014, ESA_fire_2015, ESA_fire_2016, ESA_fire_2017, ESA_fire_2018, ESA_fire_2019, ESA_fire_2020, ESA_fire_before_2020, ESRI_2023_TC, ESRI_2023_crop, EUFO_2020, European_Primary_Forest, Forest_FDaP, GFC_TC_2020, GFC_loss_after_2020, GFC_loss_before_2020, GFC_loss_year_2001, GFC_loss_year_2002, GFC_loss_year_2003, GFC_loss_year_2004, GFC_loss_year_2005, GFC_loss_year_2006, GFC_loss_year_2007, GFC_loss_year_2008, GFC_loss_year_2009, GFC_loss_year_2010, GFC_loss_year_2011, GFC_loss_year_2012, GFC_loss_year_2013, GFC_loss_year_2014, GFC_loss_year_2015, GFC_loss_year_2016, GFC_loss_year_2017, GFC_loss_year_2018, GFC_loss_year_2019, GFC_loss_year_2020, GFC_loss_year_2021, GFC_loss_year_2022, GFC_loss_year_2023, GFT_naturally_regenerating, GFT_planted_plantation, GFT_primary, GFW_logging, GLAD_Primary, GLC_FCS30D_TC_2022, GLC_FCS30D_crop_2022, IFL_2020, IIASA_planted_plantation, JAXA_FNF_2020, MODIS_fire_2000, MODIS_fire_2001, MODIS_fire_2002, MODIS_fire_2003, MODIS_fire_2004, MODIS_fire_2005, MODIS_fire_2006, MODIS_fire_2007, MODIS_fire_2008, MODIS_fire_2009, MODIS_fire_2010, MODIS_fire_2011, MODIS_fire_2012, MODIS_fire_2013, MODIS_fire_2014, MODIS_fire_2015, MODIS_fire_2016, MODIS_fire_2017, MODIS_fire_2018, MODIS_fire_2019, MODIS_fire_2020, MODIS_fire_2021, MODIS_fire_2022, MODIS_fire_2023, MODIS_fire_2024, MODIS_fire_2025, MODIS_fire_after_2020, MODIS_fire_before_2020, Oil_palm_2023_FDaP, Oil_palm_Descals, Oil_palm_FDaP, RADD_after_2020, RADD_before_2020, RADD_year_2019, RADD_year_2020, RADD_year_2021, RADD_year_2022, RADD_year_2023, RADD_year_2024, RADD_year_2025, Rubber_2023_FDaP, Rubber_FDaP, Rubber_RBGE, Soy_Song_2020, TMF_def_2000, TMF_def_2001, TMF_def_2002, TMF_def_2003, TMF_def_2004, TMF_def_2005, TMF_def_2006, TMF_def_2007, TMF_def_2008, TMF_def_2009, TMF_def_2010, TMF_def_2011, TMF_def_2012, TMF_def_2013, TMF_def_2014, TMF_def_2015, TMF_def_2016, TMF_def_2017, TMF_def_2018, TMF_def_2019, TMF_def_2020, TMF_def_2021, TMF_def_2022, TMF_def_2023, TMF_def_after_2020, TMF_def_before_2020, TMF_deg_2000, TMF_deg_2001, TMF_deg_2002, TMF_deg_2003, TMF_deg_2004, TMF_deg_2005, TMF_deg_2006, TMF_deg_2007, TMF_deg_2008, TMF_deg_2009, TMF_deg_2010, TMF_deg_2011, TMF_deg_2012, TMF_deg_2013, TMF_deg_2014, TMF_deg_2015, TMF_deg_2016, TMF_deg_2017, TMF_deg_2018, TMF_deg_2019, TMF_deg_2020, TMF_deg_2021, TMF_deg_2022, TMF_deg_2023, TMF_deg_after_2020, TMF_deg_before_2020, TMF_plant, TMF_regrowth_2023, TMF_undist\n"
     ]
    },
    {
     "ename": "TypeError",
     "evalue": "sequence item 1: expected str instance, float found",
     "output_type": "error",
     "traceback": [
      "\u001b[0;31m---------------------------------------------------------------------------\u001b[0m",
      "\u001b[0;31mTypeError\u001b[0m                                 Traceback (most recent call last)",
      "Cell \u001b[0;32mIn[6], line 1\u001b[0m\n\u001b[0;32m----> 1\u001b[0m df_formatted_stats \u001b[38;5;241m=\u001b[39m \u001b[43mwhisp\u001b[49m\u001b[38;5;241;43m.\u001b[39;49m\u001b[43mwhisp_formatted_stats_geojson_to_df\u001b[49m\u001b[43m(\u001b[49m\u001b[43mGEOJSON_EXAMPLE_FILEPATH\u001b[49m\u001b[43m)\u001b[49m\n",
      "File \u001b[0;32m~/whisp/src/openforis_whisp/stats.py:69\u001b[0m, in \u001b[0;36mwhisp_formatted_stats_geojson_to_df\u001b[0;34m(input_geojson_filepath, external_id_column, remove_geom)\u001b[0m\n\u001b[1;32m     41\u001b[0m \u001b[38;5;250m\u001b[39m\u001b[38;5;124;03m\"\"\"\u001b[39;00m\n\u001b[1;32m     42\u001b[0m \u001b[38;5;124;03mMain function for most users.\u001b[39;00m\n\u001b[1;32m     43\u001b[0m \u001b[38;5;124;03mConverts a GeoJSON file to a pandas DataFrame containing Whisp stats for the input ROI.\u001b[39;00m\n\u001b[0;32m   (...)\u001b[0m\n\u001b[1;32m     65\u001b[0m \u001b[38;5;124;03m    The DataFrame containing the Whisp stats for the input ROI.\u001b[39;00m\n\u001b[1;32m     66\u001b[0m \u001b[38;5;124;03m\"\"\"\u001b[39;00m\n\u001b[1;32m     67\u001b[0m feature_collection \u001b[38;5;241m=\u001b[39m convert_geojson_to_ee(\u001b[38;5;28mstr\u001b[39m(input_geojson_filepath))\n\u001b[0;32m---> 69\u001b[0m \u001b[38;5;28;01mreturn\u001b[39;00m \u001b[43mwhisp_formatted_stats_ee_to_df\u001b[49m\u001b[43m(\u001b[49m\n\u001b[1;32m     70\u001b[0m \u001b[43m    \u001b[49m\u001b[43mfeature_collection\u001b[49m\u001b[43m,\u001b[49m\u001b[43m \u001b[49m\u001b[43mexternal_id_column\u001b[49m\u001b[43m,\u001b[49m\u001b[43m \u001b[49m\u001b[43mremove_geom\u001b[49m\n\u001b[1;32m     71\u001b[0m \u001b[43m\u001b[49m\u001b[43m)\u001b[49m\n",
      "File \u001b[0;32m~/whisp/src/openforis_whisp/stats.py:162\u001b[0m, in \u001b[0;36mwhisp_formatted_stats_ee_to_df\u001b[0;34m(feature_collection, external_id_column, remove_geom)\u001b[0m\n\u001b[1;32m    159\u001b[0m \u001b[38;5;66;03m# Convert ee feature collection to a pandas dataframe\u001b[39;00m\n\u001b[1;32m    160\u001b[0m df_stats \u001b[38;5;241m=\u001b[39m whisp_stats_ee_to_df(feature_collection, external_id_column, remove_geom)\n\u001b[0;32m--> 162\u001b[0m validated_df \u001b[38;5;241m=\u001b[39m \u001b[43mvalidate_dataframe_using_lookups\u001b[49m\u001b[43m(\u001b[49m\u001b[43mdf_stats\u001b[49m\u001b[43m)\u001b[49m\n\u001b[1;32m    163\u001b[0m \u001b[38;5;28;01mreturn\u001b[39;00m validated_df\n",
      "File \u001b[0;32m~/whisp/src/openforis_whisp/reformat.py:43\u001b[0m, in \u001b[0;36mvalidate_dataframe_using_lookups\u001b[0;34m(df_stats, file_paths)\u001b[0m\n\u001b[1;32m     40\u001b[0m schema \u001b[38;5;241m=\u001b[39m load_schema_if_any_file_changed(file_paths)\n\u001b[1;32m     42\u001b[0m \u001b[38;5;66;03m# Validate the DataFrame\u001b[39;00m\n\u001b[0;32m---> 43\u001b[0m validated_df \u001b[38;5;241m=\u001b[39m \u001b[43mvalidate_dataframe\u001b[49m\u001b[43m(\u001b[49m\u001b[43mdf_stats\u001b[49m\u001b[43m,\u001b[49m\u001b[43m \u001b[49m\u001b[43mschema\u001b[49m\u001b[43m)\u001b[49m\n\u001b[1;32m     45\u001b[0m \u001b[38;5;28;01mreturn\u001b[39;00m validated_df\n",
      "File \u001b[0;32m~/whisp/src/openforis_whisp/reformat.py:111\u001b[0m, in \u001b[0;36mvalidate_dataframe\u001b[0;34m(df_stats, schema)\u001b[0m\n\u001b[1;32m     98\u001b[0m \u001b[38;5;28;01mdef\u001b[39;00m \u001b[38;5;21mvalidate_dataframe\u001b[39m(\n\u001b[1;32m     99\u001b[0m     df_stats: pd\u001b[38;5;241m.\u001b[39mDataFrame, schema: pa\u001b[38;5;241m.\u001b[39mDataFrameSchema\n\u001b[1;32m    100\u001b[0m ) \u001b[38;5;241m-\u001b[39m\u001b[38;5;241m>\u001b[39m pd\u001b[38;5;241m.\u001b[39mDataFrame:\n\u001b[1;32m    101\u001b[0m \u001b[38;5;250m    \u001b[39m\u001b[38;5;124;03m\"\"\"Validate the DataFrame against the given schema, reorder columns to match schema order, and list missing columns.\u001b[39;00m\n\u001b[1;32m    102\u001b[0m \n\u001b[1;32m    103\u001b[0m \u001b[38;5;124;03m    Args:\u001b[39;00m\n\u001b[0;32m   (...)\u001b[0m\n\u001b[1;32m    109\u001b[0m \u001b[38;5;124;03m        pd.DataFrame: The validated DataFrame with columns ordered according to the schema, or None if validation fails.\u001b[39;00m\n\u001b[1;32m    110\u001b[0m \u001b[38;5;124;03m    \"\"\"\u001b[39;00m\n\u001b[0;32m--> 111\u001b[0m     \u001b[43mlog_missing_columns\u001b[49m\u001b[43m(\u001b[49m\u001b[43mdf_stats\u001b[49m\u001b[43m,\u001b[49m\u001b[43m \u001b[49m\u001b[43mschema\u001b[49m\u001b[43m)\u001b[49m\n\u001b[1;32m    113\u001b[0m     \u001b[38;5;66;03m# df_stats = df_stats.reindex(schema.columns.keys(), axis=1)\u001b[39;00m\n\u001b[1;32m    114\u001b[0m \n\u001b[1;32m    115\u001b[0m     \u001b[38;5;66;03m# Try to automatically coerce the DataFrame to match the schema types\u001b[39;00m\n\u001b[1;32m    116\u001b[0m     \u001b[38;5;28;01mtry\u001b[39;00m:\n",
      "File \u001b[0;32m~/whisp/src/openforis_whisp/reformat.py:317\u001b[0m, in \u001b[0;36mlog_missing_columns\u001b[0;34m(df_stats, template_schema)\u001b[0m\n\u001b[1;32m    314\u001b[0m \u001b[38;5;66;03m# Log results for missing columns in template_df\u001b[39;00m\n\u001b[1;32m    315\u001b[0m \u001b[38;5;28;01mif\u001b[39;00m missing_in_stats:\n\u001b[1;32m    316\u001b[0m     logger\u001b[38;5;241m.\u001b[39mwarning(\n\u001b[0;32m--> 317\u001b[0m         \u001b[38;5;124mf\u001b[39m\u001b[38;5;124m\"\u001b[39m\u001b[38;5;124mThe following columns in the schema did not match any columns from the results dataframe: \u001b[39m\u001b[38;5;130;01m\\n\u001b[39;00m\u001b[38;5;132;01m{\u001b[39;00m\u001b[38;5;124;43m'\u001b[39;49m\u001b[38;5;124;43m, \u001b[39;49m\u001b[38;5;124;43m'\u001b[39;49m\u001b[38;5;241;43m.\u001b[39;49m\u001b[43mjoin\u001b[49m\u001b[43m(\u001b[49m\u001b[43mmissing_in_stats\u001b[49m\u001b[43m)\u001b[49m\u001b[38;5;132;01m}\u001b[39;00m\u001b[38;5;124m\"\u001b[39m\n\u001b[1;32m    318\u001b[0m     )\n\u001b[1;32m    319\u001b[0m \u001b[38;5;28;01melse\u001b[39;00m:\n\u001b[1;32m    320\u001b[0m     logger\u001b[38;5;241m.\u001b[39minfo(\u001b[38;5;124m\"\u001b[39m\u001b[38;5;124mAll columns from the schema found in the results dataframe.\u001b[39m\u001b[38;5;124m\"\u001b[39m)\n",
      "\u001b[0;31mTypeError\u001b[0m: sequence item 1: expected str instance, float found"
     ]
    }
   ],
   "source": [
    "df_formatted_stats = whisp.whisp_formatted_stats_geojson_to_df(GEOJSON_EXAMPLE_FILEPATH)"
   ]
  },
  {
   "cell_type": "markdown",
   "id": "c24ce34d",
   "metadata": {},
   "source": [
    "Display table"
   ]
  },
  {
   "cell_type": "code",
   "execution_count": 7,
   "id": "65ad5bf4",
   "metadata": {},
   "outputs": [
    {
     "ename": "NameError",
     "evalue": "name 'df_formatted_stats' is not defined",
     "output_type": "error",
     "traceback": [
      "\u001b[0;31m---------------------------------------------------------------------------\u001b[0m",
      "\u001b[0;31mNameError\u001b[0m                                 Traceback (most recent call last)",
      "Cell \u001b[0;32mIn[7], line 1\u001b[0m\n\u001b[0;32m----> 1\u001b[0m \u001b[43mdf_formatted_stats\u001b[49m\n",
      "\u001b[0;31mNameError\u001b[0m: name 'df_formatted_stats' is not defined"
     ]
    }
   ],
   "source": [
    "df_formatted_stats"
   ]
  },
  {
   "cell_type": "markdown",
   "id": "5c2ecbf7-d86f-425c-9c93-80ce21f3dff2",
   "metadata": {},
   "source": [
    "Calculate risk category"
   ]
  },
  {
   "cell_type": "code",
   "execution_count": null,
   "id": "f4cd1b5c-41ac-4d3c-af26-a47db3d48af8",
   "metadata": {},
   "outputs": [],
   "source": [
    "# add risk columns to end of dataframe\n",
    "df_w_risk = whisp.whisp_risk(df=df_formatted_stats)"
   ]
  },
  {
   "cell_type": "markdown",
   "id": "5a15577b-44bb-4792-98ef-95fd6bc1aabb",
   "metadata": {},
   "source": [
    "Display table with risk columns"
   ]
  },
  {
   "cell_type": "code",
   "execution_count": null,
   "id": "0c62b10e-7484-47cd-9f73-40f612be5407",
   "metadata": {},
   "outputs": [],
   "source": [
    "df_w_risk"
   ]
  },
  {
   "cell_type": "markdown",
   "id": "094c0019-585e-4598-8c54-c628625f5f80",
   "metadata": {},
   "source": [
    "Export table to CSV"
   ]
  },
  {
   "cell_type": "code",
   "execution_count": null,
   "id": "c14e1709",
   "metadata": {},
   "outputs": [],
   "source": [
    "# Define the output folder\n",
    "out_directory = Path.home() / 'Downloads'\n",
    "\n",
    "# Define the output file path for CSV\n",
    "csv_output_file = out_directory / 'whisp_output_table_w_risk.csv'\n",
    "\n",
    "# Save the CSV file\n",
    "df_w_risk.to_csv(path_or_buf=csv_output_file, index=False)\n",
    "print(f\"Table with risk columns saved to: {csv_output_file}\")"
   ]
  },
  {
   "cell_type": "markdown",
   "id": "f92c1765",
   "metadata": {},
   "source": [
    "Export to GeoJSON (optional)"
   ]
  },
  {
   "cell_type": "code",
   "execution_count": null,
   "id": "5f8f64bd",
   "metadata": {},
   "outputs": [],
   "source": [
    "# Define the output file path for GeoJSON\n",
    "geojson_output_file = out_directory / 'whisp_output_table.geojson'\n",
    "\n",
    "# Save the GeoJSON file\n",
    "whisp.convert_df_to_geojson(df_w_risk, geojson_output_file)  # builds a geojson file containing Whisp columns. Uses the geometry column \"geo\" to create the spatial features.\n",
    "print(f\"GeoJSON file saved to: {geojson_output_file}\")"
   ]
  },
  {
   "cell_type": "markdown",
   "id": "58619e3d",
   "metadata": {},
   "source": []
  },
  {
   "cell_type": "markdown",
   "id": "5d25088f",
   "metadata": {},
   "source": []
  }
 ],
 "metadata": {
  "kernelspec": {
   "display_name": "Python 3",
   "language": "python",
   "name": "python3"
  },
  "language_info": {
   "codemirror_mode": {
    "name": "ipython",
    "version": 3
   },
   "file_extension": ".py",
   "mimetype": "text/x-python",
   "name": "python",
   "nbconvert_exporter": "python",
   "pygments_lexer": "ipython3",
   "version": "3.10.12"
  }
 },
 "nbformat": 4,
 "nbformat_minor": 5
}
