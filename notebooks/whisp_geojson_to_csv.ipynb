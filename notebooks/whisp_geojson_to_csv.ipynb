{
 "cells": [
  {
   "cell_type": "markdown",
   "id": "250b53cc",
   "metadata": {},
   "source": [
    "### Whisp a feature collection"
   ]
  },
  {
   "cell_type": "markdown",
   "id": "0ed47318",
   "metadata": {},
   "source": [
    "Setup\n",
    "- NB use a virtual environment to avoid altering your python environment (https://docs.python.org/3/tutorial/venv.html)"
   ]
  },
  {
   "cell_type": "code",
   "execution_count": null,
   "id": "38ac967d",
   "metadata": {},
   "outputs": [],
   "source": [
    "# Earth Engine and Common Libraries|\n",
    "import ee\n",
    "from pathlib import Path\n",
    "\n",
    "# Authenticate and initialize Earth Engine\n",
    "try:\n",
    "    ee.Initialize()  # Try to use existing credentials first\n",
    "except Exception:\n",
    "    ee.Authenticate()\n",
    "    ee.Initialize()"
   ]
  },
  {
   "cell_type": "code",
   "execution_count": null,
   "id": "4f86603f",
   "metadata": {},
   "outputs": [],
   "source": [
    "# Install openforis-whisp (uncomment line if not already installed)\n",
    "# !pip install --pre openforis-whisp\n",
    "\n",
    "# NB for editable mode install via your terminal with: pip install -e .[dev]"
   ]
  },
  {
   "cell_type": "code",
   "execution_count": null,
   "id": "00e60218",
   "metadata": {},
   "outputs": [],
   "source": [
    "import openforis_whisp as whisp"
   ]
  },
  {
   "cell_type": "markdown",
   "id": "a66d9f78",
   "metadata": {},
   "source": [
    "Get a feature collection"
   ]
  },
  {
   "cell_type": "code",
   "execution_count": null,
   "id": "1b7d644b",
   "metadata": {},
   "outputs": [],
   "source": [
    "GEOJSON_EXAMPLE_FILEPATH = whisp.get_example_data_path(\"geojson_example.geojson\")"
   ]
  },
  {
   "cell_type": "markdown",
   "id": "4fce13c5",
   "metadata": {},
   "source": [
    "Whisp it"
   ]
  },
  {
   "cell_type": "code",
   "execution_count": null,
   "id": "d128c0d2",
   "metadata": {},
   "outputs": [],
   "source": [
    "# Choose countries to process (currently three countries: 'co', 'ci', 'br')\n",
    "iso2_codes_list = ['co', 'ci', 'br']  # Example ISO2 codes for including country specific data\n"
   ]
  },
  {
   "cell_type": "code",
   "execution_count": null,
   "id": "c56f5fc1",
   "metadata": {},
   "outputs": [],
   "source": [
    "df_formatted_stats = whisp.whisp_formatted_stats_geojson_to_df(\n",
    "    input_geojson_filepath=GEOJSON_EXAMPLE_FILEPATH,\n",
    "    national_codes=iso2_codes_list, # optional - By default national datasets are not included unless specified here.\n",
    "    # unit_type='percent', # optional - to change unit type. Default is 'ha'. \n",
    ")"
   ]
  },
  {
   "cell_type": "code",
   "execution_count": null,
   "id": "65ad5bf4",
   "metadata": {},
   "outputs": [],
   "source": [
    "df_formatted_stats"
   ]
  },
  {
   "cell_type": "code",
   "execution_count": null,
   "id": "da398c62-7372-426e-9ff4-25d9f72afe57",
   "metadata": {},
   "outputs": [],
   "source": [
    "# Define the output folder (if running in Sepal change path to preferred folder) \n",
    "# e.g. out_directory = Path.home() / 'module_results/whisp/'\n",
    "out_directory = Path.home() / 'downloads'\n",
    "\n",
    "# Define the output file path for CSV\n",
    "csv_output_file = out_directory / 'whisp_output_table.csv'\n",
    "\n",
    "# Save the CSV file\n",
    "df_formatted_stats.to_csv(path_or_buf=csv_output_file, index=False)\n",
    "print(f\"Table with risk columns saved to: {csv_output_file}\")"
   ]
  },
  {
   "cell_type": "markdown",
   "id": "5c2ecbf7-d86f-425c-9c93-80ce21f3dff2",
   "metadata": {},
   "source": [
    "Calculate risk category"
   ]
  },
  {
   "cell_type": "code",
   "execution_count": null,
   "id": "f4cd1b5c-41ac-4d3c-af26-a47db3d48af8",
   "metadata": {},
   "outputs": [],
   "source": [
    "# add risk columns to end of dataframe\n",
    "df_w_risk = whisp.whisp_risk(df=df_formatted_stats,\n",
    "                             national_codes=iso2_codes_list # optional - By default national datasets are not included. This should align with the national_codes used above.\n",
    "            )"
   ]
  },
  {
   "cell_type": "markdown",
   "id": "5a15577b-44bb-4792-98ef-95fd6bc1aabb",
   "metadata": {},
   "source": [
    "Display table with risk columns"
   ]
  },
  {
   "cell_type": "code",
   "execution_count": null,
   "id": "0c62b10e-7484-47cd-9f73-40f612be5407",
   "metadata": {},
   "outputs": [],
   "source": [
    "df_w_risk"
   ]
  },
  {
   "cell_type": "markdown",
   "id": "094c0019-585e-4598-8c54-c628625f5f80",
   "metadata": {},
   "source": [
    "Export table to CSV"
   ]
  },
  {
   "cell_type": "code",
   "execution_count": null,
   "id": "c14e1709",
   "metadata": {},
   "outputs": [],
   "source": [
    "# Define the output folder \n",
    "# e.g. in running in Sepal this might be: Path.home() / 'module_results/whisp/'\n",
    "out_directory = Path.home() / 'downloads'\n",
    "\n",
    "# Define the output file path for CSV\n",
    "csv_output_file = out_directory / 'whisp_output_table_w_risk.csv'\n",
    "\n",
    "# Save the CSV file\n",
    "df_w_risk.to_csv(path_or_buf=csv_output_file, index=False)\n",
    "print(f\"Table with risk columns saved to: {csv_output_file}\")"
   ]
  },
  {
   "cell_type": "markdown",
   "id": "f92c1765",
   "metadata": {},
   "source": [
    "Export to GeoJSON (optional)"
   ]
  },
  {
   "cell_type": "code",
   "execution_count": null,
   "id": "5f8f64bd",
   "metadata": {},
   "outputs": [],
   "source": [
    "# Define the output file path for GeoJSON\n",
    "geojson_output_file = out_directory / 'whisp_output_geo_w_risk.geojson'\n",
    "\n",
    "# Save the GeoJSON file\n",
    "whisp.convert_df_to_geojson(df_w_risk, geojson_output_file)  # builds a geojson file containing Whisp columns. Uses the geometry column \"geo\" to create the spatial features.\n",
    "print(f\"GeoJSON file saved to: {geojson_output_file}\")"
   ]
  }
 ],
 "metadata": {
  "kernelspec": {
   "display_name": ".venv",
   "language": "python",
   "name": "python3"
  },
  "language_info": {
   "codemirror_mode": {
    "name": "ipython",
    "version": 3
   },
   "file_extension": ".py",
   "mimetype": "text/x-python",
   "name": "python",
   "nbconvert_exporter": "python",
   "pygments_lexer": "ipython3",
   "version": "3.12.0"
  }
 },
 "nbformat": 4,
 "nbformat_minor": 5
}
