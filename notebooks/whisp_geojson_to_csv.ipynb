{
 "cells": [
  {
   "cell_type": "markdown",
   "id": "250b53cc",
   "metadata": {},
   "source": [
    "### Whisp a feature collection"
   ]
  },
  {
   "cell_type": "markdown",
   "id": "0ed47318",
   "metadata": {},
   "source": [
    "Setup\n",
    "- NB use a virtual environment to avoid altering your python environment (https://docs.python.org/3/tutorial/venv.html)"
   ]
  },
  {
   "cell_type": "code",
   "execution_count": null,
   "id": "38ac967d",
   "metadata": {},
   "outputs": [],
   "source": [
    "# Earth Engine and Common Libraries\n",
    "import ee\n",
    "from pathlib import Path\n",
    "\n",
    "# Authenticate and initialize Earth Engine\n",
    "try:\n",
    "    ee.Initialize()  # Try to use existing credentials first\n",
    "except Exception:\n",
    "    ee.Authenticate()\n",
    "    ee.Initialize()"
   ]
  },
  {
   "cell_type": "code",
   "execution_count": 8,
   "id": "4f86603f",
   "metadata": {},
   "outputs": [
    {
     "name": "stdout",
     "output_type": "stream",
     "text": [
      "Requirement already satisfied: openforis-whisp in c:\\users\\arnell\\documents\\github\\testpypi\\whisp\\venv\\lib\\site-packages (0.0.1)\n",
      "Requirement already satisfied: country_converter<2.0.0,>=0.7 in c:\\users\\arnell\\documents\\github\\testpypi\\whisp\\venv\\lib\\site-packages (from openforis-whisp) (1.3)\n",
      "Requirement already satisfied: earthengine-api in c:\\users\\arnell\\documents\\github\\testpypi\\whisp\\venv\\lib\\site-packages (from openforis-whisp) (1.5.1)\n",
      "Requirement already satisfied: geemap in c:\\users\\arnell\\documents\\github\\testpypi\\whisp\\venv\\lib\\site-packages (from openforis-whisp) (0.35.1)\n",
      "Requirement already satisfied: geojson<3.0.0,>=2.5.0 in c:\\users\\arnell\\documents\\github\\testpypi\\whisp\\venv\\lib\\site-packages (from openforis-whisp) (2.5.0)\n",
      "Requirement already satisfied: ipykernel<7.0.0,>=6.17.1 in c:\\users\\arnell\\documents\\github\\testpypi\\whisp\\venv\\lib\\site-packages (from openforis-whisp) (6.29.5)\n",
      "Requirement already satisfied: numpy<3.0.0,>=1.21.0 in c:\\users\\arnell\\documents\\github\\testpypi\\whisp\\venv\\lib\\site-packages (from openforis-whisp) (2.2.2)\n",
      "Requirement already satisfied: pandas<3.0.0,>=1.3.0 in c:\\users\\arnell\\documents\\github\\testpypi\\whisp\\venv\\lib\\site-packages (from openforis-whisp) (2.2.3)\n",
      "Requirement already satisfied: pandera<1.0.0,>=0.22.1 in c:\\users\\arnell\\documents\\github\\testpypi\\whisp\\venv\\lib\\site-packages (from pandera[io]<1.0.0,>=0.22.1->openforis-whisp) (0.22.1)\n",
      "Requirement already satisfied: pydantic-core<3.0.0,>=2.14.0 in c:\\users\\arnell\\documents\\github\\testpypi\\whisp\\venv\\lib\\site-packages (from openforis-whisp) (2.27.2)\n",
      "Requirement already satisfied: python-dotenv<2.0.0,>=1.0.1 in c:\\users\\arnell\\documents\\github\\testpypi\\whisp\\venv\\lib\\site-packages (from openforis-whisp) (1.0.1)\n",
      "Requirement already satisfied: rsa<5.0.0,>=4.2 in c:\\users\\arnell\\documents\\github\\testpypi\\whisp\\venv\\lib\\site-packages (from openforis-whisp) (4.9)\n",
      "Requirement already satisfied: shapely<3.0.0,>=2.0.2 in c:\\users\\arnell\\documents\\github\\testpypi\\whisp\\venv\\lib\\site-packages (from openforis-whisp) (2.0.7)\n",
      "Requirement already satisfied: comm>=0.1.1 in c:\\users\\arnell\\documents\\github\\testpypi\\whisp\\venv\\lib\\site-packages (from ipykernel<7.0.0,>=6.17.1->openforis-whisp) (0.2.2)\n",
      "Requirement already satisfied: debugpy>=1.6.5 in c:\\users\\arnell\\documents\\github\\testpypi\\whisp\\venv\\lib\\site-packages (from ipykernel<7.0.0,>=6.17.1->openforis-whisp) (1.8.12)\n",
      "Requirement already satisfied: ipython>=7.23.1 in c:\\users\\arnell\\documents\\github\\testpypi\\whisp\\venv\\lib\\site-packages (from ipykernel<7.0.0,>=6.17.1->openforis-whisp) (8.32.0)\n",
      "Requirement already satisfied: jupyter-client>=6.1.12 in c:\\users\\arnell\\documents\\github\\testpypi\\whisp\\venv\\lib\\site-packages (from ipykernel<7.0.0,>=6.17.1->openforis-whisp) (8.6.3)\n",
      "Requirement already satisfied: jupyter-core!=5.0.*,>=4.12 in c:\\users\\arnell\\documents\\github\\testpypi\\whisp\\venv\\lib\\site-packages (from ipykernel<7.0.0,>=6.17.1->openforis-whisp) (5.7.2)\n",
      "Requirement already satisfied: matplotlib-inline>=0.1 in c:\\users\\arnell\\documents\\github\\testpypi\\whisp\\venv\\lib\\site-packages (from ipykernel<7.0.0,>=6.17.1->openforis-whisp) (0.1.7)\n",
      "Requirement already satisfied: nest-asyncio in c:\\users\\arnell\\documents\\github\\testpypi\\whisp\\venv\\lib\\site-packages (from ipykernel<7.0.0,>=6.17.1->openforis-whisp) (1.6.0)\n",
      "Requirement already satisfied: packaging in c:\\users\\arnell\\documents\\github\\testpypi\\whisp\\venv\\lib\\site-packages (from ipykernel<7.0.0,>=6.17.1->openforis-whisp) (24.2)\n",
      "Requirement already satisfied: psutil in c:\\users\\arnell\\documents\\github\\testpypi\\whisp\\venv\\lib\\site-packages (from ipykernel<7.0.0,>=6.17.1->openforis-whisp) (6.1.1)\n",
      "Requirement already satisfied: pyzmq>=24 in c:\\users\\arnell\\documents\\github\\testpypi\\whisp\\venv\\lib\\site-packages (from ipykernel<7.0.0,>=6.17.1->openforis-whisp) (26.2.1)\n",
      "Requirement already satisfied: tornado>=6.1 in c:\\users\\arnell\\documents\\github\\testpypi\\whisp\\venv\\lib\\site-packages (from ipykernel<7.0.0,>=6.17.1->openforis-whisp) (6.4.2)\n",
      "Requirement already satisfied: traitlets>=5.4.0 in c:\\users\\arnell\\documents\\github\\testpypi\\whisp\\venv\\lib\\site-packages (from ipykernel<7.0.0,>=6.17.1->openforis-whisp) (5.14.3)\n",
      "Requirement already satisfied: python-dateutil>=2.8.2 in c:\\users\\arnell\\documents\\github\\testpypi\\whisp\\venv\\lib\\site-packages (from pandas<3.0.0,>=1.3.0->openforis-whisp) (2.9.0.post0)\n",
      "Requirement already satisfied: pytz>=2020.1 in c:\\users\\arnell\\documents\\github\\testpypi\\whisp\\venv\\lib\\site-packages (from pandas<3.0.0,>=1.3.0->openforis-whisp) (2025.1)\n",
      "Requirement already satisfied: tzdata>=2022.7 in c:\\users\\arnell\\documents\\github\\testpypi\\whisp\\venv\\lib\\site-packages (from pandas<3.0.0,>=1.3.0->openforis-whisp) (2025.1)\n",
      "Requirement already satisfied: pydantic in c:\\users\\arnell\\documents\\github\\testpypi\\whisp\\venv\\lib\\site-packages (from pandera<1.0.0,>=0.22.1->pandera[io]<1.0.0,>=0.22.1->openforis-whisp) (2.10.6)\n",
      "Requirement already satisfied: typeguard in c:\\users\\arnell\\documents\\github\\testpypi\\whisp\\venv\\lib\\site-packages (from pandera<1.0.0,>=0.22.1->pandera[io]<1.0.0,>=0.22.1->openforis-whisp) (4.4.1)\n",
      "Requirement already satisfied: typing_inspect>=0.6.0 in c:\\users\\arnell\\documents\\github\\testpypi\\whisp\\venv\\lib\\site-packages (from pandera<1.0.0,>=0.22.1->pandera[io]<1.0.0,>=0.22.1->openforis-whisp) (0.9.0)\n",
      "Requirement already satisfied: pyyaml>=5.1 in c:\\users\\arnell\\documents\\github\\testpypi\\whisp\\venv\\lib\\site-packages (from pandera[io]<1.0.0,>=0.22.1->openforis-whisp) (6.0.2)\n",
      "Requirement already satisfied: black in c:\\users\\arnell\\documents\\github\\testpypi\\whisp\\venv\\lib\\site-packages (from pandera[io]<1.0.0,>=0.22.1->openforis-whisp) (25.1.0)\n",
      "Requirement already satisfied: frictionless<=4.40.8 in c:\\users\\arnell\\documents\\github\\testpypi\\whisp\\venv\\lib\\site-packages (from pandera[io]<1.0.0,>=0.22.1->openforis-whisp) (4.40.8)\n",
      "Requirement already satisfied: typing-extensions!=4.7.0,>=4.6.0 in c:\\users\\arnell\\documents\\github\\testpypi\\whisp\\venv\\lib\\site-packages (from pydantic-core<3.0.0,>=2.14.0->openforis-whisp) (4.12.2)\n",
      "Requirement already satisfied: pyasn1>=0.1.3 in c:\\users\\arnell\\documents\\github\\testpypi\\whisp\\venv\\lib\\site-packages (from rsa<5.0.0,>=4.2->openforis-whisp) (0.6.1)\n",
      "Requirement already satisfied: google-cloud-storage in c:\\users\\arnell\\documents\\github\\testpypi\\whisp\\venv\\lib\\site-packages (from earthengine-api->openforis-whisp) (3.0.0)\n",
      "Requirement already satisfied: google-api-python-client>=1.12.1 in c:\\users\\arnell\\documents\\github\\testpypi\\whisp\\venv\\lib\\site-packages (from earthengine-api->openforis-whisp) (2.160.0)\n",
      "Requirement already satisfied: google-auth>=1.4.1 in c:\\users\\arnell\\documents\\github\\testpypi\\whisp\\venv\\lib\\site-packages (from earthengine-api->openforis-whisp) (2.38.0)\n",
      "Requirement already satisfied: google-auth-httplib2>=0.0.3 in c:\\users\\arnell\\documents\\github\\testpypi\\whisp\\venv\\lib\\site-packages (from earthengine-api->openforis-whisp) (0.2.0)\n",
      "Requirement already satisfied: httplib2<1dev,>=0.9.2 in c:\\users\\arnell\\documents\\github\\testpypi\\whisp\\venv\\lib\\site-packages (from earthengine-api->openforis-whisp) (0.22.0)\n",
      "Requirement already satisfied: requests in c:\\users\\arnell\\documents\\github\\testpypi\\whisp\\venv\\lib\\site-packages (from earthengine-api->openforis-whisp) (2.32.3)\n",
      "Requirement already satisfied: bqplot in c:\\users\\arnell\\documents\\github\\testpypi\\whisp\\venv\\lib\\site-packages (from geemap->openforis-whisp) (0.12.44)\n",
      "Requirement already satisfied: colour in c:\\users\\arnell\\documents\\github\\testpypi\\whisp\\venv\\lib\\site-packages (from geemap->openforis-whisp) (0.1.5)\n",
      "Requirement already satisfied: eerepr>=0.0.4 in c:\\users\\arnell\\documents\\github\\testpypi\\whisp\\venv\\lib\\site-packages (from geemap->openforis-whisp) (0.1.0)\n",
      "Requirement already satisfied: folium>=0.17.0 in c:\\users\\arnell\\documents\\github\\testpypi\\whisp\\venv\\lib\\site-packages (from geemap->openforis-whisp) (0.19.4)\n",
      "Requirement already satisfied: geocoder in c:\\users\\arnell\\documents\\github\\testpypi\\whisp\\venv\\lib\\site-packages (from geemap->openforis-whisp) (1.38.1)\n",
      "Requirement already satisfied: ipyevents in c:\\users\\arnell\\documents\\github\\testpypi\\whisp\\venv\\lib\\site-packages (from geemap->openforis-whisp) (2.0.2)\n",
      "Requirement already satisfied: ipyfilechooser>=0.6.0 in c:\\users\\arnell\\documents\\github\\testpypi\\whisp\\venv\\lib\\site-packages (from geemap->openforis-whisp) (0.6.0)\n",
      "Requirement already satisfied: ipyleaflet>=0.19.2 in c:\\users\\arnell\\documents\\github\\testpypi\\whisp\\venv\\lib\\site-packages (from geemap->openforis-whisp) (0.19.2)\n",
      "Requirement already satisfied: ipytree in c:\\users\\arnell\\documents\\github\\testpypi\\whisp\\venv\\lib\\site-packages (from geemap->openforis-whisp) (0.2.2)\n",
      "Requirement already satisfied: matplotlib in c:\\users\\arnell\\documents\\github\\testpypi\\whisp\\venv\\lib\\site-packages (from geemap->openforis-whisp) (3.10.0)\n",
      "Requirement already satisfied: plotly in c:\\users\\arnell\\documents\\github\\testpypi\\whisp\\venv\\lib\\site-packages (from geemap->openforis-whisp) (6.0.0)\n",
      "Requirement already satisfied: pyperclip in c:\\users\\arnell\\documents\\github\\testpypi\\whisp\\venv\\lib\\site-packages (from geemap->openforis-whisp) (1.9.0)\n",
      "Requirement already satisfied: pyshp>=2.3.1 in c:\\users\\arnell\\documents\\github\\testpypi\\whisp\\venv\\lib\\site-packages (from geemap->openforis-whisp) (2.3.1)\n",
      "Requirement already satisfied: python-box in c:\\users\\arnell\\documents\\github\\testpypi\\whisp\\venv\\lib\\site-packages (from geemap->openforis-whisp) (7.3.2)\n",
      "Requirement already satisfied: scooby in c:\\users\\arnell\\documents\\github\\testpypi\\whisp\\venv\\lib\\site-packages (from geemap->openforis-whisp) (0.10.0)\n",
      "Requirement already satisfied: branca>=0.6.0 in c:\\users\\arnell\\documents\\github\\testpypi\\whisp\\venv\\lib\\site-packages (from folium>=0.17.0->geemap->openforis-whisp) (0.8.1)\n",
      "Requirement already satisfied: jinja2>=2.9 in c:\\users\\arnell\\documents\\github\\testpypi\\whisp\\venv\\lib\\site-packages (from folium>=0.17.0->geemap->openforis-whisp) (3.1.5)\n",
      "Requirement already satisfied: xyzservices in c:\\users\\arnell\\documents\\github\\testpypi\\whisp\\venv\\lib\\site-packages (from folium>=0.17.0->geemap->openforis-whisp) (2025.1.0)\n",
      "Requirement already satisfied: petl>=1.6 in c:\\users\\arnell\\documents\\github\\testpypi\\whisp\\venv\\lib\\site-packages (from frictionless<=4.40.8->pandera[io]<1.0.0,>=0.22.1->openforis-whisp) (1.7.15)\n",
      "Requirement already satisfied: marko>=1.0 in c:\\users\\arnell\\documents\\github\\testpypi\\whisp\\venv\\lib\\site-packages (from frictionless<=4.40.8->pandera[io]<1.0.0,>=0.22.1->openforis-whisp) (2.1.2)\n",
      "Requirement already satisfied: isodate>=0.6 in c:\\users\\arnell\\documents\\github\\testpypi\\whisp\\venv\\lib\\site-packages (from frictionless<=4.40.8->pandera[io]<1.0.0,>=0.22.1->openforis-whisp) (0.7.2)\n",
      "Requirement already satisfied: rfc3986>=1.4 in c:\\users\\arnell\\documents\\github\\testpypi\\whisp\\venv\\lib\\site-packages (from frictionless<=4.40.8->pandera[io]<1.0.0,>=0.22.1->openforis-whisp) (2.0.0)\n",
      "Requirement already satisfied: chardet>=3.0 in c:\\users\\arnell\\documents\\github\\testpypi\\whisp\\venv\\lib\\site-packages (from frictionless<=4.40.8->pandera[io]<1.0.0,>=0.22.1->openforis-whisp) (5.2.0)\n",
      "Requirement already satisfied: jsonschema>=2.5 in c:\\users\\arnell\\documents\\github\\testpypi\\whisp\\venv\\lib\\site-packages (from frictionless<=4.40.8->pandera[io]<1.0.0,>=0.22.1->openforis-whisp) (4.23.0)\n",
      "Requirement already satisfied: simpleeval>=0.9.11 in c:\\users\\arnell\\documents\\github\\testpypi\\whisp\\venv\\lib\\site-packages (from frictionless<=4.40.8->pandera[io]<1.0.0,>=0.22.1->openforis-whisp) (1.0.3)\n",
      "Requirement already satisfied: stringcase>=1.2 in c:\\users\\arnell\\documents\\github\\testpypi\\whisp\\venv\\lib\\site-packages (from frictionless<=4.40.8->pandera[io]<1.0.0,>=0.22.1->openforis-whisp) (1.2.0)\n",
      "Requirement already satisfied: typer>=0.5 in c:\\users\\arnell\\documents\\github\\testpypi\\whisp\\venv\\lib\\site-packages (from typer[all]>=0.5->frictionless<=4.40.8->pandera[io]<1.0.0,>=0.22.1->openforis-whisp) (0.15.1)\n",
      "Requirement already satisfied: validators>=0.18 in c:\\users\\arnell\\documents\\github\\testpypi\\whisp\\venv\\lib\\site-packages (from frictionless<=4.40.8->pandera[io]<1.0.0,>=0.22.1->openforis-whisp) (0.34.0)\n",
      "Requirement already satisfied: python-slugify>=1.2 in c:\\users\\arnell\\documents\\github\\testpypi\\whisp\\venv\\lib\\site-packages (from frictionless<=4.40.8->pandera[io]<1.0.0,>=0.22.1->openforis-whisp) (8.0.4)\n",
      "Requirement already satisfied: tabulate>=0.8.10 in c:\\users\\arnell\\documents\\github\\testpypi\\whisp\\venv\\lib\\site-packages (from frictionless<=4.40.8->pandera[io]<1.0.0,>=0.22.1->openforis-whisp) (0.9.0)\n",
      "Requirement already satisfied: google-api-core!=2.0.*,!=2.1.*,!=2.2.*,!=2.3.0,<3.0.0.dev0,>=1.31.5 in c:\\users\\arnell\\documents\\github\\testpypi\\whisp\\venv\\lib\\site-packages (from google-api-python-client>=1.12.1->earthengine-api->openforis-whisp) (2.24.1)\n",
      "Requirement already satisfied: uritemplate<5,>=3.0.1 in c:\\users\\arnell\\documents\\github\\testpypi\\whisp\\venv\\lib\\site-packages (from google-api-python-client>=1.12.1->earthengine-api->openforis-whisp) (4.1.1)\n",
      "Requirement already satisfied: cachetools<6.0,>=2.0.0 in c:\\users\\arnell\\documents\\github\\testpypi\\whisp\\venv\\lib\\site-packages (from google-auth>=1.4.1->earthengine-api->openforis-whisp) (5.5.1)\n",
      "Requirement already satisfied: pyasn1-modules>=0.2.1 in c:\\users\\arnell\\documents\\github\\testpypi\\whisp\\venv\\lib\\site-packages (from google-auth>=1.4.1->earthengine-api->openforis-whisp) (0.4.1)\n",
      "Requirement already satisfied: pyparsing!=3.0.0,!=3.0.1,!=3.0.2,!=3.0.3,<4,>=2.4.2 in c:\\users\\arnell\\documents\\github\\testpypi\\whisp\\venv\\lib\\site-packages (from httplib2<1dev,>=0.9.2->earthengine-api->openforis-whisp) (3.2.1)\n",
      "Requirement already satisfied: ipywidgets in c:\\users\\arnell\\documents\\github\\testpypi\\whisp\\venv\\lib\\site-packages (from ipyfilechooser>=0.6.0->geemap->openforis-whisp) (8.1.5)\n",
      "Requirement already satisfied: jupyter-leaflet<0.20,>=0.19 in c:\\users\\arnell\\documents\\github\\testpypi\\whisp\\venv\\lib\\site-packages (from ipyleaflet>=0.19.2->geemap->openforis-whisp) (0.19.2)\n",
      "Requirement already satisfied: traittypes<3,>=0.2.1 in c:\\users\\arnell\\documents\\github\\testpypi\\whisp\\venv\\lib\\site-packages (from ipyleaflet>=0.19.2->geemap->openforis-whisp) (0.2.1)\n",
      "Requirement already satisfied: colorama in c:\\users\\arnell\\documents\\github\\testpypi\\whisp\\venv\\lib\\site-packages (from ipython>=7.23.1->ipykernel<7.0.0,>=6.17.1->openforis-whisp) (0.4.6)\n",
      "Requirement already satisfied: decorator in c:\\users\\arnell\\documents\\github\\testpypi\\whisp\\venv\\lib\\site-packages (from ipython>=7.23.1->ipykernel<7.0.0,>=6.17.1->openforis-whisp) (5.1.1)\n",
      "Requirement already satisfied: jedi>=0.16 in c:\\users\\arnell\\documents\\github\\testpypi\\whisp\\venv\\lib\\site-packages (from ipython>=7.23.1->ipykernel<7.0.0,>=6.17.1->openforis-whisp) (0.19.2)\n",
      "Requirement already satisfied: prompt_toolkit<3.1.0,>=3.0.41 in c:\\users\\arnell\\documents\\github\\testpypi\\whisp\\venv\\lib\\site-packages (from ipython>=7.23.1->ipykernel<7.0.0,>=6.17.1->openforis-whisp) (3.0.50)\n",
      "Requirement already satisfied: pygments>=2.4.0 in c:\\users\\arnell\\documents\\github\\testpypi\\whisp\\venv\\lib\\site-packages (from ipython>=7.23.1->ipykernel<7.0.0,>=6.17.1->openforis-whisp) (2.19.1)\n",
      "Requirement already satisfied: stack_data in c:\\users\\arnell\\documents\\github\\testpypi\\whisp\\venv\\lib\\site-packages (from ipython>=7.23.1->ipykernel<7.0.0,>=6.17.1->openforis-whisp) (0.6.3)\n",
      "Requirement already satisfied: platformdirs>=2.5 in c:\\users\\arnell\\documents\\github\\testpypi\\whisp\\venv\\lib\\site-packages (from jupyter-core!=5.0.*,>=4.12->ipykernel<7.0.0,>=6.17.1->openforis-whisp) (4.3.6)\n",
      "Requirement already satisfied: pywin32>=300 in c:\\users\\arnell\\documents\\github\\testpypi\\whisp\\venv\\lib\\site-packages (from jupyter-core!=5.0.*,>=4.12->ipykernel<7.0.0,>=6.17.1->openforis-whisp) (308)\n",
      "Requirement already satisfied: six>=1.5 in c:\\users\\arnell\\documents\\github\\testpypi\\whisp\\venv\\lib\\site-packages (from python-dateutil>=2.8.2->pandas<3.0.0,>=1.3.0->openforis-whisp) (1.17.0)\n",
      "Requirement already satisfied: charset-normalizer<4,>=2 in c:\\users\\arnell\\documents\\github\\testpypi\\whisp\\venv\\lib\\site-packages (from requests->earthengine-api->openforis-whisp) (3.4.1)\n",
      "Requirement already satisfied: idna<4,>=2.5 in c:\\users\\arnell\\documents\\github\\testpypi\\whisp\\venv\\lib\\site-packages (from requests->earthengine-api->openforis-whisp) (3.10)\n",
      "Requirement already satisfied: urllib3<3,>=1.21.1 in c:\\users\\arnell\\documents\\github\\testpypi\\whisp\\venv\\lib\\site-packages (from requests->earthengine-api->openforis-whisp) (2.3.0)\n",
      "Requirement already satisfied: certifi>=2017.4.17 in c:\\users\\arnell\\documents\\github\\testpypi\\whisp\\venv\\lib\\site-packages (from requests->earthengine-api->openforis-whisp) (2025.1.31)\n",
      "Requirement already satisfied: mypy-extensions>=0.3.0 in c:\\users\\arnell\\documents\\github\\testpypi\\whisp\\venv\\lib\\site-packages (from typing_inspect>=0.6.0->pandera<1.0.0,>=0.22.1->pandera[io]<1.0.0,>=0.22.1->openforis-whisp) (1.0.0)\n",
      "Requirement already satisfied: click>=8.0.0 in c:\\users\\arnell\\documents\\github\\testpypi\\whisp\\venv\\lib\\site-packages (from black->pandera[io]<1.0.0,>=0.22.1->openforis-whisp) (8.1.8)\n",
      "Requirement already satisfied: pathspec>=0.9.0 in c:\\users\\arnell\\documents\\github\\testpypi\\whisp\\venv\\lib\\site-packages (from black->pandera[io]<1.0.0,>=0.22.1->openforis-whisp) (0.12.1)\n",
      "Requirement already satisfied: future in c:\\users\\arnell\\documents\\github\\testpypi\\whisp\\venv\\lib\\site-packages (from geocoder->geemap->openforis-whisp) (1.0.0)\n",
      "Requirement already satisfied: ratelim in c:\\users\\arnell\\documents\\github\\testpypi\\whisp\\venv\\lib\\site-packages (from geocoder->geemap->openforis-whisp) (0.1.6)\n",
      "Requirement already satisfied: google-cloud-core<3.0dev,>=2.3.0 in c:\\users\\arnell\\documents\\github\\testpypi\\whisp\\venv\\lib\\site-packages (from google-cloud-storage->earthengine-api->openforis-whisp) (2.4.1)\n",
      "Requirement already satisfied: google-resumable-media>=2.7.2 in c:\\users\\arnell\\documents\\github\\testpypi\\whisp\\venv\\lib\\site-packages (from google-cloud-storage->earthengine-api->openforis-whisp) (2.7.2)\n",
      "Requirement already satisfied: google-crc32c<2.0dev,>=1.0 in c:\\users\\arnell\\documents\\github\\testpypi\\whisp\\venv\\lib\\site-packages (from google-cloud-storage->earthengine-api->openforis-whisp) (1.6.0)\n",
      "Requirement already satisfied: contourpy>=1.0.1 in c:\\users\\arnell\\documents\\github\\testpypi\\whisp\\venv\\lib\\site-packages (from matplotlib->geemap->openforis-whisp) (1.3.1)\n",
      "Requirement already satisfied: cycler>=0.10 in c:\\users\\arnell\\documents\\github\\testpypi\\whisp\\venv\\lib\\site-packages (from matplotlib->geemap->openforis-whisp) (0.12.1)\n",
      "Requirement already satisfied: fonttools>=4.22.0 in c:\\users\\arnell\\documents\\github\\testpypi\\whisp\\venv\\lib\\site-packages (from matplotlib->geemap->openforis-whisp) (4.56.0)\n",
      "Requirement already satisfied: kiwisolver>=1.3.1 in c:\\users\\arnell\\documents\\github\\testpypi\\whisp\\venv\\lib\\site-packages (from matplotlib->geemap->openforis-whisp) (1.4.8)\n",
      "Requirement already satisfied: pillow>=8 in c:\\users\\arnell\\documents\\github\\testpypi\\whisp\\venv\\lib\\site-packages (from matplotlib->geemap->openforis-whisp) (11.1.0)\n",
      "Requirement already satisfied: narwhals>=1.15.1 in c:\\users\\arnell\\documents\\github\\testpypi\\whisp\\venv\\lib\\site-packages (from plotly->geemap->openforis-whisp) (1.26.0)\n",
      "Requirement already satisfied: annotated-types>=0.6.0 in c:\\users\\arnell\\documents\\github\\testpypi\\whisp\\venv\\lib\\site-packages (from pydantic->pandera<1.0.0,>=0.22.1->pandera[io]<1.0.0,>=0.22.1->openforis-whisp) (0.7.0)\n",
      "Requirement already satisfied: googleapis-common-protos<2.0.dev0,>=1.56.2 in c:\\users\\arnell\\documents\\github\\testpypi\\whisp\\venv\\lib\\site-packages (from google-api-core!=2.0.*,!=2.1.*,!=2.2.*,!=2.3.0,<3.0.0.dev0,>=1.31.5->google-api-python-client>=1.12.1->earthengine-api->openforis-whisp) (1.66.0)\n",
      "Requirement already satisfied: protobuf!=3.20.0,!=3.20.1,!=4.21.0,!=4.21.1,!=4.21.2,!=4.21.3,!=4.21.4,!=4.21.5,<6.0.0.dev0,>=3.19.5 in c:\\users\\arnell\\documents\\github\\testpypi\\whisp\\venv\\lib\\site-packages (from google-api-core!=2.0.*,!=2.1.*,!=2.2.*,!=2.3.0,<3.0.0.dev0,>=1.31.5->google-api-python-client>=1.12.1->earthengine-api->openforis-whisp) (5.29.3)\n",
      "Requirement already satisfied: proto-plus<2.0.0dev,>=1.22.3 in c:\\users\\arnell\\documents\\github\\testpypi\\whisp\\venv\\lib\\site-packages (from google-api-core!=2.0.*,!=2.1.*,!=2.2.*,!=2.3.0,<3.0.0.dev0,>=1.31.5->google-api-python-client>=1.12.1->earthengine-api->openforis-whisp) (1.26.0)\n",
      "Requirement already satisfied: widgetsnbextension~=4.0.12 in c:\\users\\arnell\\documents\\github\\testpypi\\whisp\\venv\\lib\\site-packages (from ipywidgets->ipyfilechooser>=0.6.0->geemap->openforis-whisp) (4.0.13)\n",
      "Requirement already satisfied: jupyterlab-widgets~=3.0.12 in c:\\users\\arnell\\documents\\github\\testpypi\\whisp\\venv\\lib\\site-packages (from ipywidgets->ipyfilechooser>=0.6.0->geemap->openforis-whisp) (3.0.13)\n",
      "Requirement already satisfied: parso<0.9.0,>=0.8.4 in c:\\users\\arnell\\documents\\github\\testpypi\\whisp\\venv\\lib\\site-packages (from jedi>=0.16->ipython>=7.23.1->ipykernel<7.0.0,>=6.17.1->openforis-whisp) (0.8.4)\n",
      "Requirement already satisfied: MarkupSafe>=2.0 in c:\\users\\arnell\\documents\\github\\testpypi\\whisp\\venv\\lib\\site-packages (from jinja2>=2.9->folium>=0.17.0->geemap->openforis-whisp) (3.0.2)\n",
      "Requirement already satisfied: attrs>=22.2.0 in c:\\users\\arnell\\documents\\github\\testpypi\\whisp\\venv\\lib\\site-packages (from jsonschema>=2.5->frictionless<=4.40.8->pandera[io]<1.0.0,>=0.22.1->openforis-whisp) (25.1.0)\n",
      "Requirement already satisfied: jsonschema-specifications>=2023.03.6 in c:\\users\\arnell\\documents\\github\\testpypi\\whisp\\venv\\lib\\site-packages (from jsonschema>=2.5->frictionless<=4.40.8->pandera[io]<1.0.0,>=0.22.1->openforis-whisp) (2024.10.1)\n",
      "Requirement already satisfied: referencing>=0.28.4 in c:\\users\\arnell\\documents\\github\\testpypi\\whisp\\venv\\lib\\site-packages (from jsonschema>=2.5->frictionless<=4.40.8->pandera[io]<1.0.0,>=0.22.1->openforis-whisp) (0.36.2)\n",
      "Requirement already satisfied: rpds-py>=0.7.1 in c:\\users\\arnell\\documents\\github\\testpypi\\whisp\\venv\\lib\\site-packages (from jsonschema>=2.5->frictionless<=4.40.8->pandera[io]<1.0.0,>=0.22.1->openforis-whisp) (0.22.3)\n",
      "Requirement already satisfied: wcwidth in c:\\users\\arnell\\documents\\github\\testpypi\\whisp\\venv\\lib\\site-packages (from prompt_toolkit<3.1.0,>=3.0.41->ipython>=7.23.1->ipykernel<7.0.0,>=6.17.1->openforis-whisp) (0.2.13)\n",
      "Requirement already satisfied: text-unidecode>=1.3 in c:\\users\\arnell\\documents\\github\\testpypi\\whisp\\venv\\lib\\site-packages (from python-slugify>=1.2->frictionless<=4.40.8->pandera[io]<1.0.0,>=0.22.1->openforis-whisp) (1.3)\n",
      "Requirement already satisfied: shellingham>=1.3.0 in c:\\users\\arnell\\documents\\github\\testpypi\\whisp\\venv\\lib\\site-packages (from typer>=0.5->typer[all]>=0.5->frictionless<=4.40.8->pandera[io]<1.0.0,>=0.22.1->openforis-whisp) (1.5.4)\n",
      "Requirement already satisfied: rich>=10.11.0 in c:\\users\\arnell\\documents\\github\\testpypi\\whisp\\venv\\lib\\site-packages (from typer>=0.5->typer[all]>=0.5->frictionless<=4.40.8->pandera[io]<1.0.0,>=0.22.1->openforis-whisp) (13.9.4)\n",
      "Requirement already satisfied: executing>=1.2.0 in c:\\users\\arnell\\documents\\github\\testpypi\\whisp\\venv\\lib\\site-packages (from stack_data->ipython>=7.23.1->ipykernel<7.0.0,>=6.17.1->openforis-whisp) (2.2.0)\n",
      "Requirement already satisfied: asttokens>=2.1.0 in c:\\users\\arnell\\documents\\github\\testpypi\\whisp\\venv\\lib\\site-packages (from stack_data->ipython>=7.23.1->ipykernel<7.0.0,>=6.17.1->openforis-whisp) (3.0.0)\n",
      "Requirement already satisfied: pure-eval in c:\\users\\arnell\\documents\\github\\testpypi\\whisp\\venv\\lib\\site-packages (from stack_data->ipython>=7.23.1->ipykernel<7.0.0,>=6.17.1->openforis-whisp) (0.2.3)\n",
      "Requirement already satisfied: markdown-it-py>=2.2.0 in c:\\users\\arnell\\documents\\github\\testpypi\\whisp\\venv\\lib\\site-packages (from rich>=10.11.0->typer>=0.5->typer[all]>=0.5->frictionless<=4.40.8->pandera[io]<1.0.0,>=0.22.1->openforis-whisp) (3.0.0)\n",
      "Requirement already satisfied: mdurl~=0.1 in c:\\users\\arnell\\documents\\github\\testpypi\\whisp\\venv\\lib\\site-packages (from markdown-it-py>=2.2.0->rich>=10.11.0->typer>=0.5->typer[all]>=0.5->frictionless<=4.40.8->pandera[io]<1.0.0,>=0.22.1->openforis-whisp) (0.1.2)\n"
     ]
    },
    {
     "name": "stderr",
     "output_type": "stream",
     "text": [
      "WARNING: typer 0.15.1 does not provide the extra 'all'\n"
     ]
    }
   ],
   "source": [
    "# Install openforis-whisp (if not already installed)\n",
    "!pip install openforis-whisp"
   ]
  },
  {
   "cell_type": "code",
   "execution_count": 7,
   "id": "00e60218",
   "metadata": {},
   "outputs": [],
   "source": [
    "import openforis_whisp as whisp"
   ]
  },
  {
   "cell_type": "markdown",
   "id": "a66d9f78",
   "metadata": {},
   "source": [
    "Get a feature collection"
   ]
  },
  {
   "cell_type": "code",
   "execution_count": null,
   "id": "1b7d644b",
   "metadata": {},
   "outputs": [],
   "source": [
    "GEOJSON_EXAMPLE_FILEPATH = whisp.get_example_data_path(\"geojson_example.geojson\")\n",
    "print (GEOJSON_EXAMPLE_FILEPATH)"
   ]
  },
  {
   "cell_type": "markdown",
   "id": "4fce13c5",
   "metadata": {},
   "source": [
    "Whisp it"
   ]
  },
  {
   "cell_type": "code",
   "execution_count": null,
   "id": "c56f5fc1",
   "metadata": {},
   "outputs": [],
   "source": [
    "df_formatted_stats = whisp.whisp_formatted_stats_geojson_to_df(GEOJSON_EXAMPLE_FILEPATH)"
   ]
  },
  {
   "cell_type": "markdown",
   "id": "c24ce34d",
   "metadata": {},
   "source": [
    "Display table"
   ]
  },
  {
   "cell_type": "code",
   "execution_count": null,
   "id": "65ad5bf4",
   "metadata": {},
   "outputs": [],
   "source": [
    "df_formatted_stats"
   ]
  },
  {
   "cell_type": "markdown",
   "id": "5c2ecbf7-d86f-425c-9c93-80ce21f3dff2",
   "metadata": {},
   "source": [
    "Calculate risk category"
   ]
  },
  {
   "cell_type": "code",
   "execution_count": null,
   "id": "f4cd1b5c-41ac-4d3c-af26-a47db3d48af8",
   "metadata": {},
   "outputs": [],
   "source": [
    "# add risk columns to end of dataframe\n",
    "df_w_risk = whisp.whisp_risk(df=df_formatted_stats)"
   ]
  },
  {
   "cell_type": "markdown",
   "id": "5a15577b-44bb-4792-98ef-95fd6bc1aabb",
   "metadata": {},
   "source": [
    "Display table with risk columns"
   ]
  },
  {
   "cell_type": "code",
   "execution_count": null,
   "id": "0c62b10e-7484-47cd-9f73-40f612be5407",
   "metadata": {},
   "outputs": [],
   "source": [
    "df_w_risk"
   ]
  },
  {
   "cell_type": "markdown",
   "id": "094c0019-585e-4598-8c54-c628625f5f80",
   "metadata": {},
   "source": [
    "Export table to CSV"
   ]
  },
  {
   "cell_type": "code",
   "execution_count": null,
   "id": "c14e1709",
   "metadata": {},
   "outputs": [],
   "source": [
    "# Define the output folder\n",
    "out_directory = Path.home() / 'Downloads'\n",
    "\n",
    "# Define the output file path for CSV\n",
    "csv_output_file = out_directory / 'whisp_output_table_w_risk.csv'\n",
    "\n",
    "# Save the CSV file\n",
    "df_w_risk.to_csv(path_or_buf=csv_output_file, index=False)\n",
    "print(f\"Table with risk columns saved to: {csv_output_file}\")"
   ]
  },
  {
   "cell_type": "markdown",
   "id": "f92c1765",
   "metadata": {},
   "source": [
    "Export to GeoJSON (optional)"
   ]
  },
  {
   "cell_type": "code",
   "execution_count": null,
   "id": "5f8f64bd",
   "metadata": {},
   "outputs": [],
   "source": [
    "# Define the output file path for GeoJSON\n",
    "geojson_output_file = out_directory / 'whisp_output_table.geojson'\n",
    "\n",
    "# Save the GeoJSON file\n",
    "whisp.convert_df_to_geojson(df_w_risk, geojson_output_file)  # builds a geojson file containing Whisp columns. Uses the geometry column \"geo\" to create the spatial features.\n",
    "print(f\"GeoJSON file saved to: {geojson_output_file}\")"
   ]
  },
  {
   "cell_type": "markdown",
   "id": "58619e3d",
   "metadata": {},
   "source": []
  },
  {
   "cell_type": "markdown",
   "id": "5d25088f",
   "metadata": {},
   "source": []
  }
 ],
 "metadata": {
  "kernelspec": {
   "display_name": "venv",
   "language": "python",
   "name": "python3"
  },
  "language_info": {
   "codemirror_mode": {
    "name": "ipython",
    "version": 3
   },
   "file_extension": ".py",
   "mimetype": "text/x-python",
   "name": "python",
   "nbconvert_exporter": "python",
   "pygments_lexer": "ipython3",
   "version": "3.12.0"
  }
 },
 "nbformat": 4,
 "nbformat_minor": 5
}
