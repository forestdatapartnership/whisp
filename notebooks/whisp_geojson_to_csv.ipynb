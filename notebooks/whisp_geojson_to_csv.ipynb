{
 "cells": [
  {
   "cell_type": "markdown",
   "id": "250b53cc",
   "metadata": {},
   "source": [
    "### Whisp a feature collection"
   ]
  },
  {
   "cell_type": "markdown",
   "id": "0ed47318",
   "metadata": {},
   "source": [
    "Setup\n",
    "- NB use a virtual environment to avoid altering your python environment (https://docs.python.org/3/tutorial/venv.html)"
   ]
  },
  {
   "cell_type": "code",
   "execution_count": 1,
   "id": "38ac967d",
   "metadata": {},
   "outputs": [],
   "source": [
    "# Earth Engine and Common Libraries|\n",
    "import ee\n",
    "from pathlib import Path\n",
    "\n",
    "# Authenticate and initialize Earth Engine. \n",
    "try:\n",
    "    ee.Initialize()  # Try to use existing credentials first\n",
    "except Exception:\n",
    "    ee.Authenticate() # Authenticate may open a browser window\n",
    "    ee.Initialize()\n",
    "\n",
    "# NB if not working add your cloud project: ee.Initialize(project=\"your_gee_cloud_project_name\")"
   ]
  },
  {
   "cell_type": "code",
   "execution_count": 2,
   "id": "00e60218",
   "metadata": {},
   "outputs": [
    {
     "name": "stderr",
     "output_type": "stream",
     "text": [
      "2025-07-23 02:41:57,581 - INFO - NumExpr defaulting to 2 threads.\n"
     ]
    }
   ],
   "source": [
    "import openforis_whisp as whisp"
   ]
  },
  {
   "cell_type": "markdown",
   "id": "a66d9f78",
   "metadata": {},
   "source": [
    "Get a feature collection"
   ]
  },
  {
   "cell_type": "code",
   "execution_count": 3,
   "id": "1b7d644b",
   "metadata": {},
   "outputs": [],
   "source": [
    "GEOJSON_EXAMPLE_FILEPATH = whisp.get_example_data_path(\"/home/sepal-user/whisp/test_IDN_kalimantan.geojson\")\n"
   ]
  },
  {
   "cell_type": "markdown",
   "id": "4fce13c5",
   "metadata": {},
   "source": [
    "Whisp it"
   ]
  },
  {
   "cell_type": "code",
   "execution_count": 4,
   "id": "d128c0d2",
   "metadata": {},
   "outputs": [],
   "source": [
    "# Choose countries to process (currently three countries: 'co', 'ci', 'br')\n",
    "iso2_codes_list = ['id']  # Example ISO2 codes for including country specific data\n"
   ]
  },
  {
   "cell_type": "code",
   "execution_count": 5,
   "id": "c56f5fc1",
   "metadata": {},
   "outputs": [
    {
     "name": "stdout",
     "output_type": "stream",
     "text": [
      "Reading GeoJSON file from: /home/sepal-user/whisp/test_IDN_kalimantan.geojson\n",
      "['Area', 'Oil_palm_Descals', 'European_Primary_Forest', 'ESA_fire_before_2020', 'ESA_fire_2001', 'ESA_fire_2002', 'ESA_fire_2003', 'ESA_fire_2004', 'ESA_fire_2005', 'ESA_fire_2006', 'ESA_fire_2007', 'ESA_fire_2008', 'ESA_fire_2009', 'ESA_fire_2010', 'ESA_fire_2011', 'ESA_fire_2012', 'ESA_fire_2013', 'ESA_fire_2014', 'ESA_fire_2015', 'ESA_fire_2016', 'ESA_fire_2017', 'ESA_fire_2018', 'ESA_fire_2019', 'ESA_fire_2020', 'ESA_TC_2020', 'ESRI_2023_crop', 'ESRI_2023_TC', 'Cocoa_ETH', 'Cocoa_2023_FDaP', 'Cocoa_FDaP', 'Coffee_FDaP', 'Coffee_FDaP_2023', 'Forest_FDaP', 'Oil_palm_2023_FDaP', 'Oil_palm_FDaP', 'Rubber_2023_FDaP', 'Rubber_FDaP', 'GFT_naturally_regenerating', 'GFT_planted_plantation', 'GFT_primary', 'GFC_TC_2020', 'GFC_loss_after_2020', 'GFC_loss_before_2020', 'GFC_loss_year_2001', 'GFC_loss_year_2002', 'GFC_loss_year_2003', 'GFC_loss_year_2004', 'GFC_loss_year_2005', 'GFC_loss_year_2006', 'GFC_loss_year_2007', 'GFC_loss_year_2008', 'GFC_loss_year_2009', 'GFC_loss_year_2010', 'GFC_loss_year_2011', 'GFC_loss_year_2012', 'GFC_loss_year_2013', 'GFC_loss_year_2014', 'GFC_loss_year_2015', 'GFC_loss_year_2016', 'GFC_loss_year_2017', 'GFC_loss_year_2018', 'GFC_loss_year_2019', 'GFC_loss_year_2020', 'GFC_loss_year_2021', 'GFC_loss_year_2022', 'GFC_loss_year_2023', 'GFC_loss_year_2024', 'GLAD_Primary', 'GLC_FCS30D_crop_2022', 'GLC_FCS30D_TC_2022', 'IFL_2020', 'IIASA_planted_plantation', 'EUFO_2020', 'TMF_plant', 'TMF_undist', 'GFW_logging_before_2020', 'MODIS_fire_after_2020', 'MODIS_fire_before_2020', 'MODIS_fire_2000', 'MODIS_fire_2001', 'MODIS_fire_2002', 'MODIS_fire_2003', 'MODIS_fire_2004', 'MODIS_fire_2005', 'MODIS_fire_2006', 'MODIS_fire_2007', 'MODIS_fire_2008', 'MODIS_fire_2009', 'MODIS_fire_2010', 'MODIS_fire_2011', 'MODIS_fire_2012', 'MODIS_fire_2013', 'MODIS_fire_2014', 'MODIS_fire_2015', 'MODIS_fire_2016', 'MODIS_fire_2017', 'MODIS_fire_2018', 'MODIS_fire_2019', 'MODIS_fire_2020', 'MODIS_fire_2021', 'MODIS_fire_2022', 'MODIS_fire_2023', 'MODIS_fire_2024', 'MODIS_fire_2025', 'RADD_after_2020', 'RADD_before_2020', 'RADD_year_2019', 'RADD_year_2020', 'RADD_year_2021', 'RADD_year_2022', 'RADD_year_2023', 'RADD_year_2024', 'RADD_year_2025', 'Rubber_RBGE', 'Soy_Song_2020', 'TMF_def_after_2020', 'TMF_def_before_2020', 'TMF_def_2000', 'TMF_def_2001', 'TMF_def_2002', 'TMF_def_2003', 'TMF_def_2004', 'TMF_def_2005', 'TMF_def_2006', 'TMF_def_2007', 'TMF_def_2008', 'TMF_def_2009', 'TMF_def_2010', 'TMF_def_2011', 'TMF_def_2012', 'TMF_def_2013', 'TMF_def_2014', 'TMF_def_2015', 'TMF_def_2016', 'TMF_def_2017', 'TMF_def_2018', 'TMF_def_2019', 'TMF_def_2020', 'TMF_def_2021', 'TMF_def_2022', 'TMF_def_2023', 'TMF_def_2024', 'TMF_deg_after_2020', 'TMF_deg_before_2020', 'TMF_deg_2000', 'TMF_deg_2001', 'TMF_deg_2002', 'TMF_deg_2003', 'TMF_deg_2004', 'TMF_deg_2005', 'TMF_deg_2006', 'TMF_deg_2007', 'TMF_deg_2008', 'TMF_deg_2009', 'TMF_deg_2010', 'TMF_deg_2011', 'TMF_deg_2012', 'TMF_deg_2013', 'TMF_deg_2014', 'TMF_deg_2015', 'TMF_deg_2016', 'TMF_deg_2017', 'TMF_deg_2018', 'TMF_deg_2019', 'TMF_deg_2020', 'TMF_deg_2021', 'TMF_deg_2022', 'TMF_deg_2023', 'TMF_deg_2024', 'TMF_regrowth_2023', 'nID_simontana_forest2020', 'nID_simontana_plantation2020']\n",
      "Creating schema for national_codes: ['id']\n",
      "[reformat.py | log_missing_columns() | l.267] INFO: All columns from dataframe found in the schema.\n",
      "[reformat.py | log_missing_columns() | l.271] WARNING: The following columns in the schema did not match any columns from the results dataframe: \n",
      "external_id\n"
     ]
    }
   ],
   "source": [
    "df_formatted_stats = whisp.whisp_formatted_stats_geojson_to_df(\n",
    "    input_geojson_filepath=GEOJSON_EXAMPLE_FILEPATH,\n",
    "    national_codes=iso2_codes_list, # optional - By default national datasets are not included unless specified here.\n",
    "    # unit_type='percent', # optional - to change unit type. Default is 'ha'. \n",
    ")"
   ]
  },
  {
   "cell_type": "code",
   "execution_count": 15,
   "id": "65ad5bf4",
   "metadata": {},
   "outputs": [
    {
     "data": {
      "text/html": [
       "<div>\n",
       "<style scoped>\n",
       "    .dataframe tbody tr th:only-of-type {\n",
       "        vertical-align: middle;\n",
       "    }\n",
       "\n",
       "    .dataframe tbody tr th {\n",
       "        vertical-align: top;\n",
       "    }\n",
       "\n",
       "    .dataframe thead th {\n",
       "        text-align: right;\n",
       "    }\n",
       "</style>\n",
       "<table border=\"1\" class=\"dataframe\">\n",
       "  <thead>\n",
       "    <tr style=\"text-align: right;\">\n",
       "      <th></th>\n",
       "      <th>plotId</th>\n",
       "      <th>external_id</th>\n",
       "      <th>Area</th>\n",
       "      <th>Geometry_type</th>\n",
       "      <th>Country</th>\n",
       "      <th>ProducerCountry</th>\n",
       "      <th>Admin_Level_1</th>\n",
       "      <th>Centroid_lon</th>\n",
       "      <th>Centroid_lat</th>\n",
       "      <th>Unit</th>\n",
       "      <th>...</th>\n",
       "      <th>Oil_palm_2023_FDaP</th>\n",
       "      <th>Rubber_2023_FDaP</th>\n",
       "      <th>Coffee_FDaP_2023</th>\n",
       "      <th>Cocoa_2023_FDaP</th>\n",
       "      <th>ESRI_2023_crop</th>\n",
       "      <th>GLC_FCS30D_crop_2022</th>\n",
       "      <th>GFW_logging_before_2020</th>\n",
       "      <th>nID_simontana_forest2020</th>\n",
       "      <th>nID_simontana_plantation2020</th>\n",
       "      <th>geo</th>\n",
       "    </tr>\n",
       "  </thead>\n",
       "  <tbody>\n",
       "    <tr>\n",
       "      <th>0</th>\n",
       "      <td>1</td>\n",
       "      <td>NaN</td>\n",
       "      <td>111.803001</td>\n",
       "      <td>Polygon</td>\n",
       "      <td>IDN</td>\n",
       "      <td>ID</td>\n",
       "      <td>West Kalimantan</td>\n",
       "      <td>109.987391</td>\n",
       "      <td>-0.808366</td>\n",
       "      <td>ha</td>\n",
       "      <td>...</td>\n",
       "      <td>103.487</td>\n",
       "      <td>0.01</td>\n",
       "      <td>0.0</td>\n",
       "      <td>0.02</td>\n",
       "      <td>76.449997</td>\n",
       "      <td>1.307</td>\n",
       "      <td>0.0</td>\n",
       "      <td>64.776001</td>\n",
       "      <td>44.213001</td>\n",
       "      <td>{'type': 'Polygon', 'coordinates': [[[109.9816...</td>\n",
       "    </tr>\n",
       "    <tr>\n",
       "      <th>1</th>\n",
       "      <td>2</td>\n",
       "      <td>NaN</td>\n",
       "      <td>271.177002</td>\n",
       "      <td>Polygon</td>\n",
       "      <td>IDN</td>\n",
       "      <td>ID</td>\n",
       "      <td>West Kalimantan</td>\n",
       "      <td>110.081419</td>\n",
       "      <td>-0.845661</td>\n",
       "      <td>ha</td>\n",
       "      <td>...</td>\n",
       "      <td>0.000</td>\n",
       "      <td>0.00</td>\n",
       "      <td>0.0</td>\n",
       "      <td>0.00</td>\n",
       "      <td>0.000000</td>\n",
       "      <td>0.000</td>\n",
       "      <td>0.0</td>\n",
       "      <td>271.177002</td>\n",
       "      <td>0.000000</td>\n",
       "      <td>{'type': 'Polygon', 'coordinates': [[[110.0670...</td>\n",
       "    </tr>\n",
       "    <tr>\n",
       "      <th>2</th>\n",
       "      <td>3</td>\n",
       "      <td>NaN</td>\n",
       "      <td>242.621994</td>\n",
       "      <td>Polygon</td>\n",
       "      <td>IDN</td>\n",
       "      <td>ID</td>\n",
       "      <td>West Kalimantan</td>\n",
       "      <td>109.916991</td>\n",
       "      <td>-0.614667</td>\n",
       "      <td>ha</td>\n",
       "      <td>...</td>\n",
       "      <td>0.000</td>\n",
       "      <td>0.00</td>\n",
       "      <td>0.0</td>\n",
       "      <td>0.00</td>\n",
       "      <td>47.943001</td>\n",
       "      <td>4.207</td>\n",
       "      <td>0.0</td>\n",
       "      <td>240.154999</td>\n",
       "      <td>1.563000</td>\n",
       "      <td>{'type': 'Polygon', 'coordinates': [[[109.9071...</td>\n",
       "    </tr>\n",
       "  </tbody>\n",
       "</table>\n",
       "<p>3 rows × 183 columns</p>\n",
       "</div>"
      ],
      "text/plain": [
       "  plotId  external_id        Area Geometry_type Country ProducerCountry  \\\n",
       "0      1          NaN  111.803001       Polygon     IDN              ID   \n",
       "1      2          NaN  271.177002       Polygon     IDN              ID   \n",
       "2      3          NaN  242.621994       Polygon     IDN              ID   \n",
       "\n",
       "     Admin_Level_1  Centroid_lon  Centroid_lat Unit  ...  Oil_palm_2023_FDaP  \\\n",
       "0  West Kalimantan    109.987391     -0.808366   ha  ...             103.487   \n",
       "1  West Kalimantan    110.081419     -0.845661   ha  ...               0.000   \n",
       "2  West Kalimantan    109.916991     -0.614667   ha  ...               0.000   \n",
       "\n",
       "   Rubber_2023_FDaP  Coffee_FDaP_2023  Cocoa_2023_FDaP  ESRI_2023_crop  \\\n",
       "0              0.01               0.0             0.02       76.449997   \n",
       "1              0.00               0.0             0.00        0.000000   \n",
       "2              0.00               0.0             0.00       47.943001   \n",
       "\n",
       "   GLC_FCS30D_crop_2022  GFW_logging_before_2020  nID_simontana_forest2020  \\\n",
       "0                 1.307                      0.0                 64.776001   \n",
       "1                 0.000                      0.0                271.177002   \n",
       "2                 4.207                      0.0                240.154999   \n",
       "\n",
       "   nID_simontana_plantation2020  \\\n",
       "0                     44.213001   \n",
       "1                      0.000000   \n",
       "2                      1.563000   \n",
       "\n",
       "                                                 geo  \n",
       "0  {'type': 'Polygon', 'coordinates': [[[109.9816...  \n",
       "1  {'type': 'Polygon', 'coordinates': [[[110.0670...  \n",
       "2  {'type': 'Polygon', 'coordinates': [[[109.9071...  \n",
       "\n",
       "[3 rows x 183 columns]"
      ]
     },
     "execution_count": 15,
     "metadata": {},
     "output_type": "execute_result"
    }
   ],
   "source": [
    "df_formatted_stats"
   ]
  },
  {
   "cell_type": "code",
   "execution_count": 16,
   "id": "da398c62-7372-426e-9ff4-25d9f72afe57",
   "metadata": {},
   "outputs": [
    {
     "name": "stdout",
     "output_type": "stream",
     "text": [
      "Table with risk columns saved to: /home/sepal-user/downloads/whisp_output_table_IDN.csv\n"
     ]
    }
   ],
   "source": [
    "# Define the output folder (if running in Sepal change path to preferred folder) \n",
    "# e.g. out_directory = Path.home() / 'module_results/whisp/'\n",
    "out_directory = Path.home() / 'downloads'\n",
    "\n",
    "# Define the output file path for CSV\n",
    "csv_output_file = out_directory / 'whisp_output_table_IDN.csv'\n",
    "\n",
    "# Save the CSV file\n",
    "df_formatted_stats.to_csv(path_or_buf=csv_output_file, index=False)\n",
    "print(f\"Table with risk columns saved to: {csv_output_file}\")"
   ]
  },
  {
   "cell_type": "markdown",
   "id": "5c2ecbf7-d86f-425c-9c93-80ce21f3dff2",
   "metadata": {},
   "source": [
    "Calculate risk category"
   ]
  },
  {
   "cell_type": "code",
   "execution_count": 17,
   "id": "f4cd1b5c-41ac-4d3c-af26-a47db3d48af8",
   "metadata": {},
   "outputs": [
    {
     "name": "stdout",
     "output_type": "stream",
     "text": [
      "Using unit type: ha\n"
     ]
    }
   ],
   "source": [
    "# add risk columns to end of dataframe\n",
    "df_w_risk = whisp.whisp_risk(df=df_formatted_stats,\n",
    "                             national_codes=iso2_codes_list # optional - By default national datasets are not included. This should align with the national_codes used above.\n",
    "            )"
   ]
  },
  {
   "cell_type": "markdown",
   "id": "5a15577b-44bb-4792-98ef-95fd6bc1aabb",
   "metadata": {},
   "source": [
    "Display table with risk columns"
   ]
  },
  {
   "cell_type": "code",
   "execution_count": 18,
   "id": "0c62b10e-7484-47cd-9f73-40f612be5407",
   "metadata": {},
   "outputs": [
    {
     "data": {
      "text/html": [
       "<div>\n",
       "<style scoped>\n",
       "    .dataframe tbody tr th:only-of-type {\n",
       "        vertical-align: middle;\n",
       "    }\n",
       "\n",
       "    .dataframe tbody tr th {\n",
       "        vertical-align: top;\n",
       "    }\n",
       "\n",
       "    .dataframe thead th {\n",
       "        text-align: right;\n",
       "    }\n",
       "</style>\n",
       "<table border=\"1\" class=\"dataframe\">\n",
       "  <thead>\n",
       "    <tr style=\"text-align: right;\">\n",
       "      <th></th>\n",
       "      <th>plotId</th>\n",
       "      <th>external_id</th>\n",
       "      <th>Area</th>\n",
       "      <th>Geometry_type</th>\n",
       "      <th>Country</th>\n",
       "      <th>ProducerCountry</th>\n",
       "      <th>Admin_Level_1</th>\n",
       "      <th>Centroid_lon</th>\n",
       "      <th>Centroid_lat</th>\n",
       "      <th>Unit</th>\n",
       "      <th>...</th>\n",
       "      <th>Ind_05_primary_2020</th>\n",
       "      <th>Ind_06_nat_reg_forest_2020</th>\n",
       "      <th>Ind_07_planted_plantations_2020</th>\n",
       "      <th>Ind_08_planted_plantations_after_2020</th>\n",
       "      <th>Ind_09_treecover_after_2020</th>\n",
       "      <th>Ind_10_agri_after_2020</th>\n",
       "      <th>Ind_11_logging_concession_before_2020</th>\n",
       "      <th>risk_pcrop</th>\n",
       "      <th>risk_acrop</th>\n",
       "      <th>risk_timber</th>\n",
       "    </tr>\n",
       "  </thead>\n",
       "  <tbody>\n",
       "    <tr>\n",
       "      <th>0</th>\n",
       "      <td>1</td>\n",
       "      <td>NaN</td>\n",
       "      <td>111.803001</td>\n",
       "      <td>Polygon</td>\n",
       "      <td>IDN</td>\n",
       "      <td>ID</td>\n",
       "      <td>West Kalimantan</td>\n",
       "      <td>109.987391</td>\n",
       "      <td>-0.808366</td>\n",
       "      <td>ha</td>\n",
       "      <td>...</td>\n",
       "      <td>no</td>\n",
       "      <td>yes</td>\n",
       "      <td>no</td>\n",
       "      <td>no</td>\n",
       "      <td>no</td>\n",
       "      <td>yes</td>\n",
       "      <td>no</td>\n",
       "      <td>low</td>\n",
       "      <td>low</td>\n",
       "      <td>low</td>\n",
       "    </tr>\n",
       "    <tr>\n",
       "      <th>1</th>\n",
       "      <td>2</td>\n",
       "      <td>NaN</td>\n",
       "      <td>271.177002</td>\n",
       "      <td>Polygon</td>\n",
       "      <td>IDN</td>\n",
       "      <td>ID</td>\n",
       "      <td>West Kalimantan</td>\n",
       "      <td>110.081419</td>\n",
       "      <td>-0.845661</td>\n",
       "      <td>ha</td>\n",
       "      <td>...</td>\n",
       "      <td>yes</td>\n",
       "      <td>yes</td>\n",
       "      <td>no</td>\n",
       "      <td>no</td>\n",
       "      <td>no</td>\n",
       "      <td>no</td>\n",
       "      <td>no</td>\n",
       "      <td>more_info_needed</td>\n",
       "      <td>more_info_needed</td>\n",
       "      <td>more_info_needed</td>\n",
       "    </tr>\n",
       "    <tr>\n",
       "      <th>2</th>\n",
       "      <td>3</td>\n",
       "      <td>NaN</td>\n",
       "      <td>242.621994</td>\n",
       "      <td>Polygon</td>\n",
       "      <td>IDN</td>\n",
       "      <td>ID</td>\n",
       "      <td>West Kalimantan</td>\n",
       "      <td>109.916991</td>\n",
       "      <td>-0.614667</td>\n",
       "      <td>ha</td>\n",
       "      <td>...</td>\n",
       "      <td>no</td>\n",
       "      <td>yes</td>\n",
       "      <td>no</td>\n",
       "      <td>no</td>\n",
       "      <td>no</td>\n",
       "      <td>yes</td>\n",
       "      <td>no</td>\n",
       "      <td>low</td>\n",
       "      <td>low</td>\n",
       "      <td>low</td>\n",
       "    </tr>\n",
       "  </tbody>\n",
       "</table>\n",
       "<p>3 rows × 197 columns</p>\n",
       "</div>"
      ],
      "text/plain": [
       "  plotId  external_id        Area Geometry_type Country ProducerCountry  \\\n",
       "0      1          NaN  111.803001       Polygon     IDN              ID   \n",
       "1      2          NaN  271.177002       Polygon     IDN              ID   \n",
       "2      3          NaN  242.621994       Polygon     IDN              ID   \n",
       "\n",
       "     Admin_Level_1  Centroid_lon  Centroid_lat Unit  ...  Ind_05_primary_2020  \\\n",
       "0  West Kalimantan    109.987391     -0.808366   ha  ...                   no   \n",
       "1  West Kalimantan    110.081419     -0.845661   ha  ...                  yes   \n",
       "2  West Kalimantan    109.916991     -0.614667   ha  ...                   no   \n",
       "\n",
       "   Ind_06_nat_reg_forest_2020  Ind_07_planted_plantations_2020  \\\n",
       "0                         yes                               no   \n",
       "1                         yes                               no   \n",
       "2                         yes                               no   \n",
       "\n",
       "   Ind_08_planted_plantations_after_2020  Ind_09_treecover_after_2020  \\\n",
       "0                                     no                           no   \n",
       "1                                     no                           no   \n",
       "2                                     no                           no   \n",
       "\n",
       "   Ind_10_agri_after_2020  Ind_11_logging_concession_before_2020  \\\n",
       "0                     yes                                     no   \n",
       "1                      no                                     no   \n",
       "2                     yes                                     no   \n",
       "\n",
       "         risk_pcrop        risk_acrop       risk_timber  \n",
       "0               low               low               low  \n",
       "1  more_info_needed  more_info_needed  more_info_needed  \n",
       "2               low               low               low  \n",
       "\n",
       "[3 rows x 197 columns]"
      ]
     },
     "execution_count": 18,
     "metadata": {},
     "output_type": "execute_result"
    }
   ],
   "source": [
    "df_w_risk"
   ]
  },
  {
   "cell_type": "markdown",
   "id": "094c0019-585e-4598-8c54-c628625f5f80",
   "metadata": {},
   "source": [
    "Export table to CSV"
   ]
  },
  {
   "cell_type": "code",
   "execution_count": 19,
   "id": "c14e1709",
   "metadata": {},
   "outputs": [
    {
     "name": "stdout",
     "output_type": "stream",
     "text": [
      "Table with risk columns saved to: /home/sepal-user/downloads/whisp_output_table_w_risk_IDN.csv\n"
     ]
    }
   ],
   "source": [
    "# Define the output folder \n",
    "# e.g. in running in Sepal this might be: Path.home() / 'module_results/whisp/'\n",
    "out_directory = Path.home() / 'downloads'\n",
    "\n",
    "# Define the output file path for CSV\n",
    "csv_output_file = out_directory / 'whisp_output_table_w_risk_IDN.csv'\n",
    "\n",
    "# Save the CSV file\n",
    "df_w_risk.to_csv(path_or_buf=csv_output_file, index=False)\n",
    "print(f\"Table with risk columns saved to: {csv_output_file}\")"
   ]
  },
  {
   "cell_type": "markdown",
   "id": "f92c1765",
   "metadata": {},
   "source": [
    "Export to GeoJSON (optional)"
   ]
  },
  {
   "cell_type": "code",
   "execution_count": null,
   "id": "5f8f64bd",
   "metadata": {},
   "outputs": [],
   "source": [
    "# Define the output file path for GeoJSON\n",
    "geojson_output_file = out_directory / 'whisp_output_geo_w_risk.geojson'\n",
    "\n",
    "# Save the GeoJSON file\n",
    "whisp.convert_df_to_geojson(df_w_risk, geojson_output_file)  # builds a geojson file containing Whisp columns. Uses the geometry column \"geo\" to create the spatial features.\n",
    "print(f\"GeoJSON file saved to: {geojson_output_file}\")"
   ]
  },
  {
   "cell_type": "code",
   "execution_count": null,
   "id": "6093cb11",
   "metadata": {},
   "outputs": [],
   "source": []
  },
  {
   "cell_type": "code",
   "execution_count": null,
   "id": "9e25c452",
   "metadata": {},
   "outputs": [],
   "source": []
  }
 ],
 "metadata": {
  "kernelspec": {
   "display_name": "Python 3",
   "language": "python",
   "name": "python3"
  },
  "language_info": {
   "codemirror_mode": {
    "name": "ipython",
    "version": 3
   },
   "file_extension": ".py",
   "mimetype": "text/x-python",
   "name": "python",
   "nbconvert_exporter": "python",
   "pygments_lexer": "ipython3",
   "version": "3.10.12"
  }
 },
 "nbformat": 4,
 "nbformat_minor": 5
}
