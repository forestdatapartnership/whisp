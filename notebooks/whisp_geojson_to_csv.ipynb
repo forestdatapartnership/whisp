{
 "cells": [
  {
   "cell_type": "markdown",
   "id": "250b53cc",
   "metadata": {},
   "source": [
    "### Whisp a feature collection"
   ]
  },
  {
   "cell_type": "markdown",
   "id": "0ed47318",
   "metadata": {},
   "source": [
    "Setup\n",
    "- NB use a virtual environment to avoid altering your python environment (https://docs.python.org/3/tutorial/venv.html)"
   ]
  },
  {
   "cell_type": "code",
   "execution_count": 2,
   "id": "38ac967d",
   "metadata": {},
   "outputs": [],
   "source": [
    "# Earth Engine and Common Libraries\n",
    "import ee\n",
    "from pathlib import Path\n",
    "\n",
    "# Authenticate and initialize Earth Engine\n",
    "try:\n",
    "    ee.Initialize()  # Try to use existing credentials first\n",
    "except Exception:\n",
    "    ee.Authenticate()\n",
    "    ee.Initialize()"
   ]
  },
  {
   "cell_type": "code",
   "execution_count": 8,
   "id": "4f86603f",
   "metadata": {},
   "outputs": [
    {
     "name": "stdout",
     "output_type": "stream",
     "text": [
      "Defaulting to user installation because normal site-packages is not writeable\n",
      "Requirement already satisfied: openforis-whisp in /home/sepal-user/.local/lib/python3.10/site-packages (0.1.0a8)\n",
      "Requirement already satisfied: country_converter<2.0.0,>=0.7 in /home/sepal-user/.local/lib/python3.10/site-packages (from openforis-whisp) (1.3)\n",
      "Requirement already satisfied: earthengine-api in /usr/local/lib/python3.10/dist-packages (from openforis-whisp) (1.1.5rc0)\n",
      "Requirement already satisfied: geemap in /usr/local/lib/python3.10/dist-packages (from openforis-whisp) (0.35.0)\n",
      "Requirement already satisfied: geojson<3.0.0,>=2.5.0 in /home/sepal-user/.local/lib/python3.10/site-packages (from openforis-whisp) (2.5.0)\n",
      "Requirement already satisfied: geopandas<2.0.0,>=1.0.1 in /usr/local/lib/python3.10/dist-packages (from openforis-whisp) (1.0.1)\n",
      "Requirement already satisfied: ipykernel<7.0.0,>=6.17.1 in /usr/local/lib/python3.10/dist-packages (from openforis-whisp) (6.29.5)\n",
      "Requirement already satisfied: numpy<3.0.0,>=1.21.0 in /usr/local/lib/python3.10/dist-packages (from openforis-whisp) (1.26.4)\n",
      "Requirement already satisfied: pandas<3.0.0,>=1.3.0 in /usr/local/lib/python3.10/dist-packages (from openforis-whisp) (2.2.2)\n",
      "Requirement already satisfied: pandera<1.0.0,>=0.22.1 in /home/sepal-user/.local/lib/python3.10/site-packages (from pandera[io]<1.0.0,>=0.22.1->openforis-whisp) (0.23.1)\n",
      "Requirement already satisfied: pydantic-core<3.0.0,>=2.14.0 in /usr/local/lib/python3.10/dist-packages (from openforis-whisp) (2.23.4)\n",
      "Requirement already satisfied: python-dotenv<2.0.0,>=1.0.1 in /home/sepal-user/.local/lib/python3.10/site-packages (from openforis-whisp) (1.1.0)\n",
      "Requirement already satisfied: rsa<5.0.0,>=4.2 in /home/sepal-user/.local/lib/python3.10/site-packages (from openforis-whisp) (4.9)\n",
      "Requirement already satisfied: shapely<3.0.0,>=2.0.2 in /usr/local/lib/python3.10/dist-packages (from openforis-whisp) (2.0.6)\n",
      "Requirement already satisfied: pyogrio>=0.7.2 in /usr/local/lib/python3.10/dist-packages (from geopandas<2.0.0,>=1.0.1->openforis-whisp) (0.10.0)\n",
      "Requirement already satisfied: packaging in /usr/local/lib/python3.10/dist-packages (from geopandas<2.0.0,>=1.0.1->openforis-whisp) (24.1)\n",
      "Requirement already satisfied: pyproj>=3.3.0 in /usr/local/lib/python3.10/dist-packages (from geopandas<2.0.0,>=1.0.1->openforis-whisp) (3.7.0)\n",
      "Requirement already satisfied: comm>=0.1.1 in /usr/local/lib/python3.10/dist-packages (from ipykernel<7.0.0,>=6.17.1->openforis-whisp) (0.2.2)\n",
      "Requirement already satisfied: debugpy>=1.6.5 in /usr/local/lib/python3.10/dist-packages (from ipykernel<7.0.0,>=6.17.1->openforis-whisp) (1.8.7)\n",
      "Requirement already satisfied: ipython>=7.23.1 in /usr/local/lib/python3.10/dist-packages (from ipykernel<7.0.0,>=6.17.1->openforis-whisp) (8.12.3)\n",
      "Requirement already satisfied: jupyter-client>=6.1.12 in /usr/local/lib/python3.10/dist-packages (from ipykernel<7.0.0,>=6.17.1->openforis-whisp) (7.4.9)\n",
      "Requirement already satisfied: jupyter-core!=5.0.*,>=4.12 in /usr/local/lib/python3.10/dist-packages (from ipykernel<7.0.0,>=6.17.1->openforis-whisp) (5.7.2)\n",
      "Requirement already satisfied: matplotlib-inline>=0.1 in /usr/local/lib/python3.10/dist-packages (from ipykernel<7.0.0,>=6.17.1->openforis-whisp) (0.1.7)\n",
      "Requirement already satisfied: nest-asyncio in /usr/local/lib/python3.10/dist-packages (from ipykernel<7.0.0,>=6.17.1->openforis-whisp) (1.6.0)\n",
      "Requirement already satisfied: psutil in /usr/local/lib/python3.10/dist-packages (from ipykernel<7.0.0,>=6.17.1->openforis-whisp) (5.9.8)\n",
      "Requirement already satisfied: pyzmq>=24 in /usr/local/lib/python3.10/dist-packages (from ipykernel<7.0.0,>=6.17.1->openforis-whisp) (24.0.1)\n",
      "Requirement already satisfied: tornado>=6.1 in /usr/local/lib/python3.10/dist-packages (from ipykernel<7.0.0,>=6.17.1->openforis-whisp) (6.4.1)\n",
      "Requirement already satisfied: traitlets>=5.4.0 in /usr/local/lib/python3.10/dist-packages (from ipykernel<7.0.0,>=6.17.1->openforis-whisp) (5.14.3)\n",
      "Requirement already satisfied: python-dateutil>=2.8.2 in /usr/local/lib/python3.10/dist-packages (from pandas<3.0.0,>=1.3.0->openforis-whisp) (2.9.0.post0)\n",
      "Requirement already satisfied: pytz>=2020.1 in /usr/local/lib/python3.10/dist-packages (from pandas<3.0.0,>=1.3.0->openforis-whisp) (2024.2)\n",
      "Requirement already satisfied: tzdata>=2022.7 in /usr/local/lib/python3.10/dist-packages (from pandas<3.0.0,>=1.3.0->openforis-whisp) (2024.1)\n",
      "Requirement already satisfied: pydantic in /usr/local/lib/python3.10/dist-packages (from pandera<1.0.0,>=0.22.1->pandera[io]<1.0.0,>=0.22.1->openforis-whisp) (2.9.2)\n",
      "Requirement already satisfied: typeguard in /home/sepal-user/.local/lib/python3.10/site-packages (from pandera<1.0.0,>=0.22.1->pandera[io]<1.0.0,>=0.22.1->openforis-whisp) (4.4.2)\n",
      "Requirement already satisfied: typing_inspect>=0.6.0 in /home/sepal-user/.local/lib/python3.10/site-packages (from pandera<1.0.0,>=0.22.1->pandera[io]<1.0.0,>=0.22.1->openforis-whisp) (0.9.0)\n",
      "Requirement already satisfied: pyyaml>=5.1 in /usr/local/lib/python3.10/dist-packages (from pandera[io]<1.0.0,>=0.22.1->openforis-whisp) (6.0.2)\n",
      "Requirement already satisfied: black in /home/sepal-user/.local/lib/python3.10/site-packages (from pandera[io]<1.0.0,>=0.22.1->openforis-whisp) (25.1.0)\n",
      "Requirement already satisfied: frictionless<=4.40.8 in /home/sepal-user/.local/lib/python3.10/site-packages (from pandera[io]<1.0.0,>=0.22.1->openforis-whisp) (4.40.8)\n",
      "Requirement already satisfied: typing-extensions!=4.7.0,>=4.6.0 in /usr/local/lib/python3.10/dist-packages (from pydantic-core<3.0.0,>=2.14.0->openforis-whisp) (4.12.2)\n",
      "Requirement already satisfied: pyasn1>=0.1.3 in /usr/local/lib/python3.10/dist-packages (from rsa<5.0.0,>=4.2->openforis-whisp) (0.6.1)\n",
      "Requirement already satisfied: google-cloud-storage in /usr/local/lib/python3.10/dist-packages (from earthengine-api->openforis-whisp) (2.14.0)\n",
      "Requirement already satisfied: google-api-python-client>=1.12.1 in /usr/local/lib/python3.10/dist-packages (from earthengine-api->openforis-whisp) (1.12.8)\n",
      "Requirement already satisfied: google-auth>=1.4.1 in /usr/local/lib/python3.10/dist-packages (from earthengine-api->openforis-whisp) (2.35.0)\n",
      "Requirement already satisfied: google-auth-httplib2>=0.0.3 in /usr/local/lib/python3.10/dist-packages (from earthengine-api->openforis-whisp) (0.2.0)\n",
      "Requirement already satisfied: httplib2<1dev,>=0.9.2 in /usr/lib/python3/dist-packages (from earthengine-api->openforis-whisp) (0.20.2)\n",
      "Requirement already satisfied: requests in /usr/local/lib/python3.10/dist-packages (from earthengine-api->openforis-whisp) (2.32.3)\n",
      "Requirement already satisfied: bqplot in /usr/local/lib/python3.10/dist-packages (from geemap->openforis-whisp) (0.12.43)\n",
      "Requirement already satisfied: colour in /usr/local/lib/python3.10/dist-packages (from geemap->openforis-whisp) (0.1.5)\n",
      "Requirement already satisfied: eerepr>=0.0.4 in /usr/local/lib/python3.10/dist-packages (from geemap->openforis-whisp) (0.0.4)\n",
      "Requirement already satisfied: folium>=0.17.0 in /usr/local/lib/python3.10/dist-packages (from geemap->openforis-whisp) (0.18.0)\n",
      "Requirement already satisfied: geocoder in /usr/local/lib/python3.10/dist-packages (from geemap->openforis-whisp) (1.38.1)\n",
      "Requirement already satisfied: ipyevents in /usr/local/lib/python3.10/dist-packages (from geemap->openforis-whisp) (2.0.2)\n",
      "Requirement already satisfied: ipyfilechooser>=0.6.0 in /usr/local/lib/python3.10/dist-packages (from geemap->openforis-whisp) (0.6.0)\n",
      "Requirement already satisfied: ipyleaflet>=0.19.2 in /usr/local/lib/python3.10/dist-packages (from geemap->openforis-whisp) (0.19.2)\n",
      "Requirement already satisfied: ipytree in /usr/local/lib/python3.10/dist-packages (from geemap->openforis-whisp) (0.2.2)\n",
      "Requirement already satisfied: matplotlib in /usr/local/lib/python3.10/dist-packages (from geemap->openforis-whisp) (3.9.2)\n",
      "Requirement already satisfied: plotly in /usr/local/lib/python3.10/dist-packages (from geemap->openforis-whisp) (5.24.1)\n",
      "Requirement already satisfied: pyperclip in /usr/local/lib/python3.10/dist-packages (from geemap->openforis-whisp) (1.9.0)\n",
      "Requirement already satisfied: pyshp>=2.3.1 in /usr/local/lib/python3.10/dist-packages (from geemap->openforis-whisp) (2.3.1)\n",
      "Requirement already satisfied: python-box in /usr/local/lib/python3.10/dist-packages (from geemap->openforis-whisp) (7.2.0)\n",
      "Requirement already satisfied: scooby in /usr/local/lib/python3.10/dist-packages (from geemap->openforis-whisp) (0.10.0)\n",
      "Requirement already satisfied: branca>=0.6.0 in /usr/local/lib/python3.10/dist-packages (from folium>=0.17.0->geemap->openforis-whisp) (0.8.0)\n",
      "Requirement already satisfied: jinja2>=2.9 in /usr/local/lib/python3.10/dist-packages (from folium>=0.17.0->geemap->openforis-whisp) (3.1.4)\n",
      "Requirement already satisfied: xyzservices in /usr/local/lib/python3.10/dist-packages (from folium>=0.17.0->geemap->openforis-whisp) (2024.9.0)\n",
      "Requirement already satisfied: petl>=1.6 in /home/sepal-user/.local/lib/python3.10/site-packages (from frictionless<=4.40.8->pandera[io]<1.0.0,>=0.22.1->openforis-whisp) (1.7.15)\n",
      "Requirement already satisfied: marko>=1.0 in /home/sepal-user/.local/lib/python3.10/site-packages (from frictionless<=4.40.8->pandera[io]<1.0.0,>=0.22.1->openforis-whisp) (2.1.2)\n",
      "Requirement already satisfied: isodate>=0.6 in /home/sepal-user/.local/lib/python3.10/site-packages (from frictionless<=4.40.8->pandera[io]<1.0.0,>=0.22.1->openforis-whisp) (0.7.2)\n",
      "Requirement already satisfied: rfc3986>=1.4 in /home/sepal-user/.local/lib/python3.10/site-packages (from frictionless<=4.40.8->pandera[io]<1.0.0,>=0.22.1->openforis-whisp) (2.0.0)\n",
      "Requirement already satisfied: chardet>=3.0 in /usr/lib/python3/dist-packages (from frictionless<=4.40.8->pandera[io]<1.0.0,>=0.22.1->openforis-whisp) (4.0.0)\n",
      "Requirement already satisfied: jsonschema>=2.5 in /usr/local/lib/python3.10/dist-packages (from frictionless<=4.40.8->pandera[io]<1.0.0,>=0.22.1->openforis-whisp) (4.23.0)\n",
      "Requirement already satisfied: simpleeval>=0.9.11 in /home/sepal-user/.local/lib/python3.10/site-packages (from frictionless<=4.40.8->pandera[io]<1.0.0,>=0.22.1->openforis-whisp) (1.0.3)\n",
      "Requirement already satisfied: stringcase>=1.2 in /home/sepal-user/.local/lib/python3.10/site-packages (from frictionless<=4.40.8->pandera[io]<1.0.0,>=0.22.1->openforis-whisp) (1.2.0)\n",
      "Requirement already satisfied: typer>=0.5 in /home/sepal-user/.local/lib/python3.10/site-packages (from typer[all]>=0.5->frictionless<=4.40.8->pandera[io]<1.0.0,>=0.22.1->openforis-whisp) (0.15.2)\n",
      "Requirement already satisfied: validators>=0.18 in /home/sepal-user/.local/lib/python3.10/site-packages (from frictionless<=4.40.8->pandera[io]<1.0.0,>=0.22.1->openforis-whisp) (0.34.0)\n",
      "Requirement already satisfied: python-slugify>=1.2 in /home/sepal-user/.local/lib/python3.10/site-packages (from frictionless<=4.40.8->pandera[io]<1.0.0,>=0.22.1->openforis-whisp) (8.0.4)\n",
      "Requirement already satisfied: tabulate>=0.8.10 in /usr/local/lib/python3.10/dist-packages (from frictionless<=4.40.8->pandera[io]<1.0.0,>=0.22.1->openforis-whisp) (0.9.0)\n",
      "Requirement already satisfied: google-api-core<2dev,>=1.21.0 in /usr/local/lib/python3.10/dist-packages (from google-api-python-client>=1.12.1->earthengine-api->openforis-whisp) (1.34.1)\n",
      "Requirement already satisfied: six<2dev,>=1.13.0 in /usr/lib/python3/dist-packages (from google-api-python-client>=1.12.1->earthengine-api->openforis-whisp) (1.16.0)\n",
      "Requirement already satisfied: uritemplate<4dev,>=3.0.0 in /usr/local/lib/python3.10/dist-packages (from google-api-python-client>=1.12.1->earthengine-api->openforis-whisp) (3.0.1)\n",
      "Requirement already satisfied: cachetools<6.0,>=2.0.0 in /usr/local/lib/python3.10/dist-packages (from google-auth>=1.4.1->earthengine-api->openforis-whisp) (5.5.0)\n",
      "Requirement already satisfied: pyasn1-modules>=0.2.1 in /usr/local/lib/python3.10/dist-packages (from google-auth>=1.4.1->earthengine-api->openforis-whisp) (0.4.1)\n",
      "Requirement already satisfied: pyparsing!=3.0.0,!=3.0.1,!=3.0.2,!=3.0.3,<4,>=2.4.2 in /usr/lib/python3/dist-packages (from httplib2<1dev,>=0.9.2->earthengine-api->openforis-whisp) (2.4.7)\n",
      "Requirement already satisfied: ipywidgets in /usr/local/lib/python3.10/dist-packages (from ipyfilechooser>=0.6.0->geemap->openforis-whisp) (8.1.5)\n",
      "Requirement already satisfied: jupyter-leaflet<0.20,>=0.19 in /usr/local/lib/python3.10/dist-packages (from ipyleaflet>=0.19.2->geemap->openforis-whisp) (0.19.2)\n",
      "Requirement already satisfied: traittypes<3,>=0.2.1 in /usr/local/lib/python3.10/dist-packages (from ipyleaflet>=0.19.2->geemap->openforis-whisp) (0.2.1)\n",
      "Requirement already satisfied: backcall in /usr/local/lib/python3.10/dist-packages (from ipython>=7.23.1->ipykernel<7.0.0,>=6.17.1->openforis-whisp) (0.2.0)\n",
      "Requirement already satisfied: decorator in /usr/local/lib/python3.10/dist-packages (from ipython>=7.23.1->ipykernel<7.0.0,>=6.17.1->openforis-whisp) (5.1.1)\n",
      "Requirement already satisfied: jedi>=0.16 in /usr/local/lib/python3.10/dist-packages (from ipython>=7.23.1->ipykernel<7.0.0,>=6.17.1->openforis-whisp) (0.19.1)\n",
      "Requirement already satisfied: pickleshare in /usr/local/lib/python3.10/dist-packages (from ipython>=7.23.1->ipykernel<7.0.0,>=6.17.1->openforis-whisp) (0.7.5)\n",
      "Requirement already satisfied: prompt-toolkit!=3.0.37,<3.1.0,>=3.0.30 in /usr/local/lib/python3.10/dist-packages (from ipython>=7.23.1->ipykernel<7.0.0,>=6.17.1->openforis-whisp) (3.0.48)\n",
      "Requirement already satisfied: pygments>=2.4.0 in /usr/local/lib/python3.10/dist-packages (from ipython>=7.23.1->ipykernel<7.0.0,>=6.17.1->openforis-whisp) (2.18.0)\n",
      "Requirement already satisfied: stack-data in /usr/local/lib/python3.10/dist-packages (from ipython>=7.23.1->ipykernel<7.0.0,>=6.17.1->openforis-whisp) (0.6.3)\n",
      "Requirement already satisfied: pexpect>4.3 in /usr/local/lib/python3.10/dist-packages (from ipython>=7.23.1->ipykernel<7.0.0,>=6.17.1->openforis-whisp) (4.9.0)\n",
      "Requirement already satisfied: entrypoints in /usr/local/lib/python3.10/dist-packages (from jupyter-client>=6.1.12->ipykernel<7.0.0,>=6.17.1->openforis-whisp) (0.4)\n",
      "Requirement already satisfied: platformdirs>=2.5 in /usr/lib/python3/dist-packages (from jupyter-core!=5.0.*,>=4.12->ipykernel<7.0.0,>=6.17.1->openforis-whisp) (2.5.1)\n",
      "Requirement already satisfied: certifi in /usr/local/lib/python3.10/dist-packages (from pyogrio>=0.7.2->geopandas<2.0.0,>=1.0.1->openforis-whisp) (2024.8.30)\n",
      "Requirement already satisfied: charset-normalizer<4,>=2 in /usr/local/lib/python3.10/dist-packages (from requests->earthengine-api->openforis-whisp) (3.4.0)\n",
      "Requirement already satisfied: idna<4,>=2.5 in /usr/local/lib/python3.10/dist-packages (from requests->earthengine-api->openforis-whisp) (3.10)\n",
      "Requirement already satisfied: urllib3<3,>=1.21.1 in /usr/local/lib/python3.10/dist-packages (from requests->earthengine-api->openforis-whisp) (2.2.3)\n",
      "Requirement already satisfied: mypy-extensions>=0.3.0 in /home/sepal-user/.local/lib/python3.10/site-packages (from typing_inspect>=0.6.0->pandera<1.0.0,>=0.22.1->pandera[io]<1.0.0,>=0.22.1->openforis-whisp) (1.0.0)\n",
      "Requirement already satisfied: click>=8.0.0 in /usr/local/lib/python3.10/dist-packages (from black->pandera[io]<1.0.0,>=0.22.1->openforis-whisp) (8.1.7)\n",
      "Requirement already satisfied: pathspec>=0.9.0 in /home/sepal-user/.local/lib/python3.10/site-packages (from black->pandera[io]<1.0.0,>=0.22.1->openforis-whisp) (0.12.1)\n",
      "Requirement already satisfied: tomli>=1.1.0 in /usr/local/lib/python3.10/dist-packages (from black->pandera[io]<1.0.0,>=0.22.1->openforis-whisp) (2.0.2)\n",
      "Requirement already satisfied: future in /usr/local/lib/python3.10/dist-packages (from geocoder->geemap->openforis-whisp) (1.0.0)\n",
      "Requirement already satisfied: ratelim in /usr/local/lib/python3.10/dist-packages (from geocoder->geemap->openforis-whisp) (0.1.6)\n",
      "Requirement already satisfied: google-cloud-core<3.0dev,>=2.3.0 in /usr/local/lib/python3.10/dist-packages (from google-cloud-storage->earthengine-api->openforis-whisp) (2.4.1)\n",
      "Requirement already satisfied: google-resumable-media>=2.6.0 in /usr/local/lib/python3.10/dist-packages (from google-cloud-storage->earthengine-api->openforis-whisp) (2.7.2)\n",
      "Requirement already satisfied: google-crc32c<2.0dev,>=1.0 in /usr/local/lib/python3.10/dist-packages (from google-cloud-storage->earthengine-api->openforis-whisp) (1.6.0)\n",
      "Requirement already satisfied: contourpy>=1.0.1 in /usr/local/lib/python3.10/dist-packages (from matplotlib->geemap->openforis-whisp) (1.3.0)\n",
      "Requirement already satisfied: cycler>=0.10 in /usr/local/lib/python3.10/dist-packages (from matplotlib->geemap->openforis-whisp) (0.12.1)\n",
      "Requirement already satisfied: fonttools>=4.22.0 in /usr/local/lib/python3.10/dist-packages (from matplotlib->geemap->openforis-whisp) (4.54.1)\n",
      "Requirement already satisfied: kiwisolver>=1.3.1 in /usr/local/lib/python3.10/dist-packages (from matplotlib->geemap->openforis-whisp) (1.4.7)\n",
      "Requirement already satisfied: pillow>=8 in /usr/local/lib/python3.10/dist-packages (from matplotlib->geemap->openforis-whisp) (11.0.0)\n",
      "Requirement already satisfied: tenacity>=6.2.0 in /usr/local/lib/python3.10/dist-packages (from plotly->geemap->openforis-whisp) (9.0.0)\n",
      "Requirement already satisfied: annotated-types>=0.6.0 in /usr/local/lib/python3.10/dist-packages (from pydantic->pandera<1.0.0,>=0.22.1->pandera[io]<1.0.0,>=0.22.1->openforis-whisp) (0.7.0)\n",
      "Requirement already satisfied: googleapis-common-protos<2.0dev,>=1.56.2 in /usr/local/lib/python3.10/dist-packages (from google-api-core<2dev,>=1.21.0->google-api-python-client>=1.12.1->earthengine-api->openforis-whisp) (1.65.0)\n",
      "Requirement already satisfied: protobuf!=3.20.0,!=3.20.1,!=4.21.0,!=4.21.1,!=4.21.2,!=4.21.3,!=4.21.4,!=4.21.5,<4.0.0dev,>=3.19.5 in /usr/local/lib/python3.10/dist-packages (from google-api-core<2dev,>=1.21.0->google-api-python-client>=1.12.1->earthengine-api->openforis-whisp) (3.20.3)\n",
      "Requirement already satisfied: widgetsnbextension~=4.0.12 in /usr/local/lib/python3.10/dist-packages (from ipywidgets->ipyfilechooser>=0.6.0->geemap->openforis-whisp) (4.0.13)\n",
      "Requirement already satisfied: jupyterlab-widgets~=3.0.12 in /usr/local/lib/python3.10/dist-packages (from ipywidgets->ipyfilechooser>=0.6.0->geemap->openforis-whisp) (3.0.13)\n",
      "Requirement already satisfied: parso<0.9.0,>=0.8.3 in /usr/local/lib/python3.10/dist-packages (from jedi>=0.16->ipython>=7.23.1->ipykernel<7.0.0,>=6.17.1->openforis-whisp) (0.8.4)\n",
      "Requirement already satisfied: MarkupSafe>=2.0 in /usr/local/lib/python3.10/dist-packages (from jinja2>=2.9->folium>=0.17.0->geemap->openforis-whisp) (3.0.1)\n",
      "Requirement already satisfied: attrs>=22.2.0 in /usr/local/lib/python3.10/dist-packages (from jsonschema>=2.5->frictionless<=4.40.8->pandera[io]<1.0.0,>=0.22.1->openforis-whisp) (24.2.0)\n",
      "Requirement already satisfied: jsonschema-specifications>=2023.03.6 in /usr/local/lib/python3.10/dist-packages (from jsonschema>=2.5->frictionless<=4.40.8->pandera[io]<1.0.0,>=0.22.1->openforis-whisp) (2024.10.1)\n",
      "Requirement already satisfied: referencing>=0.28.4 in /usr/local/lib/python3.10/dist-packages (from jsonschema>=2.5->frictionless<=4.40.8->pandera[io]<1.0.0,>=0.22.1->openforis-whisp) (0.35.1)\n",
      "Requirement already satisfied: rpds-py>=0.7.1 in /usr/local/lib/python3.10/dist-packages (from jsonschema>=2.5->frictionless<=4.40.8->pandera[io]<1.0.0,>=0.22.1->openforis-whisp) (0.20.0)\n",
      "Requirement already satisfied: ptyprocess>=0.5 in /usr/local/lib/python3.10/dist-packages (from pexpect>4.3->ipython>=7.23.1->ipykernel<7.0.0,>=6.17.1->openforis-whisp) (0.7.0)\n",
      "Requirement already satisfied: wcwidth in /usr/local/lib/python3.10/dist-packages (from prompt-toolkit!=3.0.37,<3.1.0,>=3.0.30->ipython>=7.23.1->ipykernel<7.0.0,>=6.17.1->openforis-whisp) (0.2.13)\n",
      "Requirement already satisfied: text-unidecode>=1.3 in /home/sepal-user/.local/lib/python3.10/site-packages (from python-slugify>=1.2->frictionless<=4.40.8->pandera[io]<1.0.0,>=0.22.1->openforis-whisp) (1.3)\n",
      "Requirement already satisfied: shellingham>=1.3.0 in /home/sepal-user/.local/lib/python3.10/site-packages (from typer>=0.5->typer[all]>=0.5->frictionless<=4.40.8->pandera[io]<1.0.0,>=0.22.1->openforis-whisp) (1.5.4)\n",
      "Requirement already satisfied: rich>=10.11.0 in /usr/local/lib/python3.10/dist-packages (from typer>=0.5->typer[all]>=0.5->frictionless<=4.40.8->pandera[io]<1.0.0,>=0.22.1->openforis-whisp) (13.9.2)\n",
      "\u001b[33mWARNING: typer 0.15.2 does not provide the extra 'all'\u001b[0m\u001b[33m\n",
      "\u001b[0mRequirement already satisfied: executing>=1.2.0 in /usr/local/lib/python3.10/dist-packages (from stack-data->ipython>=7.23.1->ipykernel<7.0.0,>=6.17.1->openforis-whisp) (2.1.0)\n",
      "Requirement already satisfied: asttokens>=2.1.0 in /usr/local/lib/python3.10/dist-packages (from stack-data->ipython>=7.23.1->ipykernel<7.0.0,>=6.17.1->openforis-whisp) (2.4.1)\n",
      "Requirement already satisfied: pure-eval in /usr/local/lib/python3.10/dist-packages (from stack-data->ipython>=7.23.1->ipykernel<7.0.0,>=6.17.1->openforis-whisp) (0.2.3)\n",
      "Requirement already satisfied: markdown-it-py>=2.2.0 in /usr/local/lib/python3.10/dist-packages (from rich>=10.11.0->typer>=0.5->typer[all]>=0.5->frictionless<=4.40.8->pandera[io]<1.0.0,>=0.22.1->openforis-whisp) (3.0.0)\n",
      "Requirement already satisfied: mdurl~=0.1 in /usr/local/lib/python3.10/dist-packages (from markdown-it-py>=2.2.0->rich>=10.11.0->typer>=0.5->typer[all]>=0.5->frictionless<=4.40.8->pandera[io]<1.0.0,>=0.22.1->openforis-whisp) (0.1.2)\n",
      "\n",
      "\u001b[1m[\u001b[0m\u001b[34;49mnotice\u001b[0m\u001b[1;39;49m]\u001b[0m\u001b[39;49m A new release of pip is available: \u001b[0m\u001b[31;49m24.2\u001b[0m\u001b[39;49m -> \u001b[0m\u001b[32;49m25.0.1\u001b[0m\n",
      "\u001b[1m[\u001b[0m\u001b[34;49mnotice\u001b[0m\u001b[1;39;49m]\u001b[0m\u001b[39;49m To update, run: \u001b[0m\u001b[32;49mpip install --upgrade pip\u001b[0m\n"
     ]
    }
   ],
   "source": [
    "# Install openforis-whisp (if not already installed)\n",
    "!pip install --pre openforis-whisp"
   ]
  },
  {
   "cell_type": "code",
   "execution_count": 3,
   "id": "00e60218",
   "metadata": {},
   "outputs": [
    {
     "name": "stderr",
     "output_type": "stream",
     "text": [
      "2025-04-09 10:25:48,753 - INFO - NumExpr defaulting to 2 threads.\n"
     ]
    }
   ],
   "source": [
    "import openforis_whisp as whisp"
   ]
  },
  {
   "cell_type": "markdown",
   "id": "a66d9f78",
   "metadata": {},
   "source": [
    "Get a feature collection"
   ]
  },
  {
   "cell_type": "code",
   "execution_count": 4,
   "id": "1b7d644b",
   "metadata": {},
   "outputs": [
    {
     "name": "stdout",
     "output_type": "stream",
     "text": [
      "../tests/fixtures/contour_AAC_ASI-Gabon.geojson\n"
     ]
    }
   ],
   "source": [
    "#GEOJSON_EXAMPLE_FILEPATH = whisp.get_example_data_path(\"geojson_example.geojson\")\n",
    "GEOJSON_EXAMPLE_FILEPATH = whisp.get_example_data_path(\"foret_agrimey.geojson\")\n",
    "GEOJSON_EXAMPLE_FILEPATH = whisp.get_example_data_path(\"contour_AAC_ASI-Gabon.geojson\")\n",
    "\n",
    "\n",
    "\n",
    "print (GEOJSON_EXAMPLE_FILEPATH)"
   ]
  },
  {
   "cell_type": "markdown",
   "id": "4fce13c5",
   "metadata": {},
   "source": [
    "Whisp it"
   ]
  },
  {
   "cell_type": "code",
   "execution_count": 5,
   "id": "c56f5fc1",
   "metadata": {},
   "outputs": [
    {
     "name": "stdout",
     "output_type": "stream",
     "text": [
      "Reading GeoJSON file from: /home/sepal-user/whisp/tests/fixtures/contour_AAC_ASI-Gabon.geojson\n",
      "['Area', 'European_Primary_Forest', 'GLC_FCS30D_TC_2022', 'GLC_FCS30D_crop_2022', 'IFL_2020', 'IIASA_planted_plantation', 'Cocoa_bnetd', 'Oil_palm_Descals', 'ESA_fire_before_2020', 'ESA_fire_2001', 'ESA_fire_2002', 'ESA_fire_2003', 'ESA_fire_2004', 'ESA_fire_2005', 'ESA_fire_2006', 'ESA_fire_2007', 'ESA_fire_2008', 'ESA_fire_2009', 'ESA_fire_2010', 'ESA_fire_2011', 'ESA_fire_2012', 'ESA_fire_2013', 'ESA_fire_2014', 'ESA_fire_2015', 'ESA_fire_2016', 'ESA_fire_2017', 'ESA_fire_2018', 'ESA_fire_2019', 'ESA_fire_2020', 'ESA_TC_2020', 'ESRI_2023_TC', 'ESRI_2023_crop', 'Cocoa_ETH', 'Cocoa_2023_FDaP', 'Cocoa_FDaP', 'Forest_FDaP', 'Oil_palm_2023_FDaP', 'Oil_palm_FDaP', 'Rubber_2023_FDaP', 'Rubber_FDaP', 'GFT_naturally_regenerating', 'GFT_planted_plantation', 'GFT_primary', 'GFC_TC_2020', 'GFC_loss_after_2020', 'GFC_loss_before_2020', 'GFC_loss_year_2001', 'GFC_loss_year_2002', 'GFC_loss_year_2003', 'GFC_loss_year_2004', 'GFC_loss_year_2005', 'GFC_loss_year_2006', 'GFC_loss_year_2007', 'GFC_loss_year_2008', 'GFC_loss_year_2009', 'GFC_loss_year_2010', 'GFC_loss_year_2011', 'GFC_loss_year_2012', 'GFC_loss_year_2013', 'GFC_loss_year_2014', 'GFC_loss_year_2015', 'GFC_loss_year_2016', 'GFC_loss_year_2017', 'GFC_loss_year_2018', 'GFC_loss_year_2019', 'GFC_loss_year_2020', 'GFC_loss_year_2021', 'GFC_loss_year_2022', 'GFC_loss_year_2023', 'GLAD_Primary', 'JAXA_FNF_2020', 'EUFO_2020', 'TMF_plant', 'TMF_undist', 'GFW_logging', 'MODIS_fire_after_2020', 'MODIS_fire_before_2020', 'MODIS_fire_2000', 'MODIS_fire_2001', 'MODIS_fire_2002', 'MODIS_fire_2003', 'MODIS_fire_2004', 'MODIS_fire_2005', 'MODIS_fire_2006', 'MODIS_fire_2007', 'MODIS_fire_2008', 'MODIS_fire_2009', 'MODIS_fire_2010', 'MODIS_fire_2011', 'MODIS_fire_2012', 'MODIS_fire_2013', 'MODIS_fire_2014', 'MODIS_fire_2015', 'MODIS_fire_2016', 'MODIS_fire_2017', 'MODIS_fire_2018', 'MODIS_fire_2019', 'MODIS_fire_2020', 'MODIS_fire_2021', 'MODIS_fire_2022', 'MODIS_fire_2023', 'MODIS_fire_2024', 'MODIS_fire_2025', 'RADD_after_2020', 'RADD_before_2020', 'RADD_year_2019', 'RADD_year_2020', 'RADD_year_2021', 'RADD_year_2022', 'RADD_year_2023', 'RADD_year_2024', 'RADD_year_2025', 'Rubber_RBGE', 'Soy_Song_2020', 'TMF_def_after_2020', 'TMF_def_before_2020', 'TMF_def_2000', 'TMF_def_2001', 'TMF_def_2002', 'TMF_def_2003', 'TMF_def_2004', 'TMF_def_2005', 'TMF_def_2006', 'TMF_def_2007', 'TMF_def_2008', 'TMF_def_2009', 'TMF_def_2010', 'TMF_def_2011', 'TMF_def_2012', 'TMF_def_2013', 'TMF_def_2014', 'TMF_def_2015', 'TMF_def_2016', 'TMF_def_2017', 'TMF_def_2018', 'TMF_def_2019', 'TMF_def_2020', 'TMF_def_2021', 'TMF_def_2022', 'TMF_def_2023', 'TMF_deg_after_2020', 'TMF_deg_before_2020', 'TMF_deg_2000', 'TMF_deg_2001', 'TMF_deg_2002', 'TMF_deg_2003', 'TMF_deg_2004', 'TMF_deg_2005', 'TMF_deg_2006', 'TMF_deg_2007', 'TMF_deg_2008', 'TMF_deg_2009', 'TMF_deg_2010', 'TMF_deg_2011', 'TMF_deg_2012', 'TMF_deg_2013', 'TMF_deg_2014', 'TMF_deg_2015', 'TMF_deg_2016', 'TMF_deg_2017', 'TMF_deg_2018', 'TMF_deg_2019', 'TMF_deg_2020', 'TMF_deg_2021', 'TMF_deg_2022', 'TMF_deg_2023', 'TMF_regrowth_2023']\n",
      "File /home/sepal-user/whisp/src/openforis_whisp/parameters/lookup_gee_datasets.csv changed, updating schema...\n",
      "File /home/sepal-user/whisp/src/openforis_whisp/parameters/lookup_context_and_metadata.csv changed, updating schema...\n",
      "Creating or updating schema based on changed files...\n",
      "[reformat.py | log_missing_columns() | l.312] INFO: All columns from dataframe found in the schema.\n",
      "[reformat.py | log_missing_columns() | l.316] WARNING: The following columns in the schema did not match any columns from the results dataframe: \n",
      "external_id, DIST_after_2020\n"
     ]
    }
   ],
   "source": [
    "df_formatted_stats = whisp.whisp_formatted_stats_geojson_to_df(GEOJSON_EXAMPLE_FILEPATH)"
   ]
  },
  {
   "cell_type": "markdown",
   "id": "c24ce34d",
   "metadata": {},
   "source": [
    "Display table"
   ]
  },
  {
   "cell_type": "code",
   "execution_count": 6,
   "id": "65ad5bf4",
   "metadata": {},
   "outputs": [
    {
     "data": {
      "text/html": [
       "<div>\n",
       "<style scoped>\n",
       "    .dataframe tbody tr th:only-of-type {\n",
       "        vertical-align: middle;\n",
       "    }\n",
       "\n",
       "    .dataframe tbody tr th {\n",
       "        vertical-align: top;\n",
       "    }\n",
       "\n",
       "    .dataframe thead th {\n",
       "        text-align: right;\n",
       "    }\n",
       "</style>\n",
       "<table border=\"1\" class=\"dataframe\">\n",
       "  <thead>\n",
       "    <tr style=\"text-align: right;\">\n",
       "      <th></th>\n",
       "      <th>plotId</th>\n",
       "      <th>external_id</th>\n",
       "      <th>Area</th>\n",
       "      <th>Geometry_type</th>\n",
       "      <th>Country</th>\n",
       "      <th>ProducerCountry</th>\n",
       "      <th>Admin_Level_1</th>\n",
       "      <th>Centroid_lon</th>\n",
       "      <th>Centroid_lat</th>\n",
       "      <th>Unit</th>\n",
       "      <th>...</th>\n",
       "      <th>TMF_regrowth_2023</th>\n",
       "      <th>ESRI_2023_TC</th>\n",
       "      <th>GLC_FCS30D_TC_2022</th>\n",
       "      <th>Oil_palm_2023_FDaP</th>\n",
       "      <th>Rubber_2023_FDaP</th>\n",
       "      <th>Cocoa_2023_FDaP</th>\n",
       "      <th>ESRI_2023_crop</th>\n",
       "      <th>GLC_FCS30D_crop_2022</th>\n",
       "      <th>GFW_logging</th>\n",
       "      <th>geo</th>\n",
       "    </tr>\n",
       "  </thead>\n",
       "  <tbody>\n",
       "    <tr>\n",
       "      <th>0</th>\n",
       "      <td>1</td>\n",
       "      <td>NaN</td>\n",
       "      <td>9043.37207</td>\n",
       "      <td>Polygon</td>\n",
       "      <td>GAB</td>\n",
       "      <td>GA</td>\n",
       "      <td>Ngounié</td>\n",
       "      <td>10.89905</td>\n",
       "      <td>-1.024023</td>\n",
       "      <td>ha</td>\n",
       "      <td>...</td>\n",
       "      <td>0.715</td>\n",
       "      <td>9039.518555</td>\n",
       "      <td>8500.275391</td>\n",
       "      <td>0.0</td>\n",
       "      <td>0.0</td>\n",
       "      <td>0.0</td>\n",
       "      <td>0.0</td>\n",
       "      <td>0.894</td>\n",
       "      <td>0.0</td>\n",
       "      <td>{'type': 'Polygon', 'coordinates': [[[10.86284...</td>\n",
       "    </tr>\n",
       "  </tbody>\n",
       "</table>\n",
       "<p>1 rows × 179 columns</p>\n",
       "</div>"
      ],
      "text/plain": [
       "  plotId  external_id        Area Geometry_type Country ProducerCountry  \\\n",
       "0      1          NaN  9043.37207       Polygon     GAB              GA   \n",
       "\n",
       "  Admin_Level_1  Centroid_lon  Centroid_lat Unit  ...  TMF_regrowth_2023  \\\n",
       "0       Ngounié      10.89905     -1.024023   ha  ...              0.715   \n",
       "\n",
       "   ESRI_2023_TC  GLC_FCS30D_TC_2022  Oil_palm_2023_FDaP  Rubber_2023_FDaP  \\\n",
       "0   9039.518555         8500.275391                 0.0               0.0   \n",
       "\n",
       "   Cocoa_2023_FDaP  ESRI_2023_crop  GLC_FCS30D_crop_2022  GFW_logging  \\\n",
       "0              0.0             0.0                 0.894          0.0   \n",
       "\n",
       "                                                 geo  \n",
       "0  {'type': 'Polygon', 'coordinates': [[[10.86284...  \n",
       "\n",
       "[1 rows x 179 columns]"
      ]
     },
     "execution_count": 6,
     "metadata": {},
     "output_type": "execute_result"
    }
   ],
   "source": [
    "df_formatted_stats"
   ]
  },
  {
   "cell_type": "code",
   "execution_count": 7,
   "id": "da398c62-7372-426e-9ff4-25d9f72afe57",
   "metadata": {},
   "outputs": [
    {
     "name": "stdout",
     "output_type": "stream",
     "text": [
      "Table with risk columns saved to: /home/sepal-user/module_results/whisp/whisp_output_table_stats.csv\n"
     ]
    }
   ],
   "source": [
    "# Define the output folder\n",
    "out_directory = Path.home() / 'module_results/whisp'\n",
    "\n",
    "# Define the output file path for CSV\n",
    "csv_output_file = out_directory / 'whisp_output_table_stats.csv'\n",
    "\n",
    "# Save the CSV file\n",
    "df_formatted_stats.to_csv(path_or_buf=csv_output_file, index=False)\n",
    "print(f\"Table with risk columns saved to: {csv_output_file}\")"
   ]
  },
  {
   "cell_type": "markdown",
   "id": "5c2ecbf7-d86f-425c-9c93-80ce21f3dff2",
   "metadata": {},
   "source": [
    "Calculate risk category"
   ]
  },
  {
   "cell_type": "code",
   "execution_count": 8,
   "id": "f4cd1b5c-41ac-4d3c-af26-a47db3d48af8",
   "metadata": {},
   "outputs": [],
   "source": [
    "# add risk columns to end of dataframe\n",
    "df_w_risk = whisp.whisp_risk(df=df_formatted_stats)"
   ]
  },
  {
   "cell_type": "markdown",
   "id": "5a15577b-44bb-4792-98ef-95fd6bc1aabb",
   "metadata": {},
   "source": [
    "Display table with risk columns"
   ]
  },
  {
   "cell_type": "code",
   "execution_count": 9,
   "id": "0c62b10e-7484-47cd-9f73-40f612be5407",
   "metadata": {},
   "outputs": [
    {
     "data": {
      "text/html": [
       "<div>\n",
       "<style scoped>\n",
       "    .dataframe tbody tr th:only-of-type {\n",
       "        vertical-align: middle;\n",
       "    }\n",
       "\n",
       "    .dataframe tbody tr th {\n",
       "        vertical-align: top;\n",
       "    }\n",
       "\n",
       "    .dataframe thead th {\n",
       "        text-align: right;\n",
       "    }\n",
       "</style>\n",
       "<table border=\"1\" class=\"dataframe\">\n",
       "  <thead>\n",
       "    <tr style=\"text-align: right;\">\n",
       "      <th></th>\n",
       "      <th>plotId</th>\n",
       "      <th>external_id</th>\n",
       "      <th>Area</th>\n",
       "      <th>Geometry_type</th>\n",
       "      <th>Country</th>\n",
       "      <th>ProducerCountry</th>\n",
       "      <th>Admin_Level_1</th>\n",
       "      <th>Centroid_lon</th>\n",
       "      <th>Centroid_lat</th>\n",
       "      <th>Unit</th>\n",
       "      <th>...</th>\n",
       "      <th>Ind_05_primary_2020</th>\n",
       "      <th>Ind_06_nat_reg_forest_2020</th>\n",
       "      <th>Ind_07_planted_plantations_2020</th>\n",
       "      <th>Ind_08_planted_plantations_post_2020</th>\n",
       "      <th>Ind_09_treecover_post_2020</th>\n",
       "      <th>Ind_10_agri_post_2020</th>\n",
       "      <th>Ind_11_logging_concession</th>\n",
       "      <th>risk_pcrop</th>\n",
       "      <th>risk_acrop</th>\n",
       "      <th>risk_timber</th>\n",
       "    </tr>\n",
       "  </thead>\n",
       "  <tbody>\n",
       "    <tr>\n",
       "      <th>0</th>\n",
       "      <td>1</td>\n",
       "      <td>NaN</td>\n",
       "      <td>9043.37207</td>\n",
       "      <td>Polygon</td>\n",
       "      <td>GAB</td>\n",
       "      <td>GA</td>\n",
       "      <td>Ngounié</td>\n",
       "      <td>10.89905</td>\n",
       "      <td>-1.024023</td>\n",
       "      <td>ha</td>\n",
       "      <td>...</td>\n",
       "      <td>yes</td>\n",
       "      <td>yes</td>\n",
       "      <td>no</td>\n",
       "      <td>no</td>\n",
       "      <td>yes</td>\n",
       "      <td>no</td>\n",
       "      <td>no</td>\n",
       "      <td>more_info_needed</td>\n",
       "      <td>more_info_needed</td>\n",
       "      <td>low</td>\n",
       "    </tr>\n",
       "  </tbody>\n",
       "</table>\n",
       "<p>1 rows × 193 columns</p>\n",
       "</div>"
      ],
      "text/plain": [
       "  plotId  external_id        Area Geometry_type Country ProducerCountry  \\\n",
       "0      1          NaN  9043.37207       Polygon     GAB              GA   \n",
       "\n",
       "  Admin_Level_1  Centroid_lon  Centroid_lat Unit  ...  Ind_05_primary_2020  \\\n",
       "0       Ngounié      10.89905     -1.024023   ha  ...                  yes   \n",
       "\n",
       "   Ind_06_nat_reg_forest_2020  Ind_07_planted_plantations_2020  \\\n",
       "0                         yes                               no   \n",
       "\n",
       "   Ind_08_planted_plantations_post_2020  Ind_09_treecover_post_2020  \\\n",
       "0                                    no                         yes   \n",
       "\n",
       "   Ind_10_agri_post_2020  Ind_11_logging_concession        risk_pcrop  \\\n",
       "0                     no                         no  more_info_needed   \n",
       "\n",
       "         risk_acrop  risk_timber  \n",
       "0  more_info_needed          low  \n",
       "\n",
       "[1 rows x 193 columns]"
      ]
     },
     "execution_count": 9,
     "metadata": {},
     "output_type": "execute_result"
    }
   ],
   "source": [
    "df_w_risk"
   ]
  },
  {
   "cell_type": "markdown",
   "id": "094c0019-585e-4598-8c54-c628625f5f80",
   "metadata": {},
   "source": [
    "Export table to CSV"
   ]
  },
  {
   "cell_type": "code",
   "execution_count": 16,
   "id": "c14e1709",
   "metadata": {},
   "outputs": [
    {
     "name": "stdout",
     "output_type": "stream",
     "text": [
      "Table with risk columns saved to: /home/sepal-user/module_results/whisp/whisp_foret_contour_AAC_ASI-Gabon_output_table_w_risk.csv\n"
     ]
    }
   ],
   "source": [
    "# Define the output folder\n",
    "out_directory = Path.home() / 'module_results/whisp/'\n",
    "#out_directory = Path.home() / 'Downloads'\n",
    "\n",
    "# Define the output file path for CSV\n",
    "csv_output_file = out_directory / 'whisp_foret_contour_AAC_ASI-Gabon_output_table_w_risk.csv'\n",
    "\n",
    "# Save the CSV file\n",
    "df_w_risk.to_csv(path_or_buf=csv_output_file, index=False)\n",
    "print(f\"Table with risk columns saved to: {csv_output_file}\")"
   ]
  },
  {
   "cell_type": "markdown",
   "id": "f92c1765",
   "metadata": {},
   "source": [
    "Export to GeoJSON (optional)"
   ]
  },
  {
   "cell_type": "code",
   "execution_count": null,
   "id": "5f8f64bd",
   "metadata": {},
   "outputs": [],
   "source": [
    "# Define the output file path for GeoJSON\n",
    "geojson_output_file = out_directory / 'whisp_output_table.geojson'\n",
    "\n",
    "# Save the GeoJSON file\n",
    "whisp.convert_df_to_geojson(df_w_risk, geojson_output_file)  # builds a geojson file containing Whisp columns. Uses the geometry column \"geo\" to create the spatial features.\n",
    "print(f\"GeoJSON file saved to: {geojson_output_file}\")"
   ]
  },
  {
   "cell_type": "markdown",
   "id": "58619e3d",
   "metadata": {},
   "source": []
  },
  {
   "cell_type": "markdown",
   "id": "5d25088f",
   "metadata": {},
   "source": []
  }
 ],
 "metadata": {
  "kernelspec": {
   "display_name": "Python 3",
   "language": "python",
   "name": "python3"
  },
  "language_info": {
   "codemirror_mode": {
    "name": "ipython",
    "version": 3
   },
   "file_extension": ".py",
   "mimetype": "text/x-python",
   "name": "python",
   "nbconvert_exporter": "python",
   "pygments_lexer": "ipython3",
   "version": "3.10.12"
  }
 },
 "nbformat": 4,
 "nbformat_minor": 5
}
