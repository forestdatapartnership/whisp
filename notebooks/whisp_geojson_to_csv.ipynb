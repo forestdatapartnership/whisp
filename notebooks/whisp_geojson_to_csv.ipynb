{
 "cells": [
  {
   "cell_type": "markdown",
   "id": "250b53cc",
   "metadata": {},
   "source": [
    "### Whisp a feature collection"
   ]
  },
  {
   "cell_type": "markdown",
   "id": "0ed47318",
   "metadata": {},
   "source": [
    "Import packages\n",
    "- NB to avoid complications from altering main python environment run using a virtual environment (https://docs.python.org/3/tutorial/venv.html)"
   ]
  },
  {
   "cell_type": "code",
   "execution_count": null,
   "id": "38ac967d",
   "metadata": {},
   "outputs": [],
   "source": [
    "import ee\n",
    "\n",
    "import pandas as pd\n",
    "\n",
    "from pathlib import Path\n",
    "\n",
    "import whisp\n",
    "\n",
    "ee.Authenticate()\n",
    "ee.Initialize() "
   ]
  },
  {
   "cell_type": "markdown",
   "id": "a66d9f78",
   "metadata": {},
   "source": [
    "Get a feature collection"
   ]
  },
  {
   "cell_type": "code",
   "execution_count": null,
   "id": "1b7d644b",
   "metadata": {},
   "outputs": [],
   "source": [
    "GEOJSON_EXAMPLE_FILEPATH = (\n",
    "    Path.cwd().parents[0]/ \"test\" / \"fixtures\" / \"geojson_example.geojson\"\n",
    ")\n",
    "print(GEOJSON_EXAMPLE_FILEPATH)"
   ]
  },
  {
   "cell_type": "markdown",
   "id": "4fce13c5",
   "metadata": {},
   "source": [
    "Whisp it"
   ]
  },
  {
   "cell_type": "code",
   "execution_count": null,
   "id": "c56f5fc1",
   "metadata": {},
   "outputs": [],
   "source": [
    "df_formatted_stats = whisp.whisp_formatted_stats_geojson_to_df(GEOJSON_EXAMPLE_FILEPATH)"
   ]
  },
  {
   "cell_type": "markdown",
   "id": "c24ce34d",
   "metadata": {},
   "source": [
    "Display table"
   ]
  },
  {
   "cell_type": "code",
   "execution_count": null,
   "id": "65ad5bf4",
   "metadata": {},
   "outputs": [],
   "source": [
    "df_formatted_stats"
   ]
  },
  {
   "cell_type": "markdown",
   "id": "32ac3563",
   "metadata": {},
   "source": [
    "Export csv"
   ]
  },
  {
   "cell_type": "code",
   "execution_count": null,
   "id": "cda5df37",
   "metadata": {},
   "outputs": [],
   "source": [
    "# Define output directory\n",
    "out_directory = Path.cwd().parents[0] / \"test\" / \"output\" # directory untracked by git\n",
    "\n",
    "# Define output file path\n",
    "output_stats_file = out_directory / \"whisp_output_table.csv\" # edit as required\n",
    "\n",
    "# Save statistics to CSV\n",
    "df_formatted_stats.to_csv(path_or_buf=output_stats_file,index=False)\n",
    "\n",
    "print(f\"Formatted stats saved to: {output_stats_file}\")\n"
   ]
  },
  {
   "cell_type": "markdown",
   "id": "5c2ecbf7-d86f-425c-9c93-80ce21f3dff2",
   "metadata": {},
   "source": [
    "Calculate risk category"
   ]
  },
  {
   "cell_type": "code",
   "execution_count": null,
   "id": "f4cd1b5c-41ac-4d3c-af26-a47db3d48af8",
   "metadata": {},
   "outputs": [],
   "source": [
    "# add risk columns to end of dataframe\n",
    "df_w_risk = whisp.whisp_risk(df=df_formatted_stats)"
   ]
  },
  {
   "cell_type": "markdown",
   "id": "5a15577b-44bb-4792-98ef-95fd6bc1aabb",
   "metadata": {},
   "source": [
    "Display table with risk columns"
   ]
  },
  {
   "cell_type": "code",
   "execution_count": null,
   "id": "0c62b10e-7484-47cd-9f73-40f612be5407",
   "metadata": {},
   "outputs": [],
   "source": [
    "df_w_risk"
   ]
  },
  {
   "cell_type": "markdown",
   "id": "094c0019-585e-4598-8c54-c628625f5f80",
   "metadata": {},
   "source": [
    "Export table with risk columns to csv "
   ]
  },
  {
   "cell_type": "code",
   "execution_count": null,
   "id": "afa539dd-bb4c-44f7-922f-79e2644631a5",
   "metadata": {},
   "outputs": [],
   "source": [
    "# Define output file path\n",
    "output_risk_file = out_directory / \"whisp_output_table_w_risk.csv\" # edit as required\n",
    "\n",
    "# Save statistics with added risk columns to CSV\n",
    "df_w_risk.to_csv(path_or_buf=output_risk_file,index=False)\n",
    "\n",
    "print(f\"Table with risk columns saved to: {output_risk_file}\")"
   ]
  }
 ],
 "metadata": {
  "kernelspec": {
   "display_name": ".venv",
   "language": "python",
   "name": "python3"
  },
  "language_info": {
   "codemirror_mode": {
    "name": "ipython",
    "version": 3
   },
   "file_extension": ".py",
   "mimetype": "text/x-python",
   "name": "python",
   "nbconvert_exporter": "python",
   "pygments_lexer": "ipython3",
   "version": "3.12.0"
  }
 },
 "nbformat": 4,
 "nbformat_minor": 5
}
