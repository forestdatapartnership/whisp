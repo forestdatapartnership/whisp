{
  "cells": [
    {
      "cell_type": "markdown",
      "id": "ed6a7f46",
      "metadata": {
        "id": "ed6a7f46"
      },
      "source": [
        "[![Open In Colab](https://colab.research.google.com/assets/colab-badge.svg)](https://colab.research.google.com/github/forestdatapartnership/whisp/blob/test_IDN/notebooks/Colab_whisp_geojson_to_csv.ipynb)"
      ]
    },
    {
      "cell_type": "markdown",
      "id": "250b53cc",
      "metadata": {
        "id": "250b53cc"
      },
      "source": [
        "# Whisp a geojson\n",
        "\n",
        "Python Notebook pathway for [Whisp](https://openforis.org/solutions/whisp/) running in the cloud via [Google Colab](https://colab.google/).\n",
        "\n",
        "**To open:**\n",
        "click badge at top.\n",
        "\n",
        "**To run:** click play buttons (or press shift + enter)\n",
        "\n",
        "**Requirements:** Google Earth Engine (GEE) account and registered cloud project.\n"
      ]
    },
    {
      "cell_type": "markdown",
      "id": "ae3d8135",
      "metadata": {
        "id": "ae3d8135"
      },
      "source": [
        "\n",
        "- **Aim:** support compliance with zero deforestation regulations\n",
        "- **Input**: geojson file of plot boundaries or points\n",
        "- **Output**: CSV table and geojson containing statistics and risk indicators"
      ]
    },
    {
      "cell_type": "markdown",
      "source": [
        "###  Setup Instructions (Start Here)\n",
        "\n",
        "Before running the full notebook, follow these steps to install and configure the Whisp package:\n",
        "\n",
        "1. **Run the first cell** to:\n",
        "   - Install required packages\n",
        "   - Clone the GitHub repo (with the correct branch)\n",
        "\n",
        "2. **Modify the asset path (if needed):**\n",
        "   - Click the **folder icon** (📁) on the left sidebar\n",
        "   - Navigate to:  \n",
        "     `whisp/src/openforis_whisp/`\n",
        "   - Double-click `indonesia_dataset.py` to open it\n",
        "   - Update the asset path value as needed\n",
        "   - Close the file to save it\n",
        "\n",
        "3. **Restart the runtime**  \n",
        "   Go to **Runtime > Restart runtime**, then confirm.  \n",
        "   This ensures your changes take effect.\n",
        "\n",
        "4. **Re-run all notebook cells** from the top\n",
        "\n",
        "5. **Download your outputs**  \n",
        "   Generated outputs (e.g. GeoJSON/CSV files) should go to your local downloads.\n",
        "\n",
        "---\n",
        "\n",
        "### ⚠️ Note about Colab:\n",
        "\n",
        "- All changes to files (like `indonesia_dataset.py`) are **temporary** and will be lost when the session ends.\n",
        "- You must **restart the runtime** after making changes to code or installing packages.\n",
        "- To make changes persistent, consider saving to **Google Drive** or pushing back to **GitHub**.\n"
      ],
      "metadata": {
        "id": "sOehIXboSjiJ"
      },
      "id": "sOehIXboSjiJ"
    },
    {
      "cell_type": "markdown",
      "id": "punK2a7_zXmr",
      "metadata": {
        "id": "punK2a7_zXmr"
      },
      "source": [
        "### Setup Google Earth Engine"
      ]
    },
    {
      "cell_type": "code",
      "execution_count": null,
      "id": "zp_C0UxuzSIW",
      "metadata": {
        "id": "zp_C0UxuzSIW"
      },
      "outputs": [],
      "source": [
        "import ee\n",
        "\n",
        "# Google Earth Engine project name\n",
        "gee_project_name = \"your_cloud_project_name\"# change to your project name. If unsure see here: https://developers.google.com/earth-engine/cloud/assets)\n",
        "\n",
        "# NB opens browser to allow access\n",
        "ee.Authenticate()\n",
        "\n",
        "# initialize with chosen project\n",
        "ee.Initialize(project=gee_project_name)"
      ]
    },
    {
      "cell_type": "markdown",
      "id": "0ed47318",
      "metadata": {
        "id": "0ed47318"
      },
      "source": [
        "### Install and import packages"
      ]
    },
    {
      "cell_type": "code",
      "execution_count": null,
      "id": "DnFe8Scf3or5",
      "metadata": {
        "id": "DnFe8Scf3or5"
      },
      "outputs": [],
      "source": [
        "# Install openforis-whisp (if not already installed). This is the official package on pip.\n",
        "# !pip install --pre openforis-whisp"
      ]
    },
    {
      "cell_type": "code",
      "source": [
        "# Check if the module is already importable\n",
        "!pip install importlib\n",
        "import importlib\n",
        "import os\n",
        "if importlib.util.find_spec(\"openforis_whisp\") is None:\n",
        "    # Clone only if not already cloned\n",
        "    if not os.path.exists(\"whisp\"):\n",
        "        !git clone --branch test_IDN https://github.com/forestdatapartnership/whisp.git\n",
        "    %pip install -e whisp\n",
        "else:\n",
        "    print(\"openforis_whisp already available.\")\n",
        "\n"
      ],
      "metadata": {
        "id": "aJ2GgBoqCF8S",
        "outputId": "0f4407ea-0a82-4ada-c3ae-8e63fba228e6",
        "colab": {
          "base_uri": "https://localhost:8080/"
        }
      },
      "id": "aJ2GgBoqCF8S",
      "execution_count": null,
      "outputs": [
        {
          "output_type": "stream",
          "name": "stdout",
          "text": [
            "Requirement already satisfied: importlib in /usr/local/lib/python3.11/dist-packages (1.0.4)\n",
            "openforis_whisp already available.\n"
          ]
        }
      ]
    },
    {
      "cell_type": "code",
      "execution_count": null,
      "id": "dpqChUraHNrz",
      "metadata": {
        "colab": {
          "base_uri": "https://localhost:8080/"
        },
        "id": "dpqChUraHNrz",
        "outputId": "839ccf52-fcc4-40fe-a558-1c349564b4db"
      },
      "outputs": [
        {
          "output_type": "stream",
          "name": "stdout",
          "text": [
            "Successfully imported openforis_whisp as whisp\n",
            "If it fails next time, try: Runtime > Restart runtime, then rerun this cell.\n"
          ]
        }
      ],
      "source": [
        "try:\n",
        "    import openforis_whisp as whisp\n",
        "    print(\"Successfully imported openforis_whisp as whisp\")\n",
        "except ModuleNotFoundError:\n",
        "    print(\"Could not import 'openforis_whisp'\")\n",
        "    print(\"Try restarting the runtime (Runtime > Restart runtime) Then rerun cells above.\")\n"
      ]
    },
    {
      "cell_type": "markdown",
      "id": "a66d9f78",
      "metadata": {
        "id": "a66d9f78"
      },
      "source": [
        "### Get a geojson\n",
        "\n",
        "- Files are stored tempoarily and can be viewed in a panel on the left (click on Folder icon to view).\n",
        "- Press refresh if updates are not showing\n",
        "- Alternatively you can work with files in your Google Drive: drive.mount('/content/drive')"
      ]
    },
    {
      "cell_type": "code",
      "execution_count": null,
      "id": "FVIRYa3Ww1nd",
      "metadata": {
        "id": "FVIRYa3Ww1nd"
      },
      "outputs": [],
      "source": [
        "# #function to upload a geojson file. Download example here: https://github.com/andyarnell/whisp/tree/package-test-new-structure/tests/fixtures)\n",
        "# def import_geojson():\n",
        "#     from google.colab import files\n",
        "#     fn, content = next(iter(files.upload().items()))\n",
        "#     with open(f'/content/{fn}', 'wb') as f: f.write(content)\n",
        "#     return f'/content/{fn}'"
      ]
    },
    {
      "cell_type": "code",
      "execution_count": null,
      "id": "9vrME1ZUp_g9",
      "metadata": {
        "id": "9vrME1ZUp_g9"
      },
      "outputs": [],
      "source": [
        "# GEOJSON_EXAMPLE_FILEPATH = import_geojson()\n",
        "# print(f\"GEOJSON_EXAMPLE_FILEPATH: {GEOJSON_EXAMPLE_FILEPATH}\")"
      ]
    },
    {
      "cell_type": "code",
      "source": [
        "GEOJSON_EXAMPLE_FILEPATH = \"whisp/test_IDN_kalimantan.geojson\"\n",
        "print(f\"GEOJSON_EXAMPLE_FILEPATH: {GEOJSON_EXAMPLE_FILEPATH}\")"
      ],
      "metadata": {
        "id": "dh13muQ6Gvvk",
        "colab": {
          "base_uri": "https://localhost:8080/"
        },
        "outputId": "35a80397-51c4-4096-8eae-0077ab6c6cfc"
      },
      "id": "dh13muQ6Gvvk",
      "execution_count": null,
      "outputs": [
        {
          "output_type": "stream",
          "name": "stdout",
          "text": [
            "GEOJSON_EXAMPLE_FILEPATH: whisp/test_IDN_kalimantan.geojson\n"
          ]
        }
      ]
    },
    {
      "cell_type": "markdown",
      "id": "4fce13c5",
      "metadata": {
        "id": "4fce13c5"
      },
      "source": [
        "### Whisp it"
      ]
    },
    {
      "cell_type": "code",
      "execution_count": null,
      "id": "2ec19352",
      "metadata": {
        "id": "2ec19352"
      },
      "outputs": [],
      "source": [
        "# Choose countries to process (currently three countries: 'co', 'ci', 'br')\n",
        "iso2_codes_list = ['id']  # Example ISO2 codes for including country specific data"
      ]
    },
    {
      "cell_type": "code",
      "execution_count": null,
      "id": "c56f5fc1",
      "metadata": {
        "id": "c56f5fc1",
        "outputId": "0045b582-4c86-42c0-ce0c-c26a6e561edc",
        "colab": {
          "base_uri": "https://localhost:8080/"
        }
      },
      "outputs": [
        {
          "output_type": "stream",
          "name": "stdout",
          "text": [
            "Reading GeoJSON file from: /content/whisp/test_IDN_kalimantan.geojson\n",
            "['Area', 'Oil_palm_Descals', 'European_Primary_Forest', 'ESA_fire_before_2020', 'ESA_fire_2001', 'ESA_fire_2002', 'ESA_fire_2003', 'ESA_fire_2004', 'ESA_fire_2005', 'ESA_fire_2006', 'ESA_fire_2007', 'ESA_fire_2008', 'ESA_fire_2009', 'ESA_fire_2010', 'ESA_fire_2011', 'ESA_fire_2012', 'ESA_fire_2013', 'ESA_fire_2014', 'ESA_fire_2015', 'ESA_fire_2016', 'ESA_fire_2017', 'ESA_fire_2018', 'ESA_fire_2019', 'ESA_fire_2020', 'ESA_TC_2020', 'ESRI_2023_crop', 'ESRI_2023_TC', 'Cocoa_ETH', 'Cocoa_2023_FDaP', 'Cocoa_FDaP', 'Coffee_FDaP', 'Coffee_FDaP_2023', 'Forest_FDaP', 'Oil_palm_2023_FDaP', 'Oil_palm_FDaP', 'Rubber_2023_FDaP', 'Rubber_FDaP', 'GFT_naturally_regenerating', 'GFT_planted_plantation', 'GFT_primary', 'GFC_TC_2020', 'GFC_loss_after_2020', 'GFC_loss_before_2020', 'GFC_loss_year_2001', 'GFC_loss_year_2002', 'GFC_loss_year_2003', 'GFC_loss_year_2004', 'GFC_loss_year_2005', 'GFC_loss_year_2006', 'GFC_loss_year_2007', 'GFC_loss_year_2008', 'GFC_loss_year_2009', 'GFC_loss_year_2010', 'GFC_loss_year_2011', 'GFC_loss_year_2012', 'GFC_loss_year_2013', 'GFC_loss_year_2014', 'GFC_loss_year_2015', 'GFC_loss_year_2016', 'GFC_loss_year_2017', 'GFC_loss_year_2018', 'GFC_loss_year_2019', 'GFC_loss_year_2020', 'GFC_loss_year_2021', 'GFC_loss_year_2022', 'GFC_loss_year_2023', 'GFC_loss_year_2024', 'GLAD_Primary', 'GLC_FCS30D_crop_2022', 'GLC_FCS30D_TC_2022', 'IFL_2020', 'IIASA_planted_plantation', 'EUFO_2020', 'TMF_plant', 'TMF_undist', 'GFW_logging_before_2020', 'MODIS_fire_after_2020', 'MODIS_fire_before_2020', 'MODIS_fire_2000', 'MODIS_fire_2001', 'MODIS_fire_2002', 'MODIS_fire_2003', 'MODIS_fire_2004', 'MODIS_fire_2005', 'MODIS_fire_2006', 'MODIS_fire_2007', 'MODIS_fire_2008', 'MODIS_fire_2009', 'MODIS_fire_2010', 'MODIS_fire_2011', 'MODIS_fire_2012', 'MODIS_fire_2013', 'MODIS_fire_2014', 'MODIS_fire_2015', 'MODIS_fire_2016', 'MODIS_fire_2017', 'MODIS_fire_2018', 'MODIS_fire_2019', 'MODIS_fire_2020', 'MODIS_fire_2021', 'MODIS_fire_2022', 'MODIS_fire_2023', 'MODIS_fire_2024', 'MODIS_fire_2025', 'RADD_after_2020', 'RADD_before_2020', 'RADD_year_2019', 'RADD_year_2020', 'RADD_year_2021', 'RADD_year_2022', 'RADD_year_2023', 'RADD_year_2024', 'RADD_year_2025', 'Rubber_RBGE', 'Soy_Song_2020', 'TMF_def_after_2020', 'TMF_def_before_2020', 'TMF_def_2000', 'TMF_def_2001', 'TMF_def_2002', 'TMF_def_2003', 'TMF_def_2004', 'TMF_def_2005', 'TMF_def_2006', 'TMF_def_2007', 'TMF_def_2008', 'TMF_def_2009', 'TMF_def_2010', 'TMF_def_2011', 'TMF_def_2012', 'TMF_def_2013', 'TMF_def_2014', 'TMF_def_2015', 'TMF_def_2016', 'TMF_def_2017', 'TMF_def_2018', 'TMF_def_2019', 'TMF_def_2020', 'TMF_def_2021', 'TMF_def_2022', 'TMF_def_2023', 'TMF_def_2024', 'TMF_deg_after_2020', 'TMF_deg_before_2020', 'TMF_deg_2000', 'TMF_deg_2001', 'TMF_deg_2002', 'TMF_deg_2003', 'TMF_deg_2004', 'TMF_deg_2005', 'TMF_deg_2006', 'TMF_deg_2007', 'TMF_deg_2008', 'TMF_deg_2009', 'TMF_deg_2010', 'TMF_deg_2011', 'TMF_deg_2012', 'TMF_deg_2013', 'TMF_deg_2014', 'TMF_deg_2015', 'TMF_deg_2016', 'TMF_deg_2017', 'TMF_deg_2018', 'TMF_deg_2019', 'TMF_deg_2020', 'TMF_deg_2021', 'TMF_deg_2022', 'TMF_deg_2023', 'TMF_deg_2024', 'TMF_regrowth_2023', 'nID_simontana_forest2020', 'nID_simontana_plantation2020']\n",
            "Creating schema for national_codes: ['id']\n",
            "[reformat.py | log_missing_columns() | l.271] WARNING: The following columns in the schema did not match any columns from the results dataframe: \n",
            "external_id\n"
          ]
        }
      ],
      "source": [
        "df_stats = whisp.whisp_formatted_stats_geojson_to_df(\n",
        "    input_geojson_filepath=GEOJSON_EXAMPLE_FILEPATH,\n",
        "    national_codes=iso2_codes_list,\n",
        "    # unit_type='percent', # optional - to change unit type. Default is 'ha'.\n",
        "    )"
      ]
    },
    {
      "cell_type": "markdown",
      "id": "c24ce34d",
      "metadata": {
        "id": "c24ce34d"
      },
      "source": [
        "### Display results"
      ]
    },
    {
      "cell_type": "code",
      "execution_count": null,
      "id": "65ad5bf4",
      "metadata": {
        "id": "65ad5bf4",
        "outputId": "d8921055-b7c3-4244-dc8c-1946de860c21",
        "colab": {
          "base_uri": "https://localhost:8080/",
          "height": 349
        }
      },
      "outputs": [
        {
          "output_type": "execute_result",
          "data": {
            "text/plain": [
              "  plotId  external_id        Area Geometry_type Country ProducerCountry  \\\n",
              "0      1          NaN  111.803001       Polygon     IDN              ID   \n",
              "1      2          NaN  271.177002       Polygon     IDN              ID   \n",
              "2      3          NaN  242.621994       Polygon     IDN              ID   \n",
              "\n",
              "     Admin_Level_1  Centroid_lon  Centroid_lat Unit  ...  Oil_palm_2023_FDaP  \\\n",
              "0  West Kalimantan    109.987391     -0.808366   ha  ...             103.487   \n",
              "1  West Kalimantan    110.081419     -0.845661   ha  ...               0.000   \n",
              "2  West Kalimantan    109.916991     -0.614667   ha  ...               0.000   \n",
              "\n",
              "   Rubber_2023_FDaP  Coffee_FDaP_2023  Cocoa_2023_FDaP  ESRI_2023_crop  \\\n",
              "0              0.01               0.0             0.02       76.449997   \n",
              "1              0.00               0.0             0.00        0.000000   \n",
              "2              0.00               0.0             0.00       47.943001   \n",
              "\n",
              "   GLC_FCS30D_crop_2022  GFW_logging_before_2020  nID_simontana_forest2020  \\\n",
              "0                 1.307                      0.0                 64.776001   \n",
              "1                 0.000                      0.0                271.177002   \n",
              "2                 4.207                      0.0                240.154999   \n",
              "\n",
              "   nID_simontana_plantation2020  \\\n",
              "0                     44.213001   \n",
              "1                      0.000000   \n",
              "2                      1.563000   \n",
              "\n",
              "                                                 geo  \n",
              "0  {'type': 'Polygon', 'coordinates': [[[109.9816...  \n",
              "1  {'type': 'Polygon', 'coordinates': [[[110.0670...  \n",
              "2  {'type': 'Polygon', 'coordinates': [[[109.9071...  \n",
              "\n",
              "[3 rows x 183 columns]"
            ],
            "text/html": [
              "\n",
              "  <div id=\"df-e74f1e8a-f877-4148-80e3-e062ff2445c3\" class=\"colab-df-container\">\n",
              "    <div>\n",
              "<style scoped>\n",
              "    .dataframe tbody tr th:only-of-type {\n",
              "        vertical-align: middle;\n",
              "    }\n",
              "\n",
              "    .dataframe tbody tr th {\n",
              "        vertical-align: top;\n",
              "    }\n",
              "\n",
              "    .dataframe thead th {\n",
              "        text-align: right;\n",
              "    }\n",
              "</style>\n",
              "<table border=\"1\" class=\"dataframe\">\n",
              "  <thead>\n",
              "    <tr style=\"text-align: right;\">\n",
              "      <th></th>\n",
              "      <th>plotId</th>\n",
              "      <th>external_id</th>\n",
              "      <th>Area</th>\n",
              "      <th>Geometry_type</th>\n",
              "      <th>Country</th>\n",
              "      <th>ProducerCountry</th>\n",
              "      <th>Admin_Level_1</th>\n",
              "      <th>Centroid_lon</th>\n",
              "      <th>Centroid_lat</th>\n",
              "      <th>Unit</th>\n",
              "      <th>...</th>\n",
              "      <th>Oil_palm_2023_FDaP</th>\n",
              "      <th>Rubber_2023_FDaP</th>\n",
              "      <th>Coffee_FDaP_2023</th>\n",
              "      <th>Cocoa_2023_FDaP</th>\n",
              "      <th>ESRI_2023_crop</th>\n",
              "      <th>GLC_FCS30D_crop_2022</th>\n",
              "      <th>GFW_logging_before_2020</th>\n",
              "      <th>nID_simontana_forest2020</th>\n",
              "      <th>nID_simontana_plantation2020</th>\n",
              "      <th>geo</th>\n",
              "    </tr>\n",
              "  </thead>\n",
              "  <tbody>\n",
              "    <tr>\n",
              "      <th>0</th>\n",
              "      <td>1</td>\n",
              "      <td>NaN</td>\n",
              "      <td>111.803001</td>\n",
              "      <td>Polygon</td>\n",
              "      <td>IDN</td>\n",
              "      <td>ID</td>\n",
              "      <td>West Kalimantan</td>\n",
              "      <td>109.987391</td>\n",
              "      <td>-0.808366</td>\n",
              "      <td>ha</td>\n",
              "      <td>...</td>\n",
              "      <td>103.487</td>\n",
              "      <td>0.01</td>\n",
              "      <td>0.0</td>\n",
              "      <td>0.02</td>\n",
              "      <td>76.449997</td>\n",
              "      <td>1.307</td>\n",
              "      <td>0.0</td>\n",
              "      <td>64.776001</td>\n",
              "      <td>44.213001</td>\n",
              "      <td>{'type': 'Polygon', 'coordinates': [[[109.9816...</td>\n",
              "    </tr>\n",
              "    <tr>\n",
              "      <th>1</th>\n",
              "      <td>2</td>\n",
              "      <td>NaN</td>\n",
              "      <td>271.177002</td>\n",
              "      <td>Polygon</td>\n",
              "      <td>IDN</td>\n",
              "      <td>ID</td>\n",
              "      <td>West Kalimantan</td>\n",
              "      <td>110.081419</td>\n",
              "      <td>-0.845661</td>\n",
              "      <td>ha</td>\n",
              "      <td>...</td>\n",
              "      <td>0.000</td>\n",
              "      <td>0.00</td>\n",
              "      <td>0.0</td>\n",
              "      <td>0.00</td>\n",
              "      <td>0.000000</td>\n",
              "      <td>0.000</td>\n",
              "      <td>0.0</td>\n",
              "      <td>271.177002</td>\n",
              "      <td>0.000000</td>\n",
              "      <td>{'type': 'Polygon', 'coordinates': [[[110.0670...</td>\n",
              "    </tr>\n",
              "    <tr>\n",
              "      <th>2</th>\n",
              "      <td>3</td>\n",
              "      <td>NaN</td>\n",
              "      <td>242.621994</td>\n",
              "      <td>Polygon</td>\n",
              "      <td>IDN</td>\n",
              "      <td>ID</td>\n",
              "      <td>West Kalimantan</td>\n",
              "      <td>109.916991</td>\n",
              "      <td>-0.614667</td>\n",
              "      <td>ha</td>\n",
              "      <td>...</td>\n",
              "      <td>0.000</td>\n",
              "      <td>0.00</td>\n",
              "      <td>0.0</td>\n",
              "      <td>0.00</td>\n",
              "      <td>47.943001</td>\n",
              "      <td>4.207</td>\n",
              "      <td>0.0</td>\n",
              "      <td>240.154999</td>\n",
              "      <td>1.563000</td>\n",
              "      <td>{'type': 'Polygon', 'coordinates': [[[109.9071...</td>\n",
              "    </tr>\n",
              "  </tbody>\n",
              "</table>\n",
              "<p>3 rows × 183 columns</p>\n",
              "</div>\n",
              "    <div class=\"colab-df-buttons\">\n",
              "\n",
              "  <div class=\"colab-df-container\">\n",
              "    <button class=\"colab-df-convert\" onclick=\"convertToInteractive('df-e74f1e8a-f877-4148-80e3-e062ff2445c3')\"\n",
              "            title=\"Convert this dataframe to an interactive table.\"\n",
              "            style=\"display:none;\">\n",
              "\n",
              "  <svg xmlns=\"http://www.w3.org/2000/svg\" height=\"24px\" viewBox=\"0 -960 960 960\">\n",
              "    <path d=\"M120-120v-720h720v720H120Zm60-500h600v-160H180v160Zm220 220h160v-160H400v160Zm0 220h160v-160H400v160ZM180-400h160v-160H180v160Zm440 0h160v-160H620v160ZM180-180h160v-160H180v160Zm440 0h160v-160H620v160Z\"/>\n",
              "  </svg>\n",
              "    </button>\n",
              "\n",
              "  <style>\n",
              "    .colab-df-container {\n",
              "      display:flex;\n",
              "      gap: 12px;\n",
              "    }\n",
              "\n",
              "    .colab-df-convert {\n",
              "      background-color: #E8F0FE;\n",
              "      border: none;\n",
              "      border-radius: 50%;\n",
              "      cursor: pointer;\n",
              "      display: none;\n",
              "      fill: #1967D2;\n",
              "      height: 32px;\n",
              "      padding: 0 0 0 0;\n",
              "      width: 32px;\n",
              "    }\n",
              "\n",
              "    .colab-df-convert:hover {\n",
              "      background-color: #E2EBFA;\n",
              "      box-shadow: 0px 1px 2px rgba(60, 64, 67, 0.3), 0px 1px 3px 1px rgba(60, 64, 67, 0.15);\n",
              "      fill: #174EA6;\n",
              "    }\n",
              "\n",
              "    .colab-df-buttons div {\n",
              "      margin-bottom: 4px;\n",
              "    }\n",
              "\n",
              "    [theme=dark] .colab-df-convert {\n",
              "      background-color: #3B4455;\n",
              "      fill: #D2E3FC;\n",
              "    }\n",
              "\n",
              "    [theme=dark] .colab-df-convert:hover {\n",
              "      background-color: #434B5C;\n",
              "      box-shadow: 0px 1px 3px 1px rgba(0, 0, 0, 0.15);\n",
              "      filter: drop-shadow(0px 1px 2px rgba(0, 0, 0, 0.3));\n",
              "      fill: #FFFFFF;\n",
              "    }\n",
              "  </style>\n",
              "\n",
              "    <script>\n",
              "      const buttonEl =\n",
              "        document.querySelector('#df-e74f1e8a-f877-4148-80e3-e062ff2445c3 button.colab-df-convert');\n",
              "      buttonEl.style.display =\n",
              "        google.colab.kernel.accessAllowed ? 'block' : 'none';\n",
              "\n",
              "      async function convertToInteractive(key) {\n",
              "        const element = document.querySelector('#df-e74f1e8a-f877-4148-80e3-e062ff2445c3');\n",
              "        const dataTable =\n",
              "          await google.colab.kernel.invokeFunction('convertToInteractive',\n",
              "                                                    [key], {});\n",
              "        if (!dataTable) return;\n",
              "\n",
              "        const docLinkHtml = 'Like what you see? Visit the ' +\n",
              "          '<a target=\"_blank\" href=https://colab.research.google.com/notebooks/data_table.ipynb>data table notebook</a>'\n",
              "          + ' to learn more about interactive tables.';\n",
              "        element.innerHTML = '';\n",
              "        dataTable['output_type'] = 'display_data';\n",
              "        await google.colab.output.renderOutput(dataTable, element);\n",
              "        const docLink = document.createElement('div');\n",
              "        docLink.innerHTML = docLinkHtml;\n",
              "        element.appendChild(docLink);\n",
              "      }\n",
              "    </script>\n",
              "  </div>\n",
              "\n",
              "\n",
              "    <div id=\"df-ae03c53c-1ff5-439e-91b3-350933534c90\">\n",
              "      <button class=\"colab-df-quickchart\" onclick=\"quickchart('df-ae03c53c-1ff5-439e-91b3-350933534c90')\"\n",
              "                title=\"Suggest charts\"\n",
              "                style=\"display:none;\">\n",
              "\n",
              "<svg xmlns=\"http://www.w3.org/2000/svg\" height=\"24px\"viewBox=\"0 0 24 24\"\n",
              "     width=\"24px\">\n",
              "    <g>\n",
              "        <path d=\"M19 3H5c-1.1 0-2 .9-2 2v14c0 1.1.9 2 2 2h14c1.1 0 2-.9 2-2V5c0-1.1-.9-2-2-2zM9 17H7v-7h2v7zm4 0h-2V7h2v10zm4 0h-2v-4h2v4z\"/>\n",
              "    </g>\n",
              "</svg>\n",
              "      </button>\n",
              "\n",
              "<style>\n",
              "  .colab-df-quickchart {\n",
              "      --bg-color: #E8F0FE;\n",
              "      --fill-color: #1967D2;\n",
              "      --hover-bg-color: #E2EBFA;\n",
              "      --hover-fill-color: #174EA6;\n",
              "      --disabled-fill-color: #AAA;\n",
              "      --disabled-bg-color: #DDD;\n",
              "  }\n",
              "\n",
              "  [theme=dark] .colab-df-quickchart {\n",
              "      --bg-color: #3B4455;\n",
              "      --fill-color: #D2E3FC;\n",
              "      --hover-bg-color: #434B5C;\n",
              "      --hover-fill-color: #FFFFFF;\n",
              "      --disabled-bg-color: #3B4455;\n",
              "      --disabled-fill-color: #666;\n",
              "  }\n",
              "\n",
              "  .colab-df-quickchart {\n",
              "    background-color: var(--bg-color);\n",
              "    border: none;\n",
              "    border-radius: 50%;\n",
              "    cursor: pointer;\n",
              "    display: none;\n",
              "    fill: var(--fill-color);\n",
              "    height: 32px;\n",
              "    padding: 0;\n",
              "    width: 32px;\n",
              "  }\n",
              "\n",
              "  .colab-df-quickchart:hover {\n",
              "    background-color: var(--hover-bg-color);\n",
              "    box-shadow: 0 1px 2px rgba(60, 64, 67, 0.3), 0 1px 3px 1px rgba(60, 64, 67, 0.15);\n",
              "    fill: var(--button-hover-fill-color);\n",
              "  }\n",
              "\n",
              "  .colab-df-quickchart-complete:disabled,\n",
              "  .colab-df-quickchart-complete:disabled:hover {\n",
              "    background-color: var(--disabled-bg-color);\n",
              "    fill: var(--disabled-fill-color);\n",
              "    box-shadow: none;\n",
              "  }\n",
              "\n",
              "  .colab-df-spinner {\n",
              "    border: 2px solid var(--fill-color);\n",
              "    border-color: transparent;\n",
              "    border-bottom-color: var(--fill-color);\n",
              "    animation:\n",
              "      spin 1s steps(1) infinite;\n",
              "  }\n",
              "\n",
              "  @keyframes spin {\n",
              "    0% {\n",
              "      border-color: transparent;\n",
              "      border-bottom-color: var(--fill-color);\n",
              "      border-left-color: var(--fill-color);\n",
              "    }\n",
              "    20% {\n",
              "      border-color: transparent;\n",
              "      border-left-color: var(--fill-color);\n",
              "      border-top-color: var(--fill-color);\n",
              "    }\n",
              "    30% {\n",
              "      border-color: transparent;\n",
              "      border-left-color: var(--fill-color);\n",
              "      border-top-color: var(--fill-color);\n",
              "      border-right-color: var(--fill-color);\n",
              "    }\n",
              "    40% {\n",
              "      border-color: transparent;\n",
              "      border-right-color: var(--fill-color);\n",
              "      border-top-color: var(--fill-color);\n",
              "    }\n",
              "    60% {\n",
              "      border-color: transparent;\n",
              "      border-right-color: var(--fill-color);\n",
              "    }\n",
              "    80% {\n",
              "      border-color: transparent;\n",
              "      border-right-color: var(--fill-color);\n",
              "      border-bottom-color: var(--fill-color);\n",
              "    }\n",
              "    90% {\n",
              "      border-color: transparent;\n",
              "      border-bottom-color: var(--fill-color);\n",
              "    }\n",
              "  }\n",
              "</style>\n",
              "\n",
              "      <script>\n",
              "        async function quickchart(key) {\n",
              "          const quickchartButtonEl =\n",
              "            document.querySelector('#' + key + ' button');\n",
              "          quickchartButtonEl.disabled = true;  // To prevent multiple clicks.\n",
              "          quickchartButtonEl.classList.add('colab-df-spinner');\n",
              "          try {\n",
              "            const charts = await google.colab.kernel.invokeFunction(\n",
              "                'suggestCharts', [key], {});\n",
              "          } catch (error) {\n",
              "            console.error('Error during call to suggestCharts:', error);\n",
              "          }\n",
              "          quickchartButtonEl.classList.remove('colab-df-spinner');\n",
              "          quickchartButtonEl.classList.add('colab-df-quickchart-complete');\n",
              "        }\n",
              "        (() => {\n",
              "          let quickchartButtonEl =\n",
              "            document.querySelector('#df-ae03c53c-1ff5-439e-91b3-350933534c90 button');\n",
              "          quickchartButtonEl.style.display =\n",
              "            google.colab.kernel.accessAllowed ? 'block' : 'none';\n",
              "        })();\n",
              "      </script>\n",
              "    </div>\n",
              "\n",
              "  <div id=\"id_8e889a16-924b-4cf4-9dc0-f2dda791f425\">\n",
              "    <style>\n",
              "      .colab-df-generate {\n",
              "        background-color: #E8F0FE;\n",
              "        border: none;\n",
              "        border-radius: 50%;\n",
              "        cursor: pointer;\n",
              "        display: none;\n",
              "        fill: #1967D2;\n",
              "        height: 32px;\n",
              "        padding: 0 0 0 0;\n",
              "        width: 32px;\n",
              "      }\n",
              "\n",
              "      .colab-df-generate:hover {\n",
              "        background-color: #E2EBFA;\n",
              "        box-shadow: 0px 1px 2px rgba(60, 64, 67, 0.3), 0px 1px 3px 1px rgba(60, 64, 67, 0.15);\n",
              "        fill: #174EA6;\n",
              "      }\n",
              "\n",
              "      [theme=dark] .colab-df-generate {\n",
              "        background-color: #3B4455;\n",
              "        fill: #D2E3FC;\n",
              "      }\n",
              "\n",
              "      [theme=dark] .colab-df-generate:hover {\n",
              "        background-color: #434B5C;\n",
              "        box-shadow: 0px 1px 3px 1px rgba(0, 0, 0, 0.15);\n",
              "        filter: drop-shadow(0px 1px 2px rgba(0, 0, 0, 0.3));\n",
              "        fill: #FFFFFF;\n",
              "      }\n",
              "    </style>\n",
              "    <button class=\"colab-df-generate\" onclick=\"generateWithVariable('df_stats')\"\n",
              "            title=\"Generate code using this dataframe.\"\n",
              "            style=\"display:none;\">\n",
              "\n",
              "  <svg xmlns=\"http://www.w3.org/2000/svg\" height=\"24px\"viewBox=\"0 0 24 24\"\n",
              "       width=\"24px\">\n",
              "    <path d=\"M7,19H8.4L18.45,9,17,7.55,7,17.6ZM5,21V16.75L18.45,3.32a2,2,0,0,1,2.83,0l1.4,1.43a1.91,1.91,0,0,1,.58,1.4,1.91,1.91,0,0,1-.58,1.4L9.25,21ZM18.45,9,17,7.55Zm-12,3A5.31,5.31,0,0,0,4.9,8.1,5.31,5.31,0,0,0,1,6.5,5.31,5.31,0,0,0,4.9,4.9,5.31,5.31,0,0,0,6.5,1,5.31,5.31,0,0,0,8.1,4.9,5.31,5.31,0,0,0,12,6.5,5.46,5.46,0,0,0,6.5,12Z\"/>\n",
              "  </svg>\n",
              "    </button>\n",
              "    <script>\n",
              "      (() => {\n",
              "      const buttonEl =\n",
              "        document.querySelector('#id_8e889a16-924b-4cf4-9dc0-f2dda791f425 button.colab-df-generate');\n",
              "      buttonEl.style.display =\n",
              "        google.colab.kernel.accessAllowed ? 'block' : 'none';\n",
              "\n",
              "      buttonEl.onclick = () => {\n",
              "        google.colab.notebook.generateWithVariable('df_stats');\n",
              "      }\n",
              "      })();\n",
              "    </script>\n",
              "  </div>\n",
              "\n",
              "    </div>\n",
              "  </div>\n"
            ],
            "application/vnd.google.colaboratory.intrinsic+json": {
              "type": "dataframe",
              "variable_name": "df_stats"
            }
          },
          "metadata": {},
          "execution_count": 12
        }
      ],
      "source": [
        "df_stats"
      ]
    },
    {
      "cell_type": "markdown",
      "id": "5c2ecbf7-d86f-425c-9c93-80ce21f3dff2",
      "metadata": {
        "id": "5c2ecbf7-d86f-425c-9c93-80ce21f3dff2"
      },
      "source": [
        "### Add risk category columns"
      ]
    },
    {
      "cell_type": "code",
      "execution_count": null,
      "id": "f4cd1b5c-41ac-4d3c-af26-a47db3d48af8",
      "metadata": {
        "id": "f4cd1b5c-41ac-4d3c-af26-a47db3d48af8",
        "outputId": "b1afee6b-fd4a-4cea-fd66-3a6c844ffebe",
        "colab": {
          "base_uri": "https://localhost:8080/"
        }
      },
      "outputs": [
        {
          "output_type": "stream",
          "name": "stdout",
          "text": [
            "Using unit type: ha\n"
          ]
        }
      ],
      "source": [
        "# adds risk columns to end of dataframe\n",
        "df_w_risk = whisp.whisp_risk(df=df_stats,national_codes=iso2_codes_list)"
      ]
    },
    {
      "cell_type": "markdown",
      "id": "5a15577b-44bb-4792-98ef-95fd6bc1aabb",
      "metadata": {
        "id": "5a15577b-44bb-4792-98ef-95fd6bc1aabb"
      },
      "source": [
        "### Display updated table\n",
        "- Scroll to far right to see additions"
      ]
    },
    {
      "cell_type": "code",
      "execution_count": null,
      "id": "0c62b10e-7484-47cd-9f73-40f612be5407",
      "metadata": {
        "id": "0c62b10e-7484-47cd-9f73-40f612be5407",
        "outputId": "bf4b222a-fe61-4cec-93e0-2b0cc273b357",
        "colab": {
          "base_uri": "https://localhost:8080/",
          "height": 245
        }
      },
      "outputs": [
        {
          "output_type": "execute_result",
          "data": {
            "text/plain": [
              "  plotId  external_id        Area Geometry_type Country ProducerCountry  \\\n",
              "0      1          NaN  111.803001       Polygon     IDN              ID   \n",
              "1      2          NaN  271.177002       Polygon     IDN              ID   \n",
              "2      3          NaN  242.621994       Polygon     IDN              ID   \n",
              "\n",
              "     Admin_Level_1  Centroid_lon  Centroid_lat Unit  ...  Ind_05_primary_2020  \\\n",
              "0  West Kalimantan    109.987391     -0.808366   ha  ...                   no   \n",
              "1  West Kalimantan    110.081419     -0.845661   ha  ...                  yes   \n",
              "2  West Kalimantan    109.916991     -0.614667   ha  ...                   no   \n",
              "\n",
              "   Ind_06_nat_reg_forest_2020  Ind_07_planted_plantations_2020  \\\n",
              "0                         yes                               no   \n",
              "1                         yes                               no   \n",
              "2                         yes                               no   \n",
              "\n",
              "   Ind_08_planted_plantations_after_2020  Ind_09_treecover_after_2020  \\\n",
              "0                                     no                           no   \n",
              "1                                     no                           no   \n",
              "2                                     no                           no   \n",
              "\n",
              "   Ind_10_agri_after_2020  Ind_11_logging_concession_before_2020  \\\n",
              "0                     yes                                     no   \n",
              "1                      no                                     no   \n",
              "2                     yes                                     no   \n",
              "\n",
              "         risk_pcrop        risk_acrop       risk_timber  \n",
              "0               low               low               low  \n",
              "1  more_info_needed  more_info_needed  more_info_needed  \n",
              "2               low               low               low  \n",
              "\n",
              "[3 rows x 197 columns]"
            ],
            "text/html": [
              "\n",
              "  <div id=\"df-27c2a82e-34f5-4b8d-8d51-0c28f7013972\" class=\"colab-df-container\">\n",
              "    <div>\n",
              "<style scoped>\n",
              "    .dataframe tbody tr th:only-of-type {\n",
              "        vertical-align: middle;\n",
              "    }\n",
              "\n",
              "    .dataframe tbody tr th {\n",
              "        vertical-align: top;\n",
              "    }\n",
              "\n",
              "    .dataframe thead th {\n",
              "        text-align: right;\n",
              "    }\n",
              "</style>\n",
              "<table border=\"1\" class=\"dataframe\">\n",
              "  <thead>\n",
              "    <tr style=\"text-align: right;\">\n",
              "      <th></th>\n",
              "      <th>plotId</th>\n",
              "      <th>external_id</th>\n",
              "      <th>Area</th>\n",
              "      <th>Geometry_type</th>\n",
              "      <th>Country</th>\n",
              "      <th>ProducerCountry</th>\n",
              "      <th>Admin_Level_1</th>\n",
              "      <th>Centroid_lon</th>\n",
              "      <th>Centroid_lat</th>\n",
              "      <th>Unit</th>\n",
              "      <th>...</th>\n",
              "      <th>Ind_05_primary_2020</th>\n",
              "      <th>Ind_06_nat_reg_forest_2020</th>\n",
              "      <th>Ind_07_planted_plantations_2020</th>\n",
              "      <th>Ind_08_planted_plantations_after_2020</th>\n",
              "      <th>Ind_09_treecover_after_2020</th>\n",
              "      <th>Ind_10_agri_after_2020</th>\n",
              "      <th>Ind_11_logging_concession_before_2020</th>\n",
              "      <th>risk_pcrop</th>\n",
              "      <th>risk_acrop</th>\n",
              "      <th>risk_timber</th>\n",
              "    </tr>\n",
              "  </thead>\n",
              "  <tbody>\n",
              "    <tr>\n",
              "      <th>0</th>\n",
              "      <td>1</td>\n",
              "      <td>NaN</td>\n",
              "      <td>111.803001</td>\n",
              "      <td>Polygon</td>\n",
              "      <td>IDN</td>\n",
              "      <td>ID</td>\n",
              "      <td>West Kalimantan</td>\n",
              "      <td>109.987391</td>\n",
              "      <td>-0.808366</td>\n",
              "      <td>ha</td>\n",
              "      <td>...</td>\n",
              "      <td>no</td>\n",
              "      <td>yes</td>\n",
              "      <td>no</td>\n",
              "      <td>no</td>\n",
              "      <td>no</td>\n",
              "      <td>yes</td>\n",
              "      <td>no</td>\n",
              "      <td>low</td>\n",
              "      <td>low</td>\n",
              "      <td>low</td>\n",
              "    </tr>\n",
              "    <tr>\n",
              "      <th>1</th>\n",
              "      <td>2</td>\n",
              "      <td>NaN</td>\n",
              "      <td>271.177002</td>\n",
              "      <td>Polygon</td>\n",
              "      <td>IDN</td>\n",
              "      <td>ID</td>\n",
              "      <td>West Kalimantan</td>\n",
              "      <td>110.081419</td>\n",
              "      <td>-0.845661</td>\n",
              "      <td>ha</td>\n",
              "      <td>...</td>\n",
              "      <td>yes</td>\n",
              "      <td>yes</td>\n",
              "      <td>no</td>\n",
              "      <td>no</td>\n",
              "      <td>no</td>\n",
              "      <td>no</td>\n",
              "      <td>no</td>\n",
              "      <td>more_info_needed</td>\n",
              "      <td>more_info_needed</td>\n",
              "      <td>more_info_needed</td>\n",
              "    </tr>\n",
              "    <tr>\n",
              "      <th>2</th>\n",
              "      <td>3</td>\n",
              "      <td>NaN</td>\n",
              "      <td>242.621994</td>\n",
              "      <td>Polygon</td>\n",
              "      <td>IDN</td>\n",
              "      <td>ID</td>\n",
              "      <td>West Kalimantan</td>\n",
              "      <td>109.916991</td>\n",
              "      <td>-0.614667</td>\n",
              "      <td>ha</td>\n",
              "      <td>...</td>\n",
              "      <td>no</td>\n",
              "      <td>yes</td>\n",
              "      <td>no</td>\n",
              "      <td>no</td>\n",
              "      <td>no</td>\n",
              "      <td>yes</td>\n",
              "      <td>no</td>\n",
              "      <td>low</td>\n",
              "      <td>low</td>\n",
              "      <td>low</td>\n",
              "    </tr>\n",
              "  </tbody>\n",
              "</table>\n",
              "<p>3 rows × 197 columns</p>\n",
              "</div>\n",
              "    <div class=\"colab-df-buttons\">\n",
              "\n",
              "  <div class=\"colab-df-container\">\n",
              "    <button class=\"colab-df-convert\" onclick=\"convertToInteractive('df-27c2a82e-34f5-4b8d-8d51-0c28f7013972')\"\n",
              "            title=\"Convert this dataframe to an interactive table.\"\n",
              "            style=\"display:none;\">\n",
              "\n",
              "  <svg xmlns=\"http://www.w3.org/2000/svg\" height=\"24px\" viewBox=\"0 -960 960 960\">\n",
              "    <path d=\"M120-120v-720h720v720H120Zm60-500h600v-160H180v160Zm220 220h160v-160H400v160Zm0 220h160v-160H400v160ZM180-400h160v-160H180v160Zm440 0h160v-160H620v160ZM180-180h160v-160H180v160Zm440 0h160v-160H620v160Z\"/>\n",
              "  </svg>\n",
              "    </button>\n",
              "\n",
              "  <style>\n",
              "    .colab-df-container {\n",
              "      display:flex;\n",
              "      gap: 12px;\n",
              "    }\n",
              "\n",
              "    .colab-df-convert {\n",
              "      background-color: #E8F0FE;\n",
              "      border: none;\n",
              "      border-radius: 50%;\n",
              "      cursor: pointer;\n",
              "      display: none;\n",
              "      fill: #1967D2;\n",
              "      height: 32px;\n",
              "      padding: 0 0 0 0;\n",
              "      width: 32px;\n",
              "    }\n",
              "\n",
              "    .colab-df-convert:hover {\n",
              "      background-color: #E2EBFA;\n",
              "      box-shadow: 0px 1px 2px rgba(60, 64, 67, 0.3), 0px 1px 3px 1px rgba(60, 64, 67, 0.15);\n",
              "      fill: #174EA6;\n",
              "    }\n",
              "\n",
              "    .colab-df-buttons div {\n",
              "      margin-bottom: 4px;\n",
              "    }\n",
              "\n",
              "    [theme=dark] .colab-df-convert {\n",
              "      background-color: #3B4455;\n",
              "      fill: #D2E3FC;\n",
              "    }\n",
              "\n",
              "    [theme=dark] .colab-df-convert:hover {\n",
              "      background-color: #434B5C;\n",
              "      box-shadow: 0px 1px 3px 1px rgba(0, 0, 0, 0.15);\n",
              "      filter: drop-shadow(0px 1px 2px rgba(0, 0, 0, 0.3));\n",
              "      fill: #FFFFFF;\n",
              "    }\n",
              "  </style>\n",
              "\n",
              "    <script>\n",
              "      const buttonEl =\n",
              "        document.querySelector('#df-27c2a82e-34f5-4b8d-8d51-0c28f7013972 button.colab-df-convert');\n",
              "      buttonEl.style.display =\n",
              "        google.colab.kernel.accessAllowed ? 'block' : 'none';\n",
              "\n",
              "      async function convertToInteractive(key) {\n",
              "        const element = document.querySelector('#df-27c2a82e-34f5-4b8d-8d51-0c28f7013972');\n",
              "        const dataTable =\n",
              "          await google.colab.kernel.invokeFunction('convertToInteractive',\n",
              "                                                    [key], {});\n",
              "        if (!dataTable) return;\n",
              "\n",
              "        const docLinkHtml = 'Like what you see? Visit the ' +\n",
              "          '<a target=\"_blank\" href=https://colab.research.google.com/notebooks/data_table.ipynb>data table notebook</a>'\n",
              "          + ' to learn more about interactive tables.';\n",
              "        element.innerHTML = '';\n",
              "        dataTable['output_type'] = 'display_data';\n",
              "        await google.colab.output.renderOutput(dataTable, element);\n",
              "        const docLink = document.createElement('div');\n",
              "        docLink.innerHTML = docLinkHtml;\n",
              "        element.appendChild(docLink);\n",
              "      }\n",
              "    </script>\n",
              "  </div>\n",
              "\n",
              "\n",
              "    <div id=\"df-9b75b28e-fcf7-4bff-922a-e5eebf43c5d5\">\n",
              "      <button class=\"colab-df-quickchart\" onclick=\"quickchart('df-9b75b28e-fcf7-4bff-922a-e5eebf43c5d5')\"\n",
              "                title=\"Suggest charts\"\n",
              "                style=\"display:none;\">\n",
              "\n",
              "<svg xmlns=\"http://www.w3.org/2000/svg\" height=\"24px\"viewBox=\"0 0 24 24\"\n",
              "     width=\"24px\">\n",
              "    <g>\n",
              "        <path d=\"M19 3H5c-1.1 0-2 .9-2 2v14c0 1.1.9 2 2 2h14c1.1 0 2-.9 2-2V5c0-1.1-.9-2-2-2zM9 17H7v-7h2v7zm4 0h-2V7h2v10zm4 0h-2v-4h2v4z\"/>\n",
              "    </g>\n",
              "</svg>\n",
              "      </button>\n",
              "\n",
              "<style>\n",
              "  .colab-df-quickchart {\n",
              "      --bg-color: #E8F0FE;\n",
              "      --fill-color: #1967D2;\n",
              "      --hover-bg-color: #E2EBFA;\n",
              "      --hover-fill-color: #174EA6;\n",
              "      --disabled-fill-color: #AAA;\n",
              "      --disabled-bg-color: #DDD;\n",
              "  }\n",
              "\n",
              "  [theme=dark] .colab-df-quickchart {\n",
              "      --bg-color: #3B4455;\n",
              "      --fill-color: #D2E3FC;\n",
              "      --hover-bg-color: #434B5C;\n",
              "      --hover-fill-color: #FFFFFF;\n",
              "      --disabled-bg-color: #3B4455;\n",
              "      --disabled-fill-color: #666;\n",
              "  }\n",
              "\n",
              "  .colab-df-quickchart {\n",
              "    background-color: var(--bg-color);\n",
              "    border: none;\n",
              "    border-radius: 50%;\n",
              "    cursor: pointer;\n",
              "    display: none;\n",
              "    fill: var(--fill-color);\n",
              "    height: 32px;\n",
              "    padding: 0;\n",
              "    width: 32px;\n",
              "  }\n",
              "\n",
              "  .colab-df-quickchart:hover {\n",
              "    background-color: var(--hover-bg-color);\n",
              "    box-shadow: 0 1px 2px rgba(60, 64, 67, 0.3), 0 1px 3px 1px rgba(60, 64, 67, 0.15);\n",
              "    fill: var(--button-hover-fill-color);\n",
              "  }\n",
              "\n",
              "  .colab-df-quickchart-complete:disabled,\n",
              "  .colab-df-quickchart-complete:disabled:hover {\n",
              "    background-color: var(--disabled-bg-color);\n",
              "    fill: var(--disabled-fill-color);\n",
              "    box-shadow: none;\n",
              "  }\n",
              "\n",
              "  .colab-df-spinner {\n",
              "    border: 2px solid var(--fill-color);\n",
              "    border-color: transparent;\n",
              "    border-bottom-color: var(--fill-color);\n",
              "    animation:\n",
              "      spin 1s steps(1) infinite;\n",
              "  }\n",
              "\n",
              "  @keyframes spin {\n",
              "    0% {\n",
              "      border-color: transparent;\n",
              "      border-bottom-color: var(--fill-color);\n",
              "      border-left-color: var(--fill-color);\n",
              "    }\n",
              "    20% {\n",
              "      border-color: transparent;\n",
              "      border-left-color: var(--fill-color);\n",
              "      border-top-color: var(--fill-color);\n",
              "    }\n",
              "    30% {\n",
              "      border-color: transparent;\n",
              "      border-left-color: var(--fill-color);\n",
              "      border-top-color: var(--fill-color);\n",
              "      border-right-color: var(--fill-color);\n",
              "    }\n",
              "    40% {\n",
              "      border-color: transparent;\n",
              "      border-right-color: var(--fill-color);\n",
              "      border-top-color: var(--fill-color);\n",
              "    }\n",
              "    60% {\n",
              "      border-color: transparent;\n",
              "      border-right-color: var(--fill-color);\n",
              "    }\n",
              "    80% {\n",
              "      border-color: transparent;\n",
              "      border-right-color: var(--fill-color);\n",
              "      border-bottom-color: var(--fill-color);\n",
              "    }\n",
              "    90% {\n",
              "      border-color: transparent;\n",
              "      border-bottom-color: var(--fill-color);\n",
              "    }\n",
              "  }\n",
              "</style>\n",
              "\n",
              "      <script>\n",
              "        async function quickchart(key) {\n",
              "          const quickchartButtonEl =\n",
              "            document.querySelector('#' + key + ' button');\n",
              "          quickchartButtonEl.disabled = true;  // To prevent multiple clicks.\n",
              "          quickchartButtonEl.classList.add('colab-df-spinner');\n",
              "          try {\n",
              "            const charts = await google.colab.kernel.invokeFunction(\n",
              "                'suggestCharts', [key], {});\n",
              "          } catch (error) {\n",
              "            console.error('Error during call to suggestCharts:', error);\n",
              "          }\n",
              "          quickchartButtonEl.classList.remove('colab-df-spinner');\n",
              "          quickchartButtonEl.classList.add('colab-df-quickchart-complete');\n",
              "        }\n",
              "        (() => {\n",
              "          let quickchartButtonEl =\n",
              "            document.querySelector('#df-9b75b28e-fcf7-4bff-922a-e5eebf43c5d5 button');\n",
              "          quickchartButtonEl.style.display =\n",
              "            google.colab.kernel.accessAllowed ? 'block' : 'none';\n",
              "        })();\n",
              "      </script>\n",
              "    </div>\n",
              "\n",
              "  <div id=\"id_a8ee499f-72e9-4896-b2a8-18aef573ca49\">\n",
              "    <style>\n",
              "      .colab-df-generate {\n",
              "        background-color: #E8F0FE;\n",
              "        border: none;\n",
              "        border-radius: 50%;\n",
              "        cursor: pointer;\n",
              "        display: none;\n",
              "        fill: #1967D2;\n",
              "        height: 32px;\n",
              "        padding: 0 0 0 0;\n",
              "        width: 32px;\n",
              "      }\n",
              "\n",
              "      .colab-df-generate:hover {\n",
              "        background-color: #E2EBFA;\n",
              "        box-shadow: 0px 1px 2px rgba(60, 64, 67, 0.3), 0px 1px 3px 1px rgba(60, 64, 67, 0.15);\n",
              "        fill: #174EA6;\n",
              "      }\n",
              "\n",
              "      [theme=dark] .colab-df-generate {\n",
              "        background-color: #3B4455;\n",
              "        fill: #D2E3FC;\n",
              "      }\n",
              "\n",
              "      [theme=dark] .colab-df-generate:hover {\n",
              "        background-color: #434B5C;\n",
              "        box-shadow: 0px 1px 3px 1px rgba(0, 0, 0, 0.15);\n",
              "        filter: drop-shadow(0px 1px 2px rgba(0, 0, 0, 0.3));\n",
              "        fill: #FFFFFF;\n",
              "      }\n",
              "    </style>\n",
              "    <button class=\"colab-df-generate\" onclick=\"generateWithVariable('df_w_risk')\"\n",
              "            title=\"Generate code using this dataframe.\"\n",
              "            style=\"display:none;\">\n",
              "\n",
              "  <svg xmlns=\"http://www.w3.org/2000/svg\" height=\"24px\"viewBox=\"0 0 24 24\"\n",
              "       width=\"24px\">\n",
              "    <path d=\"M7,19H8.4L18.45,9,17,7.55,7,17.6ZM5,21V16.75L18.45,3.32a2,2,0,0,1,2.83,0l1.4,1.43a1.91,1.91,0,0,1,.58,1.4,1.91,1.91,0,0,1-.58,1.4L9.25,21ZM18.45,9,17,7.55Zm-12,3A5.31,5.31,0,0,0,4.9,8.1,5.31,5.31,0,0,0,1,6.5,5.31,5.31,0,0,0,4.9,4.9,5.31,5.31,0,0,0,6.5,1,5.31,5.31,0,0,0,8.1,4.9,5.31,5.31,0,0,0,12,6.5,5.46,5.46,0,0,0,6.5,12Z\"/>\n",
              "  </svg>\n",
              "    </button>\n",
              "    <script>\n",
              "      (() => {\n",
              "      const buttonEl =\n",
              "        document.querySelector('#id_a8ee499f-72e9-4896-b2a8-18aef573ca49 button.colab-df-generate');\n",
              "      buttonEl.style.display =\n",
              "        google.colab.kernel.accessAllowed ? 'block' : 'none';\n",
              "\n",
              "      buttonEl.onclick = () => {\n",
              "        google.colab.notebook.generateWithVariable('df_w_risk');\n",
              "      }\n",
              "      })();\n",
              "    </script>\n",
              "  </div>\n",
              "\n",
              "    </div>\n",
              "  </div>\n"
            ],
            "application/vnd.google.colaboratory.intrinsic+json": {
              "type": "dataframe",
              "variable_name": "df_w_risk"
            }
          },
          "metadata": {},
          "execution_count": 14
        }
      ],
      "source": [
        "df_w_risk"
      ]
    },
    {
      "cell_type": "markdown",
      "id": "094c0019-585e-4598-8c54-c628625f5f80",
      "metadata": {
        "id": "094c0019-585e-4598-8c54-c628625f5f80"
      },
      "source": [
        "### Export table with risk columns to CSV (temporary storage)"
      ]
    },
    {
      "cell_type": "code",
      "execution_count": null,
      "id": "afa539dd-bb4c-44f7-922f-79e2644631a5",
      "metadata": {
        "id": "afa539dd-bb4c-44f7-922f-79e2644631a5"
      },
      "outputs": [],
      "source": [
        "df_w_risk.to_csv(\"whisp_output_table_w_risk.csv\",index=False)"
      ]
    },
    {
      "cell_type": "markdown",
      "id": "YJKgzHx7poGm",
      "metadata": {
        "id": "YJKgzHx7poGm"
      },
      "source": [
        "### Export table with risk columns to geojson (temporary storage)"
      ]
    },
    {
      "cell_type": "code",
      "execution_count": null,
      "id": "_YcjBdh0p3fK",
      "metadata": {
        "id": "_YcjBdh0p3fK",
        "outputId": "807f063a-c48b-4f10-a5bf-d5bbda70fc62",
        "colab": {
          "base_uri": "https://localhost:8080/"
        }
      },
      "outputs": [
        {
          "output_type": "stream",
          "name": "stdout",
          "text": [
            "GeoJSON saved to whisp_output_table_w_risk.geojson\n"
          ]
        }
      ],
      "source": [
        "whisp.convert_df_to_geojson(df_w_risk,\"whisp_output_table_w_risk.geojson\") # builds a geojson file containing Whisp columns. Uses the geometry column \"geo\" to create the spatial features."
      ]
    },
    {
      "cell_type": "markdown",
      "id": "XC9z8vJ0zBK8",
      "metadata": {
        "id": "XC9z8vJ0zBK8"
      },
      "source": [
        "### Download outputs to local storage\n",
        "- Saves files in \"Downloads\" folder on your machine\n",
        "- If you see a \"Downloads blocked\" button at top of browser click to allow file downloads.\n",
        "- Alternatively right click on file in the folder (in the panel on your left) and choose 'Download'."
      ]
    },
    {
      "cell_type": "code",
      "execution_count": null,
      "id": "DCXudVkzy8RB",
      "metadata": {
        "id": "DCXudVkzy8RB",
        "outputId": "81a0c565-e7b5-47aa-fb13-d4ec163b52ad",
        "colab": {
          "base_uri": "https://localhost:8080/",
          "height": 17
        }
      },
      "outputs": [
        {
          "output_type": "display_data",
          "data": {
            "text/plain": [
              "<IPython.core.display.Javascript object>"
            ],
            "application/javascript": [
              "\n",
              "    async function download(id, filename, size) {\n",
              "      if (!google.colab.kernel.accessAllowed) {\n",
              "        return;\n",
              "      }\n",
              "      const div = document.createElement('div');\n",
              "      const label = document.createElement('label');\n",
              "      label.textContent = `Downloading \"${filename}\": `;\n",
              "      div.appendChild(label);\n",
              "      const progress = document.createElement('progress');\n",
              "      progress.max = size;\n",
              "      div.appendChild(progress);\n",
              "      document.body.appendChild(div);\n",
              "\n",
              "      const buffers = [];\n",
              "      let downloaded = 0;\n",
              "\n",
              "      const channel = await google.colab.kernel.comms.open(id);\n",
              "      // Send a message to notify the kernel that we're ready.\n",
              "      channel.send({})\n",
              "\n",
              "      for await (const message of channel.messages) {\n",
              "        // Send a message to notify the kernel that we're ready.\n",
              "        channel.send({})\n",
              "        if (message.buffers) {\n",
              "          for (const buffer of message.buffers) {\n",
              "            buffers.push(buffer);\n",
              "            downloaded += buffer.byteLength;\n",
              "            progress.value = downloaded;\n",
              "          }\n",
              "        }\n",
              "      }\n",
              "      const blob = new Blob(buffers, {type: 'application/binary'});\n",
              "      const a = document.createElement('a');\n",
              "      a.href = window.URL.createObjectURL(blob);\n",
              "      a.download = filename;\n",
              "      div.appendChild(a);\n",
              "      a.click();\n",
              "      div.remove();\n",
              "    }\n",
              "  "
            ]
          },
          "metadata": {}
        },
        {
          "output_type": "display_data",
          "data": {
            "text/plain": [
              "<IPython.core.display.Javascript object>"
            ],
            "application/javascript": [
              "download(\"download_4e8494d6-ebda-4b9b-a669-9be3ffcdf768\", \"whisp_output_table_w_risk.csv\", 6641)"
            ]
          },
          "metadata": {}
        }
      ],
      "source": [
        "from google.colab import files\n",
        "files.download('whisp_output_table_w_risk.csv')"
      ]
    },
    {
      "cell_type": "code",
      "execution_count": null,
      "id": "oD20mXuD_A-j",
      "metadata": {
        "id": "oD20mXuD_A-j",
        "outputId": "fac2f3ba-fb0d-4d6a-d604-fabf4d86fc1d",
        "colab": {
          "base_uri": "https://localhost:8080/",
          "height": 17
        }
      },
      "outputs": [
        {
          "output_type": "display_data",
          "data": {
            "text/plain": [
              "<IPython.core.display.Javascript object>"
            ],
            "application/javascript": [
              "\n",
              "    async function download(id, filename, size) {\n",
              "      if (!google.colab.kernel.accessAllowed) {\n",
              "        return;\n",
              "      }\n",
              "      const div = document.createElement('div');\n",
              "      const label = document.createElement('label');\n",
              "      label.textContent = `Downloading \"${filename}\": `;\n",
              "      div.appendChild(label);\n",
              "      const progress = document.createElement('progress');\n",
              "      progress.max = size;\n",
              "      div.appendChild(progress);\n",
              "      document.body.appendChild(div);\n",
              "\n",
              "      const buffers = [];\n",
              "      let downloaded = 0;\n",
              "\n",
              "      const channel = await google.colab.kernel.comms.open(id);\n",
              "      // Send a message to notify the kernel that we're ready.\n",
              "      channel.send({})\n",
              "\n",
              "      for await (const message of channel.messages) {\n",
              "        // Send a message to notify the kernel that we're ready.\n",
              "        channel.send({})\n",
              "        if (message.buffers) {\n",
              "          for (const buffer of message.buffers) {\n",
              "            buffers.push(buffer);\n",
              "            downloaded += buffer.byteLength;\n",
              "            progress.value = downloaded;\n",
              "          }\n",
              "        }\n",
              "      }\n",
              "      const blob = new Blob(buffers, {type: 'application/binary'});\n",
              "      const a = document.createElement('a');\n",
              "      a.href = window.URL.createObjectURL(blob);\n",
              "      a.download = filename;\n",
              "      div.appendChild(a);\n",
              "      a.click();\n",
              "      div.remove();\n",
              "    }\n",
              "  "
            ]
          },
          "metadata": {}
        },
        {
          "output_type": "display_data",
          "data": {
            "text/plain": [
              "<IPython.core.display.Javascript object>"
            ],
            "application/javascript": [
              "download(\"download_3e3efa83-a126-416f-9e0d-b45882a928fb\", \"whisp_output_table_w_risk.geojson\", 22019)"
            ]
          },
          "metadata": {}
        }
      ],
      "source": [
        "files.download('whisp_output_table_w_risk.geojson') # spatial output"
      ]
    },
    {
      "cell_type": "code",
      "execution_count": null,
      "id": "aNNI8KaHrEK3",
      "metadata": {
        "id": "aNNI8KaHrEK3"
      },
      "outputs": [],
      "source": []
    }
  ],
  "metadata": {
    "colab": {
      "provenance": []
    },
    "kernelspec": {
      "display_name": ".venv",
      "language": "python",
      "name": "python3"
    },
    "language_info": {
      "codemirror_mode": {
        "name": "ipython",
        "version": 3
      },
      "file_extension": ".py",
      "mimetype": "text/x-python",
      "name": "python",
      "nbconvert_exporter": "python",
      "pygments_lexer": "ipython3",
      "version": "3.12.0"
    }
  },
  "nbformat": 4,
  "nbformat_minor": 5
}
