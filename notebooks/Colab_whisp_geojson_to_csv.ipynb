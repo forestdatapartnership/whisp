{
  "cells": [
    {
      "cell_type": "markdown",
      "id": "ed6a7f46",
      "metadata": {},
      "source": [
        "[![Open In Colab](https://colab.research.google.com/assets/colab-badge.svg)](https://colab.research.google.com/github/forestdatapartnership/whisp/blob/main/notebooks/Colab_whisp_geojson_to_csv.ipynb)"
      ]
    },
    {
      "cell_type": "markdown",
      "id": "250b53cc",
      "metadata": {
        "id": "250b53cc"
      },
      "source": [
        "# Whisp a geojson\n",
        "\n",
        "Python Notebook pathway for [Whisp](https://openforis.org/solutions/whisp/) running in the cloud via [Google Colab](https://colab.google/). \n",
        "\n",
        "**To open:** \n",
        "click badge at top. \n",
        "\n",
        "**To run:** click play buttons (or press shift + enter) \n",
        "\n",
        "**Requirements:** Google Earth Engine (GEE) account and registered cloud project.\n"
      ]
    },
    {
      "cell_type": "markdown",
      "id": "ae3d8135",
      "metadata": {},
      "source": [
        "\n",
        "- **Aim:** support compliance with zero deforestation regulations\n",
        "- **Input**: geojson file of plot boundaries or points\n",
        "- **Output**: CSV table and geojson containing statistics and risk indicators"
      ]
    },
    {
      "cell_type": "markdown",
      "id": "punK2a7_zXmr",
      "metadata": {
        "id": "punK2a7_zXmr"
      },
      "source": [
        "### Setup Google Earth Engine"
      ]
    },
    {
      "cell_type": "code",
      "execution_count": null,
      "id": "zp_C0UxuzSIW",
      "metadata": {
        "id": "zp_C0UxuzSIW"
      },
      "outputs": [],
      "source": [
        "import ee\n",
        "\n",
        "# Google Earth Engine project name\n",
        "gee_project_name = \"your_cloud_project_name\" # change to your project name. If unsure see here: https://developers.google.com/earth-engine/cloud/assets)\n",
        "\n",
        "# NB opens browser to allow access\n",
        "ee.Authenticate()\n",
        "\n",
        "# initialize with chosen project\n",
        "ee.Initialize(project=gee_project_name)"
      ]
    },
    {
      "cell_type": "markdown",
      "id": "0ed47318",
      "metadata": {
        "id": "0ed47318"
      },
      "source": [
        "### Install and import packages"
      ]
    },
    {
      "cell_type": "code",
      "execution_count": null,
      "id": "DnFe8Scf3or5",
      "metadata": {
        "colab": {
          "base_uri": "https://localhost:8080/"
        },
        "id": "DnFe8Scf3or5",
        "outputId": "617c1559-d21a-4cba-f755-845608d5e72e"
      },
      "outputs": [],
      "source": [
        "# Install openforis-whisp (if not already installed)\n",
        "!pip install --pre openforis-whisp"
      ]
    },
    {
      "cell_type": "code",
      "execution_count": null,
      "id": "dpqChUraHNrz",
      "metadata": {
        "colab": {
          "base_uri": "https://localhost:8080/"
        },
        "id": "dpqChUraHNrz",
        "outputId": "67b2e585-b352-4c40-b34a-f6a5e7035166"
      },
      "outputs": [],
      "source": [
        "import openforis_whisp as whisp"
      ]
    },
    {
      "cell_type": "markdown",
      "id": "a66d9f78",
      "metadata": {
        "id": "a66d9f78"
      },
      "source": [
        "### Get a geojson\n",
        "\n",
        "- Files are stored tempoarily and can be viewed in a panel on the left (click on Folder icon to view).\n",
        "- Press refresh if updates are not showing\n",
        "- Alternatively you can work with files in your Google Drive: drive.mount('/content/drive')"
      ]
    },
    {
      "cell_type": "code",
      "execution_count": null,
      "id": "FVIRYa3Ww1nd",
      "metadata": {
        "id": "FVIRYa3Ww1nd"
      },
      "outputs": [],
      "source": [
        "#function to upload a geojson file. Download example here: https://github.com/forestdatapartnership/whisp/tree/main/tests/fixtures\n",
        "def import_geojson():\n",
        "    from google.colab import files\n",
        "    fn, content = next(iter(files.upload().items()))\n",
        "    with open(f'/content/{fn}', 'wb') as f: f.write(content)\n",
        "    return f'/content/{fn}'"
      ]
    },
    {
      "cell_type": "code",
      "execution_count": null,
      "id": "9vrME1ZUp_g9",
      "metadata": {
        "id": "9vrME1ZUp_g9"
      },
      "outputs": [],
      "source": [
        "GEOJSON_EXAMPLE_FILEPATH = import_geojson()\n",
        "print(f\"GEOJSON_EXAMPLE_FILEPATH: {GEOJSON_EXAMPLE_FILEPATH}\")"
      ]
    },
    {
      "cell_type": "markdown",
      "id": "c3863de0",
      "metadata": {},
      "source": [
        "### Prepare inputs"
      ]
    },
    {
      "cell_type": "code",
      "execution_count": null,
      "id": "f1ae82a2",
      "metadata": {},
      "outputs": [],
      "source": [
        "# Choose countries to process (currently three countries: 'co', 'ci', 'br')\n",
        "iso2_codes_list = ['co', 'ci', 'br']  # Example ISO2 codes for including country specific data\n",
        "\n",
        "# Choose if want to include additional custom layers\n",
        "USE_CUSTOM_BANDS = False # set to True if want to add extra ee data to whisp"
      ]
    },
    {
      "cell_type": "code",
      "execution_count": null,
      "id": "0b3af75f",
      "metadata": {},
      "outputs": [],
      "source": [
        "# =============================================================================\n",
        "# CUSTOM BANDS SETUP (OPTIONAL) - runs only if USE_CUSTOM_BANDS = True above\n",
        "# =============================================================================\n",
        "if USE_CUSTOM_BANDS:\n",
        "    \n",
        "    # Step 1: Define custom Earth Engine images (binary values 0 or 1)\n",
        "    custom_images = {\n",
        "        'example_treecover': ee.Image(1),  \n",
        "        'nBR_example_commodity': ee.Image.random(seed=1).gte(.5).reproject(crs='EPSG:4326', scale=10)\n",
        "        # add more images as needed\n",
        "    }\n",
        "    \n",
        "    # Step 2: Define metadata for each custom band (keys must match above)\n",
        "    # Themes: 'treecover', 'commodities', 'disturbance_before', 'disturbance_after'\n",
        "    # Timber themes: 'primary', 'naturally_reg_2020', 'planted_plantation_2020', etc.\n",
        "    custom_bands_info = {\n",
        "        'example_treecover': {\n",
        "            'ISO2_code': \"\",          # Country code (empty = all countries)\n",
        "            'theme': 'treecover',     # Risk theme\n",
        "            'theme_timber': \"\",       # Timber theme (if applicable)\n",
        "            'use_for_risk': 1,        # Include in risk calculations (1=yes, 0=no)\n",
        "            'use_for_risk_timber': 0  # Include in timber risk (1=yes, 0=no)\n",
        "        },\n",
        "        'nBR_example_commodity': {\n",
        "            'ISO2_code': \"BR\", 'theme': 'commodities', 'theme_timber': \"\", \n",
        "            'use_for_risk': 1, 'use_for_risk_timber': 0\n",
        "        }\n",
        "        # add more band metadata as needed\n",
        "    }\n",
        "    \n",
        "    # Step 3: Combine custom bands and extract names\n",
        "    custom_ee_image = whisp.combine_custom_bands(custom_images, custom_bands_info)\n",
        "    \n",
        "    custom_bands = list(custom_bands_info.keys())\n"
      ]
    },
    {
      "cell_type": "code",
      "execution_count": null,
      "id": "5d15eb53",
      "metadata": {},
      "outputs": [],
      "source": [
        "# Create final Whisp image\n",
        "whisp_image = whisp.combine_datasets(national_codes=iso2_codes_list)\n",
        "\n",
        "if USE_CUSTOM_BANDS and 'custom_ee_image' in locals():\n",
        "    whisp_image = whisp_image.addBands(custom_ee_image)\n",
        "\n",
        "print(f\"Final image has {len(whisp_image.bandNames().getInfo())} bands\")"
      ]
    },
    {
      "cell_type": "markdown",
      "id": "0c3420b9",
      "metadata": {},
      "source": [
        "### Run Whisp "
      ]
    },
    {
      "cell_type": "code",
      "execution_count": null,
      "id": "d00de8ca",
      "metadata": {},
      "outputs": [],
      "source": [
        "df_stats = whisp.whisp_formatted_stats_geojson_to_df(\n",
        "    input_geojson_filepath=GEOJSON_EXAMPLE_FILEPATH,\n",
        "    # external_id_column=\"user_id\", # optional -  specify which input column/property to map to the external ID.\n",
        "    national_codes=iso2_codes_list,  # optional - By default national datasets are not included unless specified here.\n",
        "    # unit_type='percent', # optional - to change unit type. Default is 'ha'. \n",
        "    whisp_image=whisp_image, # optional - defaults to standard whisp image if not provided\n",
        "    custom_bands=custom_bands if USE_CUSTOM_BANDS else None  # include custom bands in formatted output \n",
        ") "
      ]
    },
    {
      "cell_type": "markdown",
      "id": "c24ce34d",
      "metadata": {
        "id": "c24ce34d"
      },
      "source": [
        "### Display results"
      ]
    },
    {
      "cell_type": "code",
      "execution_count": null,
      "id": "65ad5bf4",
      "metadata": {
        "id": "65ad5bf4"
      },
      "outputs": [],
      "source": [
        "df_stats"
      ]
    },
    {
      "cell_type": "markdown",
      "id": "5c2ecbf7-d86f-425c-9c93-80ce21f3dff2",
      "metadata": {
        "id": "5c2ecbf7-d86f-425c-9c93-80ce21f3dff2"
      },
      "source": [
        "### Add risk category columns"
      ]
    },
    {
      "cell_type": "code",
      "execution_count": null,
      "id": "f4cd1b5c-41ac-4d3c-af26-a47db3d48af8",
      "metadata": {
        "id": "f4cd1b5c-41ac-4d3c-af26-a47db3d48af8"
      },
      "outputs": [],
      "source": [
        "# adds risk columns to end of dataframe\n",
        "df_w_risk = whisp.whisp_risk(\n",
        "    df=df_stats,\n",
        "    national_codes=iso2_codes_list,\n",
        "    custom_bands_info=custom_bands_info if USE_CUSTOM_BANDS else None  # Add: missing custom bands\n",
        ")"
      ]
    },
    {
      "cell_type": "markdown",
      "id": "5a15577b-44bb-4792-98ef-95fd6bc1aabb",
      "metadata": {
        "id": "5a15577b-44bb-4792-98ef-95fd6bc1aabb"
      },
      "source": [
        "### Display updated table\n",
        "- Scroll to far right to see additions"
      ]
    },
    {
      "cell_type": "code",
      "execution_count": null,
      "id": "0c62b10e-7484-47cd-9f73-40f612be5407",
      "metadata": {
        "id": "0c62b10e-7484-47cd-9f73-40f612be5407"
      },
      "outputs": [],
      "source": [
        "df_w_risk"
      ]
    },
    {
      "cell_type": "markdown",
      "id": "094c0019-585e-4598-8c54-c628625f5f80",
      "metadata": {
        "id": "094c0019-585e-4598-8c54-c628625f5f80"
      },
      "source": [
        "### Export table with risk columns to CSV (temporary storage)"
      ]
    },
    {
      "cell_type": "code",
      "execution_count": null,
      "id": "afa539dd-bb4c-44f7-922f-79e2644631a5",
      "metadata": {
        "id": "afa539dd-bb4c-44f7-922f-79e2644631a5"
      },
      "outputs": [],
      "source": [
        "df_w_risk.to_csv(\"whisp_output_table_w_risk.csv\",index=False)"
      ]
    },
    {
      "cell_type": "markdown",
      "id": "YJKgzHx7poGm",
      "metadata": {
        "id": "YJKgzHx7poGm"
      },
      "source": [
        "### Export table with risk columns to geojson (temporary storage)"
      ]
    },
    {
      "cell_type": "code",
      "execution_count": null,
      "id": "_YcjBdh0p3fK",
      "metadata": {
        "id": "_YcjBdh0p3fK"
      },
      "outputs": [],
      "source": [
        "whisp.convert_df_to_geojson(df_w_risk,\"whisp_output_table_w_risk.geojson\") # builds a geojson file containing Whisp columns. Uses the geometry column \"geo\" to create the spatial features."
      ]
    },
    {
      "cell_type": "markdown",
      "id": "XC9z8vJ0zBK8",
      "metadata": {
        "id": "XC9z8vJ0zBK8"
      },
      "source": [
        "### Download outputs to local storage\n",
        "- Saves files in \"Downloads\" folder on your machine\n",
        "- If you see a \"Downloads blocked\" button at top of browser click to allow file downloads.\n",
        "- Alternatively right click on file in the folder (in the panel on your left) and choose 'Download'."
      ]
    },
    {
      "cell_type": "code",
      "execution_count": null,
      "id": "DCXudVkzy8RB",
      "metadata": {
        "id": "DCXudVkzy8RB"
      },
      "outputs": [],
      "source": [
        "from google.colab import files\n",
        "files.download('whisp_output_table_w_risk.csv')"
      ]
    },
    {
      "cell_type": "code",
      "execution_count": null,
      "id": "oD20mXuD_A-j",
      "metadata": {
        "id": "oD20mXuD_A-j"
      },
      "outputs": [],
      "source": [
        "files.download('whisp_output_table_w_risk.geojson') # spatial output"
      ]
    },
    {
      "cell_type": "code",
      "execution_count": null,
      "id": "aNNI8KaHrEK3",
      "metadata": {
        "id": "aNNI8KaHrEK3"
      },
      "outputs": [],
      "source": []
    }
  ],
  "metadata": {
    "colab": {
      "provenance": []
    },
    "kernelspec": {
      "display_name": ".venv (3.12.0)",
      "language": "python",
      "name": "python3"
    },
    "language_info": {
      "codemirror_mode": {
        "name": "ipython",
        "version": 3
      },
      "file_extension": ".py",
      "mimetype": "text/x-python",
      "name": "python",
      "nbconvert_exporter": "python",
      "pygments_lexer": "ipython3",
      "version": "3.12.0"
    }
  },
  "nbformat": 4,
  "nbformat_minor": 5
}
