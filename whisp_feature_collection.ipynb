{
 "cells": [
  {
   "cell_type": "markdown",
   "id": "bfe423cf-8bd5-4727-8899-283ab6004221",
   "metadata": {},
   "source": [
    "#### Imports/setup"
   ]
  },
  {
   "cell_type": "code",
   "execution_count": null,
   "id": "8c696e8e-cf8b-4aa0-80e9-fc3a9f87a42b",
   "metadata": {
    "editable": true,
    "scrolled": true,
    "slideshow": {
     "slide_type": ""
    },
    "tags": []
   },
   "outputs": [],
   "source": [
    "from parameters.config_imports import *"
   ]
  },
  {
   "cell_type": "code",
   "execution_count": null,
   "id": "a17cf082-5819-4526-b888-1e4fce46bc7e",
   "metadata": {},
   "outputs": [],
   "source": [
    "def whisp_stats_as_df (roi): \n",
    "    %store roi\n",
    "    %run process_whisp_stats.ipynb   \n",
    "    return df_out"
   ]
  },
  {
   "cell_type": "markdown",
   "id": "7df79006-43ec-402a-9473-b2c17b1614ae",
   "metadata": {},
   "source": [
    "#### Inputs : feature collection (without Geo IDs)\n",
    "- Choose between 1) GEE asset or 2) Geojson input\n",
    "- Comment out the one you dont want"
   ]
  },
  {
   "cell_type": "code",
   "execution_count": null,
   "id": "354afea9-eb94-4fd9-9469-eddd3a3487d6",
   "metadata": {
    "editable": true,
    "scrolled": true,
    "slideshow": {
     "slide_type": ""
    },
    "tags": []
   },
   "outputs": [],
   "source": [
    "## 1 - GEE asset\n",
    "asset_id = \"projects/ee-whisp/assets/example_asset\" # asset id\n",
    "roi = ee.FeatureCollection(asset_id) # load feature collection asset\n",
    "\n",
    "## 2 - Geojson input\n",
    "# geojson_path = \"input_examples/geojson_example.geojson\" # geojson file\n",
    "# roi = geojson_to_ee(geojson_path) # convert geojson to feature collection"
   ]
  },
  {
   "cell_type": "code",
   "execution_count": null,
   "id": "85ad2157-31ea-4133-9841-85e249e0bdb9",
   "metadata": {
    "scrolled": true
   },
   "outputs": [],
   "source": [
    "roi # view feature collection properties"
   ]
  },
  {
   "cell_type": "code",
   "execution_count": null,
   "id": "26dee004-b049-489a-bfea-2d1d62452176",
   "metadata": {},
   "outputs": [],
   "source": [
    "# optional code: uncomment below line to test converting to point inputs using polygon centroid\n",
    "\n",
    "# roi = roi.map(lambda feature: ee.Feature(feature.geometry().centroid(1))) "
   ]
  },
  {
   "cell_type": "markdown",
   "id": "6ba90193-9bc2-4756-a839-f16c07284e04",
   "metadata": {},
   "source": [
    "### Whisp it\n",
    "- If over 500 polygons currently this will go to Google Drive and require manual uploading here\n",
    "- This value can be changed in parameters.config_runtime.py \n",
    "- NB Currently stats processing sent to a separate notebook 'process_whisp_stats.pynb'"
   ]
  },
  {
   "cell_type": "code",
   "execution_count": null,
   "id": "62b25f9f-6c78-424a-87ae-1025c5088884",
   "metadata": {
    "editable": true,
    "slideshow": {
     "slide_type": ""
    },
    "tags": []
   },
   "outputs": [],
   "source": [
    "df = whisp_stats_as_df(roi)"
   ]
  },
  {
   "cell_type": "markdown",
   "id": "1b7b3539-f9dd-4dc4-84ac-4e043434ae27",
   "metadata": {},
   "source": [
    "### Display it\n"
   ]
  },
  {
   "cell_type": "code",
   "execution_count": null,
   "id": "e45cecd9-3bf0-40da-ad58-ec5a87a2d7be",
   "metadata": {
    "scrolled": true
   },
   "outputs": [],
   "source": [
    "df"
   ]
  },
  {
   "cell_type": "markdown",
   "id": "3b0cec1c-3482-4fe6-b5ac-b60df4b2c4f6",
   "metadata": {},
   "source": [
    "#### Export it to CSV file\n",
    "NB if exporting to Google Drive skip this and upload to your results folder 'whisp_output_table.csv'"
   ]
  },
  {
   "cell_type": "code",
   "execution_count": null,
   "id": "fd56afe0-5480-4eb8-9a7b-e34feb54ae82",
   "metadata": {},
   "outputs": [],
   "source": [
    "#export output csv (default: '/home/sepal-user/module_results/whisp/whisp_output_table.csv')\n",
    "df.to_csv(path_or_buf=out_csv,header=True,index=False)\n",
    "\n",
    "print (\"output csv: \", out_csv)"
   ]
  },
  {
   "cell_type": "markdown",
   "id": "5c2ecbf7-d86f-425c-9c93-80ce21f3dff2",
   "metadata": {},
   "source": [
    "##### Calculate EUDR risk category"
   ]
  },
  {
   "cell_type": "code",
   "execution_count": null,
   "id": "f4cd1b5c-41ac-4d3c-af26-a47db3d48af8",
   "metadata": {},
   "outputs": [],
   "source": [
    "# Replace with name of your CSV file \n",
    "# NB if skipped 'Add Geo ids' should set to \"out_directory/whisp_output_table.csv\" \n",
    "csv_file_input =out_directory/'whisp_output_table.csv'\n",
    "\n",
    "# import csv as a dataframe\n",
    "df_w_stats = pd.read_csv(csv_file_input)\n",
    "\n",
    "df_w_risk = whisp_risk(\n",
    "    df = df_w_stats, \n",
    "    ind_1_pcent_threshold=10,\n",
    "    ind_2_pcent_threshold=10,\n",
    "    ind_3_pcent_threshold=0,\n",
    "    ind_4_pcent_threshold=0\n",
    "    )\n"
   ]
  },
  {
   "cell_type": "markdown",
   "id": "5a15577b-44bb-4792-98ef-95fd6bc1aabb",
   "metadata": {},
   "source": [
    "##### Display table with risk columns"
   ]
  },
  {
   "cell_type": "code",
   "execution_count": null,
   "id": "0c62b10e-7484-47cd-9f73-40f612be5407",
   "metadata": {},
   "outputs": [],
   "source": [
    "df_w_risk"
   ]
  },
  {
   "cell_type": "markdown",
   "id": "094c0019-585e-4598-8c54-c628625f5f80",
   "metadata": {},
   "source": [
    "##### Export table with risk columns to csv "
   ]
  },
  {
   "cell_type": "code",
   "execution_count": null,
   "id": "afa539dd-bb4c-44f7-922f-79e2644631a5",
   "metadata": {},
   "outputs": [],
   "source": [
    "output_file=out_directory/'whisp_output_table_w_risk.csv' # edit as required\n",
    "\n",
    "df_w_risk.to_csv(output_file)\n"
   ]
  },
  {
   "cell_type": "markdown",
   "id": "4d350f25-0dc4-4c1f-99ab-9dcde029ff97",
   "metadata": {},
   "source": [
    "#### Add Geo ids (optional)\n",
    "##### Step 1. Register polygons:  compiles geo_ids in a lookup csv\n",
    "- NB registration takes a long time if many polygons (a few seconds each one). AgStack will update this in future. \n",
    "- If processing doesn't complete, just rerun this cell and it should pickup from where you left.\n",
    "- If registering many features you can also click dollar sign in bottom right of Sepal and under 'Sessions' heading extend the length as needed."
   ]
  },
  {
   "cell_type": "code",
   "execution_count": null,
   "id": "5a8405b8-23a4-466e-b9be-0791c7b47935",
   "metadata": {},
   "outputs": [],
   "source": [
    "register_fc_and_append_to_csv(\n",
    "    feature_col=roi,\n",
    "    geo_id_column=\"Geo_id\",\n",
    "    output_lookup_csv=out_directory/\"temp_geo_id_lookup.csv\",\n",
    "    join_id_column=\"system:index\",\n",
    "    override_checks=False,\n",
    "    remove_temp_csv=False,\n",
    "    debug=False)"
   ]
  },
  {
   "cell_type": "markdown",
   "id": "23f6c36d-3e62-4e95-9976-11e98215ee4e",
   "metadata": {},
   "source": [
    "##### Step 2. Join geo ids from lookup csv to Whisp stats csv"
   ]
  },
  {
   "cell_type": "code",
   "execution_count": null,
   "id": "4e5018ba-bf5d-41e3-9860-fb52c4c8c2d1",
   "metadata": {
    "scrolled": true
   },
   "outputs": [],
   "source": [
    "add_geo_ids_to_csv_from_lookup_csv(\n",
    "        input_csv=out_directory/\"whisp_output_table_w_risk.csv\",\n",
    "        geo_id_lookup_csv=out_directory/\"temp_geo_id_lookup.csv\",\n",
    "        join_id_column=\"system:index\",\n",
    "        geo_id_column=geo_id_column,\n",
    "        overwrite=False,\n",
    "        drop_geo=False,\n",
    "        debug=True)"
   ]
  },
  {
   "cell_type": "markdown",
   "id": "d3135797-0ac3-4b67-9584-f395436601bc",
   "metadata": {},
   "source": [
    "##### Optional: remove \"system:index\" column \n",
    "NB this is needed for joining geo_ids to csv (from lookup table). Check you have all your geo_ids first and if in doubt run on a copy of the results\n"
   ]
  },
  {
   "cell_type": "code",
   "execution_count": null,
   "id": "069233ff-db06-4d09-b423-4f7d83630013",
   "metadata": {},
   "outputs": [],
   "source": [
    "# remove_column_from_csv(\n",
    "#     csv_file=\"whisp_output_table_w_risk_w_geo_id.csv\", # this may change depending on if overwrite is on\n",
    "#     column_name=\"system:index\"\n",
    "# )"
   ]
  }
 ],
 "metadata": {
  "kernelspec": {
   "display_name": "Python 3",
   "language": "python",
   "name": "python3"
  },
  "language_info": {
   "codemirror_mode": {
    "name": "ipython",
    "version": 3
   },
   "file_extension": ".py",
   "mimetype": "text/x-python",
   "name": "python",
   "nbconvert_exporter": "python",
   "pygments_lexer": "ipython3",
   "version": "3.10.12"
  }
 },
 "nbformat": 4,
 "nbformat_minor": 5
}
